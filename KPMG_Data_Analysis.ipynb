{
  "nbformat": 4,
  "nbformat_minor": 0,
  "metadata": {
    "colab": {
      "name": "KPMG Data Analysis.ipynb",
      "provenance": [],
      "authorship_tag": "ABX9TyM07pLX56IfwPLFEGST0Jl4",
      "include_colab_link": true
    },
    "kernelspec": {
      "name": "python3",
      "display_name": "Python 3"
    }
  },
  "cells": [
    {
      "cell_type": "markdown",
      "metadata": {
        "id": "view-in-github",
        "colab_type": "text"
      },
      "source": [
        "<a href=\"https://colab.research.google.com/github/yaajnu/ColabNotebooks/blob/master/KPMG_Data_Analysis.ipynb\" target=\"_parent\"><img src=\"https://colab.research.google.com/assets/colab-badge.svg\" alt=\"Open In Colab\"/></a>"
      ]
    },
    {
      "cell_type": "code",
      "metadata": {
        "id": "dW49WWX-wkkZ",
        "colab_type": "code",
        "colab": {}
      },
      "source": [
        "import pandas as pd\n"
      ],
      "execution_count": null,
      "outputs": []
    },
    {
      "cell_type": "code",
      "metadata": {
        "id": "zlL2z7tkwqR8",
        "colab_type": "code",
        "colab": {
          "base_uri": "https://localhost:8080/",
          "height": 104
        },
        "outputId": "f1095918-8d45-4a24-b42e-d42755f83ffb"
      },
      "source": [
        "df=pd.ExcelFile('KPMG{STAGE 1).xlsx')\n",
        "df.sheet_names"
      ],
      "execution_count": null,
      "outputs": [
        {
          "output_type": "execute_result",
          "data": {
            "text/plain": [
              "['Title Sheet',\n",
              " 'Transactions',\n",
              " 'NewCustomerList',\n",
              " 'CustomerDemographic',\n",
              " 'CustomerAddress']"
            ]
          },
          "metadata": {
            "tags": []
          },
          "execution_count": 4
        }
      ]
    },
    {
      "cell_type": "code",
      "metadata": {
        "id": "C9Qn2FbZw2Hh",
        "colab_type": "code",
        "colab": {}
      },
      "source": [
        "df1=pd.read_excel(df,\"Transactions\",header=None,skiprows=1)\n",
        "df1.columns=df1.loc[0].values"
      ],
      "execution_count": null,
      "outputs": []
    },
    {
      "cell_type": "code",
      "metadata": {
        "id": "X6umIeVUxf0G",
        "colab_type": "code",
        "colab": {}
      },
      "source": [
        "df1.drop(0,inplace=True)"
      ],
      "execution_count": null,
      "outputs": []
    },
    {
      "cell_type": "code",
      "metadata": {
        "id": "1xW4AfNrx_bh",
        "colab_type": "code",
        "colab": {}
      },
      "source": [
        "df1=df1[df1['customer_id'].duplicated()]"
      ],
      "execution_count": null,
      "outputs": []
    },
    {
      "cell_type": "code",
      "metadata": {
        "id": "MXbQ0O8rVRYg",
        "colab_type": "code",
        "colab": {
          "base_uri": "https://localhost:8080/",
          "height": 617
        },
        "outputId": "eeb4e8d1-be60-4033-972f-6a7d42161a9d"
      },
      "source": [
        "df1"
      ],
      "execution_count": null,
      "outputs": [
        {
          "output_type": "execute_result",
          "data": {
            "text/html": [
              "<div>\n",
              "<style scoped>\n",
              "    .dataframe tbody tr th:only-of-type {\n",
              "        vertical-align: middle;\n",
              "    }\n",
              "\n",
              "    .dataframe tbody tr th {\n",
              "        vertical-align: top;\n",
              "    }\n",
              "\n",
              "    .dataframe thead th {\n",
              "        text-align: right;\n",
              "    }\n",
              "</style>\n",
              "<table border=\"1\" class=\"dataframe\">\n",
              "  <thead>\n",
              "    <tr style=\"text-align: right;\">\n",
              "      <th></th>\n",
              "      <th>transaction_id</th>\n",
              "      <th>product_id</th>\n",
              "      <th>customer_id</th>\n",
              "      <th>transaction_date</th>\n",
              "      <th>online_order</th>\n",
              "      <th>order_status</th>\n",
              "      <th>brand</th>\n",
              "      <th>product_line</th>\n",
              "      <th>product_class</th>\n",
              "      <th>product_size</th>\n",
              "      <th>list_price</th>\n",
              "      <th>standard_cost</th>\n",
              "      <th>product_first_sold_date</th>\n",
              "    </tr>\n",
              "  </thead>\n",
              "  <tbody>\n",
              "    <tr>\n",
              "      <th>1</th>\n",
              "      <td>1</td>\n",
              "      <td>2</td>\n",
              "      <td>2950</td>\n",
              "      <td>2017-02-25 00:00:00</td>\n",
              "      <td>False</td>\n",
              "      <td>Approved</td>\n",
              "      <td>Solex</td>\n",
              "      <td>Standard</td>\n",
              "      <td>medium</td>\n",
              "      <td>medium</td>\n",
              "      <td>71.49</td>\n",
              "      <td>53.62</td>\n",
              "      <td>41245</td>\n",
              "    </tr>\n",
              "    <tr>\n",
              "      <th>2</th>\n",
              "      <td>2</td>\n",
              "      <td>3</td>\n",
              "      <td>3120</td>\n",
              "      <td>2017-05-21 00:00:00</td>\n",
              "      <td>True</td>\n",
              "      <td>Approved</td>\n",
              "      <td>Trek Bicycles</td>\n",
              "      <td>Standard</td>\n",
              "      <td>medium</td>\n",
              "      <td>large</td>\n",
              "      <td>2091.47</td>\n",
              "      <td>388.92</td>\n",
              "      <td>41701</td>\n",
              "    </tr>\n",
              "    <tr>\n",
              "      <th>3</th>\n",
              "      <td>3</td>\n",
              "      <td>37</td>\n",
              "      <td>402</td>\n",
              "      <td>2017-10-16 00:00:00</td>\n",
              "      <td>False</td>\n",
              "      <td>Approved</td>\n",
              "      <td>OHM Cycles</td>\n",
              "      <td>Standard</td>\n",
              "      <td>low</td>\n",
              "      <td>medium</td>\n",
              "      <td>1793.43</td>\n",
              "      <td>248.82</td>\n",
              "      <td>36361</td>\n",
              "    </tr>\n",
              "    <tr>\n",
              "      <th>4</th>\n",
              "      <td>4</td>\n",
              "      <td>88</td>\n",
              "      <td>3135</td>\n",
              "      <td>2017-08-31 00:00:00</td>\n",
              "      <td>False</td>\n",
              "      <td>Approved</td>\n",
              "      <td>Norco Bicycles</td>\n",
              "      <td>Standard</td>\n",
              "      <td>medium</td>\n",
              "      <td>medium</td>\n",
              "      <td>1198.46</td>\n",
              "      <td>381.1</td>\n",
              "      <td>36145</td>\n",
              "    </tr>\n",
              "    <tr>\n",
              "      <th>5</th>\n",
              "      <td>5</td>\n",
              "      <td>78</td>\n",
              "      <td>787</td>\n",
              "      <td>2017-10-01 00:00:00</td>\n",
              "      <td>True</td>\n",
              "      <td>Approved</td>\n",
              "      <td>Giant Bicycles</td>\n",
              "      <td>Standard</td>\n",
              "      <td>medium</td>\n",
              "      <td>large</td>\n",
              "      <td>1765.3</td>\n",
              "      <td>709.48</td>\n",
              "      <td>42226</td>\n",
              "    </tr>\n",
              "    <tr>\n",
              "      <th>...</th>\n",
              "      <td>...</td>\n",
              "      <td>...</td>\n",
              "      <td>...</td>\n",
              "      <td>...</td>\n",
              "      <td>...</td>\n",
              "      <td>...</td>\n",
              "      <td>...</td>\n",
              "      <td>...</td>\n",
              "      <td>...</td>\n",
              "      <td>...</td>\n",
              "      <td>...</td>\n",
              "      <td>...</td>\n",
              "      <td>...</td>\n",
              "    </tr>\n",
              "    <tr>\n",
              "      <th>19996</th>\n",
              "      <td>19996</td>\n",
              "      <td>51</td>\n",
              "      <td>1018</td>\n",
              "      <td>2017-06-24 00:00:00</td>\n",
              "      <td>True</td>\n",
              "      <td>Approved</td>\n",
              "      <td>OHM Cycles</td>\n",
              "      <td>Standard</td>\n",
              "      <td>high</td>\n",
              "      <td>medium</td>\n",
              "      <td>2005.66</td>\n",
              "      <td>1203.4</td>\n",
              "      <td>37823</td>\n",
              "    </tr>\n",
              "    <tr>\n",
              "      <th>19997</th>\n",
              "      <td>19997</td>\n",
              "      <td>41</td>\n",
              "      <td>127</td>\n",
              "      <td>2017-11-09 00:00:00</td>\n",
              "      <td>True</td>\n",
              "      <td>Approved</td>\n",
              "      <td>Solex</td>\n",
              "      <td>Road</td>\n",
              "      <td>medium</td>\n",
              "      <td>medium</td>\n",
              "      <td>416.98</td>\n",
              "      <td>312.74</td>\n",
              "      <td>35560</td>\n",
              "    </tr>\n",
              "    <tr>\n",
              "      <th>19998</th>\n",
              "      <td>19998</td>\n",
              "      <td>87</td>\n",
              "      <td>2284</td>\n",
              "      <td>2017-04-14 00:00:00</td>\n",
              "      <td>True</td>\n",
              "      <td>Approved</td>\n",
              "      <td>OHM Cycles</td>\n",
              "      <td>Standard</td>\n",
              "      <td>medium</td>\n",
              "      <td>medium</td>\n",
              "      <td>1636.9</td>\n",
              "      <td>44.71</td>\n",
              "      <td>40410</td>\n",
              "    </tr>\n",
              "    <tr>\n",
              "      <th>19999</th>\n",
              "      <td>19999</td>\n",
              "      <td>6</td>\n",
              "      <td>2764</td>\n",
              "      <td>2017-07-03 00:00:00</td>\n",
              "      <td>False</td>\n",
              "      <td>Approved</td>\n",
              "      <td>OHM Cycles</td>\n",
              "      <td>Standard</td>\n",
              "      <td>high</td>\n",
              "      <td>medium</td>\n",
              "      <td>227.88</td>\n",
              "      <td>136.73</td>\n",
              "      <td>38216</td>\n",
              "    </tr>\n",
              "    <tr>\n",
              "      <th>20000</th>\n",
              "      <td>20000</td>\n",
              "      <td>11</td>\n",
              "      <td>1144</td>\n",
              "      <td>2017-09-22 00:00:00</td>\n",
              "      <td>True</td>\n",
              "      <td>Approved</td>\n",
              "      <td>Trek Bicycles</td>\n",
              "      <td>Standard</td>\n",
              "      <td>medium</td>\n",
              "      <td>small</td>\n",
              "      <td>1775.81</td>\n",
              "      <td>1580.47</td>\n",
              "      <td>36334</td>\n",
              "    </tr>\n",
              "  </tbody>\n",
              "</table>\n",
              "<p>20000 rows × 13 columns</p>\n",
              "</div>"
            ],
            "text/plain": [
              "      transaction_id product_id  ... standard_cost product_first_sold_date\n",
              "1                  1          2  ...         53.62                   41245\n",
              "2                  2          3  ...        388.92                   41701\n",
              "3                  3         37  ...        248.82                   36361\n",
              "4                  4         88  ...         381.1                   36145\n",
              "5                  5         78  ...        709.48                   42226\n",
              "...              ...        ...  ...           ...                     ...\n",
              "19996          19996         51  ...        1203.4                   37823\n",
              "19997          19997         41  ...        312.74                   35560\n",
              "19998          19998         87  ...         44.71                   40410\n",
              "19999          19999          6  ...        136.73                   38216\n",
              "20000          20000         11  ...       1580.47                   36334\n",
              "\n",
              "[20000 rows x 13 columns]"
            ]
          },
          "metadata": {
            "tags": []
          },
          "execution_count": 101
        }
      ]
    },
    {
      "cell_type": "code",
      "metadata": {
        "id": "ieG_HcuWKzkP",
        "colab_type": "code",
        "colab": {
          "base_uri": "https://localhost:8080/",
          "height": 34
        },
        "outputId": "039bac49-26d6-44cc-8816-73c1cf7a793a"
      },
      "source": [
        "df1['order_status'].unique()"
      ],
      "execution_count": null,
      "outputs": [
        {
          "output_type": "execute_result",
          "data": {
            "text/plain": [
              "array(['Approved', 'Cancelled'], dtype=object)"
            ]
          },
          "metadata": {
            "tags": []
          },
          "execution_count": 100
        }
      ]
    },
    {
      "cell_type": "code",
      "metadata": {
        "id": "vDSF3HCQLJZr",
        "colab_type": "code",
        "colab": {
          "base_uri": "https://localhost:8080/",
          "height": 34
        },
        "outputId": "269fbdc9-ebcd-47ce-be33-9d6151f424b2"
      },
      "source": [
        "len(df1['customer_id'].unique())"
      ],
      "execution_count": null,
      "outputs": [
        {
          "output_type": "execute_result",
          "data": {
            "text/plain": [
              "3494"
            ]
          },
          "metadata": {
            "tags": []
          },
          "execution_count": 19
        }
      ]
    },
    {
      "cell_type": "code",
      "metadata": {
        "id": "JY_W8boxz1qe",
        "colab_type": "code",
        "colab": {
          "base_uri": "https://localhost:8080/",
          "height": 260
        },
        "outputId": "58399eea-86af-42f8-d51f-0ae6414dfdd8"
      },
      "source": [
        "df1.isnull().sum()"
      ],
      "execution_count": null,
      "outputs": [
        {
          "output_type": "execute_result",
          "data": {
            "text/plain": [
              "transaction_id               0\n",
              "product_id                   0\n",
              "customer_id                  0\n",
              "transaction_date             0\n",
              "online_order               360\n",
              "order_status                 0\n",
              "brand                      197\n",
              "product_line               197\n",
              "product_class              197\n",
              "product_size               197\n",
              "list_price                   0\n",
              "standard_cost              197\n",
              "product_first_sold_date    197\n",
              "dtype: int64"
            ]
          },
          "metadata": {
            "tags": []
          },
          "execution_count": 13
        }
      ]
    },
    {
      "cell_type": "code",
      "metadata": {
        "id": "gbDkirm8z9oH",
        "colab_type": "code",
        "colab": {
          "base_uri": "https://localhost:8080/",
          "height": 424
        },
        "outputId": "64a7fdd8-176e-4920-da6f-b276a7ee3b79"
      },
      "source": [
        "df2=pd.read_excel(df,\"CustomerAddress\",header=None,skiprows=1)\n",
        "df2"
      ],
      "execution_count": null,
      "outputs": [
        {
          "output_type": "execute_result",
          "data": {
            "text/html": [
              "<div>\n",
              "<style scoped>\n",
              "    .dataframe tbody tr th:only-of-type {\n",
              "        vertical-align: middle;\n",
              "    }\n",
              "\n",
              "    .dataframe tbody tr th {\n",
              "        vertical-align: top;\n",
              "    }\n",
              "\n",
              "    .dataframe thead th {\n",
              "        text-align: right;\n",
              "    }\n",
              "</style>\n",
              "<table border=\"1\" class=\"dataframe\">\n",
              "  <thead>\n",
              "    <tr style=\"text-align: right;\">\n",
              "      <th></th>\n",
              "      <th>0</th>\n",
              "      <th>1</th>\n",
              "      <th>2</th>\n",
              "      <th>3</th>\n",
              "      <th>4</th>\n",
              "      <th>5</th>\n",
              "    </tr>\n",
              "  </thead>\n",
              "  <tbody>\n",
              "    <tr>\n",
              "      <th>0</th>\n",
              "      <td>customer_id</td>\n",
              "      <td>address</td>\n",
              "      <td>postcode</td>\n",
              "      <td>state</td>\n",
              "      <td>country</td>\n",
              "      <td>property_valuation</td>\n",
              "    </tr>\n",
              "    <tr>\n",
              "      <th>1</th>\n",
              "      <td>1</td>\n",
              "      <td>060 Morning Avenue</td>\n",
              "      <td>2016</td>\n",
              "      <td>New South Wales</td>\n",
              "      <td>Australia</td>\n",
              "      <td>10</td>\n",
              "    </tr>\n",
              "    <tr>\n",
              "      <th>2</th>\n",
              "      <td>2</td>\n",
              "      <td>6 Meadow Vale Court</td>\n",
              "      <td>2153</td>\n",
              "      <td>New South Wales</td>\n",
              "      <td>Australia</td>\n",
              "      <td>10</td>\n",
              "    </tr>\n",
              "    <tr>\n",
              "      <th>3</th>\n",
              "      <td>4</td>\n",
              "      <td>0 Holy Cross Court</td>\n",
              "      <td>4211</td>\n",
              "      <td>QLD</td>\n",
              "      <td>Australia</td>\n",
              "      <td>9</td>\n",
              "    </tr>\n",
              "    <tr>\n",
              "      <th>4</th>\n",
              "      <td>5</td>\n",
              "      <td>17979 Del Mar Point</td>\n",
              "      <td>2448</td>\n",
              "      <td>New South Wales</td>\n",
              "      <td>Australia</td>\n",
              "      <td>4</td>\n",
              "    </tr>\n",
              "    <tr>\n",
              "      <th>...</th>\n",
              "      <td>...</td>\n",
              "      <td>...</td>\n",
              "      <td>...</td>\n",
              "      <td>...</td>\n",
              "      <td>...</td>\n",
              "      <td>...</td>\n",
              "    </tr>\n",
              "    <tr>\n",
              "      <th>3995</th>\n",
              "      <td>3999</td>\n",
              "      <td>1482 Hauk Trail</td>\n",
              "      <td>3064</td>\n",
              "      <td>VIC</td>\n",
              "      <td>Australia</td>\n",
              "      <td>3</td>\n",
              "    </tr>\n",
              "    <tr>\n",
              "      <th>3996</th>\n",
              "      <td>4000</td>\n",
              "      <td>57042 Village Green Point</td>\n",
              "      <td>4511</td>\n",
              "      <td>QLD</td>\n",
              "      <td>Australia</td>\n",
              "      <td>6</td>\n",
              "    </tr>\n",
              "    <tr>\n",
              "      <th>3997</th>\n",
              "      <td>4001</td>\n",
              "      <td>87 Crescent Oaks Alley</td>\n",
              "      <td>2756</td>\n",
              "      <td>NSW</td>\n",
              "      <td>Australia</td>\n",
              "      <td>10</td>\n",
              "    </tr>\n",
              "    <tr>\n",
              "      <th>3998</th>\n",
              "      <td>4002</td>\n",
              "      <td>8194 Lien Street</td>\n",
              "      <td>4032</td>\n",
              "      <td>QLD</td>\n",
              "      <td>Australia</td>\n",
              "      <td>7</td>\n",
              "    </tr>\n",
              "    <tr>\n",
              "      <th>3999</th>\n",
              "      <td>4003</td>\n",
              "      <td>320 Acker Drive</td>\n",
              "      <td>2251</td>\n",
              "      <td>NSW</td>\n",
              "      <td>Australia</td>\n",
              "      <td>7</td>\n",
              "    </tr>\n",
              "  </tbody>\n",
              "</table>\n",
              "<p>4000 rows × 6 columns</p>\n",
              "</div>"
            ],
            "text/plain": [
              "                0                          1  ...          4                   5\n",
              "0     customer_id                    address  ...    country  property_valuation\n",
              "1               1         060 Morning Avenue  ...  Australia                  10\n",
              "2               2        6 Meadow Vale Court  ...  Australia                  10\n",
              "3               4         0 Holy Cross Court  ...  Australia                   9\n",
              "4               5        17979 Del Mar Point  ...  Australia                   4\n",
              "...           ...                        ...  ...        ...                 ...\n",
              "3995         3999            1482 Hauk Trail  ...  Australia                   3\n",
              "3996         4000  57042 Village Green Point  ...  Australia                   6\n",
              "3997         4001     87 Crescent Oaks Alley  ...  Australia                  10\n",
              "3998         4002           8194 Lien Street  ...  Australia                   7\n",
              "3999         4003            320 Acker Drive  ...  Australia                   7\n",
              "\n",
              "[4000 rows x 6 columns]"
            ]
          },
          "metadata": {
            "tags": []
          },
          "execution_count": 27
        }
      ]
    },
    {
      "cell_type": "code",
      "metadata": {
        "id": "xeJk9oQX0VC8",
        "colab_type": "code",
        "colab": {}
      },
      "source": [
        "df2.columns=df2.loc[0].values"
      ],
      "execution_count": null,
      "outputs": []
    },
    {
      "cell_type": "code",
      "metadata": {
        "id": "sYU4Yysf0ace",
        "colab_type": "code",
        "colab": {}
      },
      "source": [
        "df2=df2.drop(0)"
      ],
      "execution_count": null,
      "outputs": []
    },
    {
      "cell_type": "code",
      "metadata": {
        "id": "tCM6lout0r3n",
        "colab_type": "code",
        "colab": {
          "base_uri": "https://localhost:8080/",
          "height": 314
        },
        "outputId": "6e602a3a-4620-4425-8ff9-07d8fcdca035"
      },
      "source": [
        "df2[df2['postcode']==2047]"
      ],
      "execution_count": null,
      "outputs": [
        {
          "output_type": "execute_result",
          "data": {
            "text/html": [
              "<div>\n",
              "<style scoped>\n",
              "    .dataframe tbody tr th:only-of-type {\n",
              "        vertical-align: middle;\n",
              "    }\n",
              "\n",
              "    .dataframe tbody tr th {\n",
              "        vertical-align: top;\n",
              "    }\n",
              "\n",
              "    .dataframe thead th {\n",
              "        text-align: right;\n",
              "    }\n",
              "</style>\n",
              "<table border=\"1\" class=\"dataframe\">\n",
              "  <thead>\n",
              "    <tr style=\"text-align: right;\">\n",
              "      <th></th>\n",
              "      <th>customer_id</th>\n",
              "      <th>address</th>\n",
              "      <th>postcode</th>\n",
              "      <th>state</th>\n",
              "      <th>country</th>\n",
              "      <th>property_valuation</th>\n",
              "    </tr>\n",
              "  </thead>\n",
              "  <tbody>\n",
              "    <tr>\n",
              "      <th>46</th>\n",
              "      <td>0</td>\n",
              "      <td>957 Veith Junction</td>\n",
              "      <td>2047</td>\n",
              "      <td>New South Wales</td>\n",
              "      <td>Australia</td>\n",
              "      <td>10</td>\n",
              "    </tr>\n",
              "    <tr>\n",
              "      <th>385</th>\n",
              "      <td>0</td>\n",
              "      <td>8 Holy Cross Center</td>\n",
              "      <td>2047</td>\n",
              "      <td>NSW</td>\n",
              "      <td>Australia</td>\n",
              "      <td>9</td>\n",
              "    </tr>\n",
              "    <tr>\n",
              "      <th>1639</th>\n",
              "      <td>0</td>\n",
              "      <td>78 Bultman Junction</td>\n",
              "      <td>2047</td>\n",
              "      <td>NSW</td>\n",
              "      <td>Australia</td>\n",
              "      <td>10</td>\n",
              "    </tr>\n",
              "    <tr>\n",
              "      <th>1751</th>\n",
              "      <td>0</td>\n",
              "      <td>78 Jackson Point</td>\n",
              "      <td>2047</td>\n",
              "      <td>NSW</td>\n",
              "      <td>Australia</td>\n",
              "      <td>11</td>\n",
              "    </tr>\n",
              "    <tr>\n",
              "      <th>1785</th>\n",
              "      <td>0</td>\n",
              "      <td>0380 Chinook Avenue</td>\n",
              "      <td>2047</td>\n",
              "      <td>NSW</td>\n",
              "      <td>Australia</td>\n",
              "      <td>12</td>\n",
              "    </tr>\n",
              "    <tr>\n",
              "      <th>1862</th>\n",
              "      <td>0</td>\n",
              "      <td>007 Canary Circle</td>\n",
              "      <td>2047</td>\n",
              "      <td>NSW</td>\n",
              "      <td>Australia</td>\n",
              "      <td>12</td>\n",
              "    </tr>\n",
              "    <tr>\n",
              "      <th>2867</th>\n",
              "      <td>0</td>\n",
              "      <td>60717 Farmco Center</td>\n",
              "      <td>2047</td>\n",
              "      <td>NSW</td>\n",
              "      <td>Australia</td>\n",
              "      <td>12</td>\n",
              "    </tr>\n",
              "    <tr>\n",
              "      <th>3368</th>\n",
              "      <td>0</td>\n",
              "      <td>42554 Randy Road</td>\n",
              "      <td>2047</td>\n",
              "      <td>NSW</td>\n",
              "      <td>Australia</td>\n",
              "      <td>12</td>\n",
              "    </tr>\n",
              "    <tr>\n",
              "      <th>3783</th>\n",
              "      <td>0</td>\n",
              "      <td>1 Carey Crossing</td>\n",
              "      <td>2047</td>\n",
              "      <td>NSW</td>\n",
              "      <td>Australia</td>\n",
              "      <td>10</td>\n",
              "    </tr>\n",
              "  </tbody>\n",
              "</table>\n",
              "</div>"
            ],
            "text/plain": [
              "      customer_id              address  ...    country property_valuation\n",
              "46              0   957 Veith Junction  ...  Australia                 10\n",
              "385             0  8 Holy Cross Center  ...  Australia                  9\n",
              "1639            0  78 Bultman Junction  ...  Australia                 10\n",
              "1751            0     78 Jackson Point  ...  Australia                 11\n",
              "1785            0  0380 Chinook Avenue  ...  Australia                 12\n",
              "1862            0    007 Canary Circle  ...  Australia                 12\n",
              "2867            0  60717 Farmco Center  ...  Australia                 12\n",
              "3368            0     42554 Randy Road  ...  Australia                 12\n",
              "3783            0     1 Carey Crossing  ...  Australia                 10\n",
              "\n",
              "[9 rows x 6 columns]"
            ]
          },
          "metadata": {
            "tags": []
          },
          "execution_count": 20
        }
      ]
    },
    {
      "cell_type": "code",
      "metadata": {
        "id": "DdxiLG790snu",
        "colab_type": "code",
        "colab": {}
      },
      "source": [
        "df2['customer_id']=df2['customer_id'].apply(lambda x:x if x in list(df2[df2['customer_id'].duplicated()]['customer_id'].values) else 0)"
      ],
      "execution_count": null,
      "outputs": []
    },
    {
      "cell_type": "code",
      "metadata": {
        "id": "q3fME3s61_8V",
        "colab_type": "code",
        "colab": {}
      },
      "source": [
        "df2=df2.rename(columns={0:\"a\"})"
      ],
      "execution_count": null,
      "outputs": []
    },
    {
      "cell_type": "code",
      "metadata": {
        "id": "ckPuWZDv2hoA",
        "colab_type": "code",
        "colab": {
          "base_uri": "https://localhost:8080/",
          "height": 49
        },
        "outputId": "61010837-e865-40e4-e7ea-0a657c0abd51"
      },
      "source": [
        "df2[df2['customer_id']!=0]"
      ],
      "execution_count": null,
      "outputs": [
        {
          "output_type": "execute_result",
          "data": {
            "text/html": [
              "<div>\n",
              "<style scoped>\n",
              "    .dataframe tbody tr th:only-of-type {\n",
              "        vertical-align: middle;\n",
              "    }\n",
              "\n",
              "    .dataframe tbody tr th {\n",
              "        vertical-align: top;\n",
              "    }\n",
              "\n",
              "    .dataframe thead th {\n",
              "        text-align: right;\n",
              "    }\n",
              "</style>\n",
              "<table border=\"1\" class=\"dataframe\">\n",
              "  <thead>\n",
              "    <tr style=\"text-align: right;\">\n",
              "      <th></th>\n",
              "      <th>customer_id</th>\n",
              "      <th>address</th>\n",
              "      <th>postcode</th>\n",
              "      <th>state</th>\n",
              "      <th>country</th>\n",
              "      <th>property_valuation</th>\n",
              "    </tr>\n",
              "  </thead>\n",
              "  <tbody>\n",
              "  </tbody>\n",
              "</table>\n",
              "</div>"
            ],
            "text/plain": [
              "Empty DataFrame\n",
              "Columns: [customer_id, address, postcode, state, country, property_valuation]\n",
              "Index: []"
            ]
          },
          "metadata": {
            "tags": []
          },
          "execution_count": 25
        }
      ]
    },
    {
      "cell_type": "code",
      "metadata": {
        "id": "oHVSwTiE29d4",
        "colab_type": "code",
        "colab": {
          "base_uri": "https://localhost:8080/",
          "height": 424
        },
        "outputId": "4404b6dd-6dec-447f-95de-1a3b1c2e4b66"
      },
      "source": [
        "df2"
      ],
      "execution_count": null,
      "outputs": [
        {
          "output_type": "execute_result",
          "data": {
            "text/html": [
              "<div>\n",
              "<style scoped>\n",
              "    .dataframe tbody tr th:only-of-type {\n",
              "        vertical-align: middle;\n",
              "    }\n",
              "\n",
              "    .dataframe tbody tr th {\n",
              "        vertical-align: top;\n",
              "    }\n",
              "\n",
              "    .dataframe thead th {\n",
              "        text-align: right;\n",
              "    }\n",
              "</style>\n",
              "<table border=\"1\" class=\"dataframe\">\n",
              "  <thead>\n",
              "    <tr style=\"text-align: right;\">\n",
              "      <th></th>\n",
              "      <th>customer_id</th>\n",
              "      <th>address</th>\n",
              "      <th>postcode</th>\n",
              "      <th>state</th>\n",
              "      <th>country</th>\n",
              "      <th>property_valuation</th>\n",
              "    </tr>\n",
              "  </thead>\n",
              "  <tbody>\n",
              "    <tr>\n",
              "      <th>1</th>\n",
              "      <td>1</td>\n",
              "      <td>060 Morning Avenue</td>\n",
              "      <td>2016</td>\n",
              "      <td>New South Wales</td>\n",
              "      <td>Australia</td>\n",
              "      <td>10</td>\n",
              "    </tr>\n",
              "    <tr>\n",
              "      <th>2</th>\n",
              "      <td>2</td>\n",
              "      <td>6 Meadow Vale Court</td>\n",
              "      <td>2153</td>\n",
              "      <td>New South Wales</td>\n",
              "      <td>Australia</td>\n",
              "      <td>10</td>\n",
              "    </tr>\n",
              "    <tr>\n",
              "      <th>3</th>\n",
              "      <td>4</td>\n",
              "      <td>0 Holy Cross Court</td>\n",
              "      <td>4211</td>\n",
              "      <td>QLD</td>\n",
              "      <td>Australia</td>\n",
              "      <td>9</td>\n",
              "    </tr>\n",
              "    <tr>\n",
              "      <th>4</th>\n",
              "      <td>5</td>\n",
              "      <td>17979 Del Mar Point</td>\n",
              "      <td>2448</td>\n",
              "      <td>New South Wales</td>\n",
              "      <td>Australia</td>\n",
              "      <td>4</td>\n",
              "    </tr>\n",
              "    <tr>\n",
              "      <th>5</th>\n",
              "      <td>6</td>\n",
              "      <td>9 Oakridge Court</td>\n",
              "      <td>3216</td>\n",
              "      <td>VIC</td>\n",
              "      <td>Australia</td>\n",
              "      <td>9</td>\n",
              "    </tr>\n",
              "    <tr>\n",
              "      <th>...</th>\n",
              "      <td>...</td>\n",
              "      <td>...</td>\n",
              "      <td>...</td>\n",
              "      <td>...</td>\n",
              "      <td>...</td>\n",
              "      <td>...</td>\n",
              "    </tr>\n",
              "    <tr>\n",
              "      <th>3995</th>\n",
              "      <td>3999</td>\n",
              "      <td>1482 Hauk Trail</td>\n",
              "      <td>3064</td>\n",
              "      <td>VIC</td>\n",
              "      <td>Australia</td>\n",
              "      <td>3</td>\n",
              "    </tr>\n",
              "    <tr>\n",
              "      <th>3996</th>\n",
              "      <td>4000</td>\n",
              "      <td>57042 Village Green Point</td>\n",
              "      <td>4511</td>\n",
              "      <td>QLD</td>\n",
              "      <td>Australia</td>\n",
              "      <td>6</td>\n",
              "    </tr>\n",
              "    <tr>\n",
              "      <th>3997</th>\n",
              "      <td>4001</td>\n",
              "      <td>87 Crescent Oaks Alley</td>\n",
              "      <td>2756</td>\n",
              "      <td>NSW</td>\n",
              "      <td>Australia</td>\n",
              "      <td>10</td>\n",
              "    </tr>\n",
              "    <tr>\n",
              "      <th>3998</th>\n",
              "      <td>4002</td>\n",
              "      <td>8194 Lien Street</td>\n",
              "      <td>4032</td>\n",
              "      <td>QLD</td>\n",
              "      <td>Australia</td>\n",
              "      <td>7</td>\n",
              "    </tr>\n",
              "    <tr>\n",
              "      <th>3999</th>\n",
              "      <td>4003</td>\n",
              "      <td>320 Acker Drive</td>\n",
              "      <td>2251</td>\n",
              "      <td>NSW</td>\n",
              "      <td>Australia</td>\n",
              "      <td>7</td>\n",
              "    </tr>\n",
              "  </tbody>\n",
              "</table>\n",
              "<p>3999 rows × 6 columns</p>\n",
              "</div>"
            ],
            "text/plain": [
              "     customer_id                    address  ...    country property_valuation\n",
              "1              1         060 Morning Avenue  ...  Australia                 10\n",
              "2              2        6 Meadow Vale Court  ...  Australia                 10\n",
              "3              4         0 Holy Cross Court  ...  Australia                  9\n",
              "4              5        17979 Del Mar Point  ...  Australia                  4\n",
              "5              6           9 Oakridge Court  ...  Australia                  9\n",
              "...          ...                        ...  ...        ...                ...\n",
              "3995        3999            1482 Hauk Trail  ...  Australia                  3\n",
              "3996        4000  57042 Village Green Point  ...  Australia                  6\n",
              "3997        4001     87 Crescent Oaks Alley  ...  Australia                 10\n",
              "3998        4002           8194 Lien Street  ...  Australia                  7\n",
              "3999        4003            320 Acker Drive  ...  Australia                  7\n",
              "\n",
              "[3999 rows x 6 columns]"
            ]
          },
          "metadata": {
            "tags": []
          },
          "execution_count": 88
        }
      ]
    },
    {
      "cell_type": "code",
      "metadata": {
        "id": "bAUSYcuG4zB-",
        "colab_type": "code",
        "colab": {}
      },
      "source": [
        "import numpy as np\n"
      ],
      "execution_count": null,
      "outputs": []
    },
    {
      "cell_type": "code",
      "metadata": {
        "id": "kozvkA1E4999",
        "colab_type": "code",
        "colab": {
          "base_uri": "https://localhost:8080/",
          "height": 139
        },
        "outputId": "19377e08-f3a7-49e4-b97e-cefd58c7cb32"
      },
      "source": [
        "df2.isnull().sum()\n",
        "\n"
      ],
      "execution_count": null,
      "outputs": [
        {
          "output_type": "execute_result",
          "data": {
            "text/plain": [
              "customer_id           0\n",
              "address               0\n",
              "postcode              0\n",
              "state                 0\n",
              "country               0\n",
              "property_valuation    0\n",
              "dtype: int64"
            ]
          },
          "metadata": {
            "tags": []
          },
          "execution_count": 38
        }
      ]
    },
    {
      "cell_type": "code",
      "metadata": {
        "id": "pe-Z4QqB50wV",
        "colab_type": "code",
        "colab": {}
      },
      "source": [
        "df2.replace('  ', np.nan, inplace=True)\n"
      ],
      "execution_count": null,
      "outputs": []
    },
    {
      "cell_type": "code",
      "metadata": {
        "id": "jF43M43r6XoY",
        "colab_type": "code",
        "colab": {
          "base_uri": "https://localhost:8080/",
          "height": 600
        },
        "outputId": "849509ce-2db1-406f-e9e8-5196489b4392"
      },
      "source": [
        "df3=pd.read_excel(df,'CustomerDemographic',header=None,skiprows=1)\n",
        "df3"
      ],
      "execution_count": null,
      "outputs": [
        {
          "output_type": "execute_result",
          "data": {
            "text/html": [
              "<div>\n",
              "<style scoped>\n",
              "    .dataframe tbody tr th:only-of-type {\n",
              "        vertical-align: middle;\n",
              "    }\n",
              "\n",
              "    .dataframe tbody tr th {\n",
              "        vertical-align: top;\n",
              "    }\n",
              "\n",
              "    .dataframe thead th {\n",
              "        text-align: right;\n",
              "    }\n",
              "</style>\n",
              "<table border=\"1\" class=\"dataframe\">\n",
              "  <thead>\n",
              "    <tr style=\"text-align: right;\">\n",
              "      <th></th>\n",
              "      <th>0</th>\n",
              "      <th>1</th>\n",
              "      <th>2</th>\n",
              "      <th>3</th>\n",
              "      <th>4</th>\n",
              "      <th>5</th>\n",
              "      <th>6</th>\n",
              "      <th>7</th>\n",
              "      <th>8</th>\n",
              "      <th>9</th>\n",
              "      <th>10</th>\n",
              "      <th>11</th>\n",
              "      <th>12</th>\n",
              "    </tr>\n",
              "  </thead>\n",
              "  <tbody>\n",
              "    <tr>\n",
              "      <th>0</th>\n",
              "      <td>customer_id</td>\n",
              "      <td>first_name</td>\n",
              "      <td>last_name</td>\n",
              "      <td>gender</td>\n",
              "      <td>past_3_years_bike_related_purchases</td>\n",
              "      <td>DOB</td>\n",
              "      <td>job_title</td>\n",
              "      <td>job_industry_category</td>\n",
              "      <td>wealth_segment</td>\n",
              "      <td>deceased_indicator</td>\n",
              "      <td>default</td>\n",
              "      <td>owns_car</td>\n",
              "      <td>tenure</td>\n",
              "    </tr>\n",
              "    <tr>\n",
              "      <th>1</th>\n",
              "      <td>1</td>\n",
              "      <td>Laraine</td>\n",
              "      <td>Medendorp</td>\n",
              "      <td>F</td>\n",
              "      <td>93</td>\n",
              "      <td>1953-10-12 00:00:00</td>\n",
              "      <td>Executive Secretary</td>\n",
              "      <td>Health</td>\n",
              "      <td>Mass Customer</td>\n",
              "      <td>N</td>\n",
              "      <td>\"'</td>\n",
              "      <td>Yes</td>\n",
              "      <td>11</td>\n",
              "    </tr>\n",
              "    <tr>\n",
              "      <th>2</th>\n",
              "      <td>2</td>\n",
              "      <td>Eli</td>\n",
              "      <td>Bockman</td>\n",
              "      <td>Male</td>\n",
              "      <td>81</td>\n",
              "      <td>1980-12-16 00:00:00</td>\n",
              "      <td>Administrative Officer</td>\n",
              "      <td>Financial Services</td>\n",
              "      <td>Mass Customer</td>\n",
              "      <td>N</td>\n",
              "      <td>&lt;script&gt;alert('hi')&lt;/script&gt;</td>\n",
              "      <td>Yes</td>\n",
              "      <td>16</td>\n",
              "    </tr>\n",
              "    <tr>\n",
              "      <th>3</th>\n",
              "      <td>3</td>\n",
              "      <td>Arlin</td>\n",
              "      <td>Dearle</td>\n",
              "      <td>Male</td>\n",
              "      <td>61</td>\n",
              "      <td>1954-01-20 00:00:00</td>\n",
              "      <td>Recruiting Manager</td>\n",
              "      <td>Property</td>\n",
              "      <td>Mass Customer</td>\n",
              "      <td>N</td>\n",
              "      <td>2018-02-01 00:00:00</td>\n",
              "      <td>Yes</td>\n",
              "      <td>15</td>\n",
              "    </tr>\n",
              "    <tr>\n",
              "      <th>4</th>\n",
              "      <td>4</td>\n",
              "      <td>Talbot</td>\n",
              "      <td>NaN</td>\n",
              "      <td>Male</td>\n",
              "      <td>33</td>\n",
              "      <td>1961-10-03 00:00:00</td>\n",
              "      <td>NaN</td>\n",
              "      <td>IT</td>\n",
              "      <td>Mass Customer</td>\n",
              "      <td>N</td>\n",
              "      <td>() { _; } &gt;_[$($())] { touch /tmp/blns.shellsh...</td>\n",
              "      <td>No</td>\n",
              "      <td>7</td>\n",
              "    </tr>\n",
              "    <tr>\n",
              "      <th>...</th>\n",
              "      <td>...</td>\n",
              "      <td>...</td>\n",
              "      <td>...</td>\n",
              "      <td>...</td>\n",
              "      <td>...</td>\n",
              "      <td>...</td>\n",
              "      <td>...</td>\n",
              "      <td>...</td>\n",
              "      <td>...</td>\n",
              "      <td>...</td>\n",
              "      <td>...</td>\n",
              "      <td>...</td>\n",
              "      <td>...</td>\n",
              "    </tr>\n",
              "    <tr>\n",
              "      <th>3996</th>\n",
              "      <td>3996</td>\n",
              "      <td>Rosalia</td>\n",
              "      <td>Halgarth</td>\n",
              "      <td>Female</td>\n",
              "      <td>8</td>\n",
              "      <td>1975-08-09 00:00:00</td>\n",
              "      <td>VP Product Management</td>\n",
              "      <td>Health</td>\n",
              "      <td>Mass Customer</td>\n",
              "      <td>N</td>\n",
              "      <td>-100</td>\n",
              "      <td>No</td>\n",
              "      <td>19</td>\n",
              "    </tr>\n",
              "    <tr>\n",
              "      <th>3997</th>\n",
              "      <td>3997</td>\n",
              "      <td>Blanch</td>\n",
              "      <td>Nisuis</td>\n",
              "      <td>Female</td>\n",
              "      <td>87</td>\n",
              "      <td>2001-07-13 00:00:00</td>\n",
              "      <td>Statistician II</td>\n",
              "      <td>Manufacturing</td>\n",
              "      <td>High Net Worth</td>\n",
              "      <td>N</td>\n",
              "      <td>â¦testâ§</td>\n",
              "      <td>Yes</td>\n",
              "      <td>1</td>\n",
              "    </tr>\n",
              "    <tr>\n",
              "      <th>3998</th>\n",
              "      <td>3998</td>\n",
              "      <td>Sarene</td>\n",
              "      <td>Woolley</td>\n",
              "      <td>U</td>\n",
              "      <td>60</td>\n",
              "      <td>NaN</td>\n",
              "      <td>Assistant Manager</td>\n",
              "      <td>IT</td>\n",
              "      <td>High Net Worth</td>\n",
              "      <td>N</td>\n",
              "      <td>NaN</td>\n",
              "      <td>No</td>\n",
              "      <td>NaN</td>\n",
              "    </tr>\n",
              "    <tr>\n",
              "      <th>3999</th>\n",
              "      <td>3999</td>\n",
              "      <td>Patrizius</td>\n",
              "      <td>NaN</td>\n",
              "      <td>Male</td>\n",
              "      <td>11</td>\n",
              "      <td>1973-10-24 00:00:00</td>\n",
              "      <td>NaN</td>\n",
              "      <td>Manufacturing</td>\n",
              "      <td>Affluent Customer</td>\n",
              "      <td>N</td>\n",
              "      <td>Â¡â¢Â£Â¢âÂ§Â¶â¢ÂªÂºââ</td>\n",
              "      <td>Yes</td>\n",
              "      <td>10</td>\n",
              "    </tr>\n",
              "    <tr>\n",
              "      <th>4000</th>\n",
              "      <td>4000</td>\n",
              "      <td>Kippy</td>\n",
              "      <td>Oldland</td>\n",
              "      <td>Male</td>\n",
              "      <td>76</td>\n",
              "      <td>1991-11-05 00:00:00</td>\n",
              "      <td>Software Engineer IV</td>\n",
              "      <td>NaN</td>\n",
              "      <td>Affluent Customer</td>\n",
              "      <td>N</td>\n",
              "      <td>0/0</td>\n",
              "      <td>No</td>\n",
              "      <td>11</td>\n",
              "    </tr>\n",
              "  </tbody>\n",
              "</table>\n",
              "<p>4001 rows × 13 columns</p>\n",
              "</div>"
            ],
            "text/plain": [
              "               0           1   ...        11      12\n",
              "0     customer_id  first_name  ...  owns_car  tenure\n",
              "1               1     Laraine  ...       Yes      11\n",
              "2               2         Eli  ...       Yes      16\n",
              "3               3       Arlin  ...       Yes      15\n",
              "4               4      Talbot  ...        No       7\n",
              "...           ...         ...  ...       ...     ...\n",
              "3996         3996     Rosalia  ...        No      19\n",
              "3997         3997      Blanch  ...       Yes       1\n",
              "3998         3998      Sarene  ...        No     NaN\n",
              "3999         3999   Patrizius  ...       Yes      10\n",
              "4000         4000       Kippy  ...        No      11\n",
              "\n",
              "[4001 rows x 13 columns]"
            ]
          },
          "metadata": {
            "tags": []
          },
          "execution_count": 40
        }
      ]
    },
    {
      "cell_type": "code",
      "metadata": {
        "id": "NI0m6Xu1L9c9",
        "colab_type": "code",
        "colab": {
          "base_uri": "https://localhost:8080/",
          "height": 600
        },
        "outputId": "87d8212d-54f2-4bee-bb5c-0292a3c516ed"
      },
      "source": [
        "df3.columns=df3.loc[0].values\n",
        "df3"
      ],
      "execution_count": null,
      "outputs": [
        {
          "output_type": "execute_result",
          "data": {
            "text/html": [
              "<div>\n",
              "<style scoped>\n",
              "    .dataframe tbody tr th:only-of-type {\n",
              "        vertical-align: middle;\n",
              "    }\n",
              "\n",
              "    .dataframe tbody tr th {\n",
              "        vertical-align: top;\n",
              "    }\n",
              "\n",
              "    .dataframe thead th {\n",
              "        text-align: right;\n",
              "    }\n",
              "</style>\n",
              "<table border=\"1\" class=\"dataframe\">\n",
              "  <thead>\n",
              "    <tr style=\"text-align: right;\">\n",
              "      <th></th>\n",
              "      <th>customer_id</th>\n",
              "      <th>first_name</th>\n",
              "      <th>last_name</th>\n",
              "      <th>gender</th>\n",
              "      <th>past_3_years_bike_related_purchases</th>\n",
              "      <th>DOB</th>\n",
              "      <th>job_title</th>\n",
              "      <th>job_industry_category</th>\n",
              "      <th>wealth_segment</th>\n",
              "      <th>deceased_indicator</th>\n",
              "      <th>default</th>\n",
              "      <th>owns_car</th>\n",
              "      <th>tenure</th>\n",
              "    </tr>\n",
              "  </thead>\n",
              "  <tbody>\n",
              "    <tr>\n",
              "      <th>0</th>\n",
              "      <td>customer_id</td>\n",
              "      <td>first_name</td>\n",
              "      <td>last_name</td>\n",
              "      <td>gender</td>\n",
              "      <td>past_3_years_bike_related_purchases</td>\n",
              "      <td>DOB</td>\n",
              "      <td>job_title</td>\n",
              "      <td>job_industry_category</td>\n",
              "      <td>wealth_segment</td>\n",
              "      <td>deceased_indicator</td>\n",
              "      <td>default</td>\n",
              "      <td>owns_car</td>\n",
              "      <td>tenure</td>\n",
              "    </tr>\n",
              "    <tr>\n",
              "      <th>1</th>\n",
              "      <td>1</td>\n",
              "      <td>Laraine</td>\n",
              "      <td>Medendorp</td>\n",
              "      <td>F</td>\n",
              "      <td>93</td>\n",
              "      <td>1953-10-12 00:00:00</td>\n",
              "      <td>Executive Secretary</td>\n",
              "      <td>Health</td>\n",
              "      <td>Mass Customer</td>\n",
              "      <td>N</td>\n",
              "      <td>\"'</td>\n",
              "      <td>Yes</td>\n",
              "      <td>11</td>\n",
              "    </tr>\n",
              "    <tr>\n",
              "      <th>2</th>\n",
              "      <td>2</td>\n",
              "      <td>Eli</td>\n",
              "      <td>Bockman</td>\n",
              "      <td>Male</td>\n",
              "      <td>81</td>\n",
              "      <td>1980-12-16 00:00:00</td>\n",
              "      <td>Administrative Officer</td>\n",
              "      <td>Financial Services</td>\n",
              "      <td>Mass Customer</td>\n",
              "      <td>N</td>\n",
              "      <td>&lt;script&gt;alert('hi')&lt;/script&gt;</td>\n",
              "      <td>Yes</td>\n",
              "      <td>16</td>\n",
              "    </tr>\n",
              "    <tr>\n",
              "      <th>3</th>\n",
              "      <td>3</td>\n",
              "      <td>Arlin</td>\n",
              "      <td>Dearle</td>\n",
              "      <td>Male</td>\n",
              "      <td>61</td>\n",
              "      <td>1954-01-20 00:00:00</td>\n",
              "      <td>Recruiting Manager</td>\n",
              "      <td>Property</td>\n",
              "      <td>Mass Customer</td>\n",
              "      <td>N</td>\n",
              "      <td>2018-02-01 00:00:00</td>\n",
              "      <td>Yes</td>\n",
              "      <td>15</td>\n",
              "    </tr>\n",
              "    <tr>\n",
              "      <th>4</th>\n",
              "      <td>4</td>\n",
              "      <td>Talbot</td>\n",
              "      <td>NaN</td>\n",
              "      <td>Male</td>\n",
              "      <td>33</td>\n",
              "      <td>1961-10-03 00:00:00</td>\n",
              "      <td>NaN</td>\n",
              "      <td>IT</td>\n",
              "      <td>Mass Customer</td>\n",
              "      <td>N</td>\n",
              "      <td>() { _; } &gt;_[$($())] { touch /tmp/blns.shellsh...</td>\n",
              "      <td>No</td>\n",
              "      <td>7</td>\n",
              "    </tr>\n",
              "    <tr>\n",
              "      <th>...</th>\n",
              "      <td>...</td>\n",
              "      <td>...</td>\n",
              "      <td>...</td>\n",
              "      <td>...</td>\n",
              "      <td>...</td>\n",
              "      <td>...</td>\n",
              "      <td>...</td>\n",
              "      <td>...</td>\n",
              "      <td>...</td>\n",
              "      <td>...</td>\n",
              "      <td>...</td>\n",
              "      <td>...</td>\n",
              "      <td>...</td>\n",
              "    </tr>\n",
              "    <tr>\n",
              "      <th>3996</th>\n",
              "      <td>3996</td>\n",
              "      <td>Rosalia</td>\n",
              "      <td>Halgarth</td>\n",
              "      <td>Female</td>\n",
              "      <td>8</td>\n",
              "      <td>1975-08-09 00:00:00</td>\n",
              "      <td>VP Product Management</td>\n",
              "      <td>Health</td>\n",
              "      <td>Mass Customer</td>\n",
              "      <td>N</td>\n",
              "      <td>-100</td>\n",
              "      <td>No</td>\n",
              "      <td>19</td>\n",
              "    </tr>\n",
              "    <tr>\n",
              "      <th>3997</th>\n",
              "      <td>3997</td>\n",
              "      <td>Blanch</td>\n",
              "      <td>Nisuis</td>\n",
              "      <td>Female</td>\n",
              "      <td>87</td>\n",
              "      <td>2001-07-13 00:00:00</td>\n",
              "      <td>Statistician II</td>\n",
              "      <td>Manufacturing</td>\n",
              "      <td>High Net Worth</td>\n",
              "      <td>N</td>\n",
              "      <td>â¦testâ§</td>\n",
              "      <td>Yes</td>\n",
              "      <td>1</td>\n",
              "    </tr>\n",
              "    <tr>\n",
              "      <th>3998</th>\n",
              "      <td>3998</td>\n",
              "      <td>Sarene</td>\n",
              "      <td>Woolley</td>\n",
              "      <td>U</td>\n",
              "      <td>60</td>\n",
              "      <td>NaN</td>\n",
              "      <td>Assistant Manager</td>\n",
              "      <td>IT</td>\n",
              "      <td>High Net Worth</td>\n",
              "      <td>N</td>\n",
              "      <td>NaN</td>\n",
              "      <td>No</td>\n",
              "      <td>NaN</td>\n",
              "    </tr>\n",
              "    <tr>\n",
              "      <th>3999</th>\n",
              "      <td>3999</td>\n",
              "      <td>Patrizius</td>\n",
              "      <td>NaN</td>\n",
              "      <td>Male</td>\n",
              "      <td>11</td>\n",
              "      <td>1973-10-24 00:00:00</td>\n",
              "      <td>NaN</td>\n",
              "      <td>Manufacturing</td>\n",
              "      <td>Affluent Customer</td>\n",
              "      <td>N</td>\n",
              "      <td>Â¡â¢Â£Â¢âÂ§Â¶â¢ÂªÂºââ</td>\n",
              "      <td>Yes</td>\n",
              "      <td>10</td>\n",
              "    </tr>\n",
              "    <tr>\n",
              "      <th>4000</th>\n",
              "      <td>4000</td>\n",
              "      <td>Kippy</td>\n",
              "      <td>Oldland</td>\n",
              "      <td>Male</td>\n",
              "      <td>76</td>\n",
              "      <td>1991-11-05 00:00:00</td>\n",
              "      <td>Software Engineer IV</td>\n",
              "      <td>NaN</td>\n",
              "      <td>Affluent Customer</td>\n",
              "      <td>N</td>\n",
              "      <td>0/0</td>\n",
              "      <td>No</td>\n",
              "      <td>11</td>\n",
              "    </tr>\n",
              "  </tbody>\n",
              "</table>\n",
              "<p>4001 rows × 13 columns</p>\n",
              "</div>"
            ],
            "text/plain": [
              "      customer_id  first_name  ...  owns_car  tenure\n",
              "0     customer_id  first_name  ...  owns_car  tenure\n",
              "1               1     Laraine  ...       Yes      11\n",
              "2               2         Eli  ...       Yes      16\n",
              "3               3       Arlin  ...       Yes      15\n",
              "4               4      Talbot  ...        No       7\n",
              "...           ...         ...  ...       ...     ...\n",
              "3996         3996     Rosalia  ...        No      19\n",
              "3997         3997      Blanch  ...       Yes       1\n",
              "3998         3998      Sarene  ...        No     NaN\n",
              "3999         3999   Patrizius  ...       Yes      10\n",
              "4000         4000       Kippy  ...        No      11\n",
              "\n",
              "[4001 rows x 13 columns]"
            ]
          },
          "metadata": {
            "tags": []
          },
          "execution_count": 41
        }
      ]
    },
    {
      "cell_type": "code",
      "metadata": {
        "id": "11Re5158MGM-",
        "colab_type": "code",
        "colab": {}
      },
      "source": [
        "df3=df3.drop('default',axis=1)"
      ],
      "execution_count": null,
      "outputs": []
    },
    {
      "cell_type": "code",
      "metadata": {
        "id": "sUUyE5frMJIf",
        "colab_type": "code",
        "colab": {
          "base_uri": "https://localhost:8080/",
          "height": 243
        },
        "outputId": "c24e87af-283a-4e30-852a-e4522b67002b"
      },
      "source": [
        "df3.isnull().sum()"
      ],
      "execution_count": null,
      "outputs": [
        {
          "output_type": "execute_result",
          "data": {
            "text/plain": [
              "customer_id                              0\n",
              "first_name                               0\n",
              "last_name                              125\n",
              "gender                                   0\n",
              "past_3_years_bike_related_purchases      0\n",
              "DOB                                     87\n",
              "job_title                              506\n",
              "job_industry_category                  656\n",
              "wealth_segment                           0\n",
              "deceased_indicator                       0\n",
              "owns_car                                 0\n",
              "tenure                                  87\n",
              "dtype: int64"
            ]
          },
          "metadata": {
            "tags": []
          },
          "execution_count": 48
        }
      ]
    },
    {
      "cell_type": "code",
      "metadata": {
        "id": "TN9g2s3rOfcf",
        "colab_type": "code",
        "colab": {
          "base_uri": "https://localhost:8080/",
          "height": 167
        },
        "outputId": "fa4a8a32-3909-4a54-dabe-779e0f867f4f"
      },
      "source": [
        "df3[df3['deceased_indicator']=='Y']\n"
      ],
      "execution_count": null,
      "outputs": [
        {
          "output_type": "execute_result",
          "data": {
            "text/html": [
              "<div>\n",
              "<style scoped>\n",
              "    .dataframe tbody tr th:only-of-type {\n",
              "        vertical-align: middle;\n",
              "    }\n",
              "\n",
              "    .dataframe tbody tr th {\n",
              "        vertical-align: top;\n",
              "    }\n",
              "\n",
              "    .dataframe thead th {\n",
              "        text-align: right;\n",
              "    }\n",
              "</style>\n",
              "<table border=\"1\" class=\"dataframe\">\n",
              "  <thead>\n",
              "    <tr style=\"text-align: right;\">\n",
              "      <th></th>\n",
              "      <th>customer_id</th>\n",
              "      <th>first_name</th>\n",
              "      <th>last_name</th>\n",
              "      <th>gender</th>\n",
              "      <th>past_3_years_bike_related_purchases</th>\n",
              "      <th>DOB</th>\n",
              "      <th>job_title</th>\n",
              "      <th>job_industry_category</th>\n",
              "      <th>wealth_segment</th>\n",
              "      <th>deceased_indicator</th>\n",
              "      <th>owns_car</th>\n",
              "      <th>tenure</th>\n",
              "    </tr>\n",
              "  </thead>\n",
              "  <tbody>\n",
              "    <tr>\n",
              "      <th>753</th>\n",
              "      <td>753</td>\n",
              "      <td>Josy</td>\n",
              "      <td>St. Quentin</td>\n",
              "      <td>Female</td>\n",
              "      <td>82</td>\n",
              "      <td>1970-03-07 00:00:00</td>\n",
              "      <td>Food Chemist</td>\n",
              "      <td>Health</td>\n",
              "      <td>Affluent Customer</td>\n",
              "      <td>Y</td>\n",
              "      <td>Yes</td>\n",
              "      <td>6</td>\n",
              "    </tr>\n",
              "    <tr>\n",
              "      <th>3790</th>\n",
              "      <td>3790</td>\n",
              "      <td>Kurtis</td>\n",
              "      <td>Morson</td>\n",
              "      <td>Male</td>\n",
              "      <td>91</td>\n",
              "      <td>1959-05-31 00:00:00</td>\n",
              "      <td>Senior Editor</td>\n",
              "      <td>Retail</td>\n",
              "      <td>Mass Customer</td>\n",
              "      <td>Y</td>\n",
              "      <td>Yes</td>\n",
              "      <td>9</td>\n",
              "    </tr>\n",
              "  </tbody>\n",
              "</table>\n",
              "</div>"
            ],
            "text/plain": [
              "     customer_id first_name    last_name  ... deceased_indicator owns_car tenure\n",
              "753          753       Josy  St. Quentin  ...                  Y      Yes      6\n",
              "3790        3790     Kurtis       Morson  ...                  Y      Yes      9\n",
              "\n",
              "[2 rows x 12 columns]"
            ]
          },
          "metadata": {
            "tags": []
          },
          "execution_count": 47
        }
      ]
    },
    {
      "cell_type": "code",
      "metadata": {
        "id": "HeWw94y7MV-0",
        "colab_type": "code",
        "colab": {
          "base_uri": "https://localhost:8080/",
          "height": 286
        },
        "outputId": "e62c1738-a801-4ab5-8986-a9d9aa8cfef9"
      },
      "source": [
        "df3['default'].head(15)"
      ],
      "execution_count": null,
      "outputs": [
        {
          "output_type": "execute_result",
          "data": {
            "text/plain": [
              "1                                                    \"'\n",
              "2                          <script>alert('hi')</script>\n",
              "3                                   2018-02-01 00:00:00\n",
              "4     () { _; } >_[$($())] { touch /tmp/blns.shellsh...\n",
              "5                                                   NIL\n",
              "6                                              ðµ ð ð ð\n",
              "7                                             â°â´âµâââ\n",
              "8                               (â¯Â°â¡Â°ï¼â¯ï¸µ â»ââ»)\n",
              "9                                                   0/0\n",
              "10                                                 ð©ð½\n",
              "11                                   ÅâÂ´Â®â Â¥Â¨ËÃ¸Ïââ\n",
              "12                                                  nil\n",
              "13                                                 -100\n",
              "14                                               â°â´âµ\n",
              "15                                                    ð\n",
              "Name: default, dtype: object"
            ]
          },
          "metadata": {
            "tags": []
          },
          "execution_count": 32
        }
      ]
    },
    {
      "cell_type": "code",
      "metadata": {
        "id": "1Ian5IezQQah",
        "colab_type": "code",
        "colab": {
          "base_uri": "https://localhost:8080/",
          "height": 34
        },
        "outputId": "2b5bb0e6-63e6-419c-ef75-4fc6b6c4d585"
      },
      "source": [
        "df3['gender'].unique()"
      ],
      "execution_count": null,
      "outputs": [
        {
          "output_type": "execute_result",
          "data": {
            "text/plain": [
              "array(['F', 'M', 'U'], dtype=object)"
            ]
          },
          "metadata": {
            "tags": []
          },
          "execution_count": 53
        }
      ]
    },
    {
      "cell_type": "code",
      "metadata": {
        "id": "9lmh-B6EwINq",
        "colab_type": "code",
        "colab": {
          "base_uri": "https://localhost:8080/",
          "height": 225
        },
        "outputId": "f2b4c532-48bc-4ab6-e505-a8581c01f0de"
      },
      "source": [
        "df3['gender']=df3['gender'].apply(lambda x:'F' if x in['F','Female','Femal'] else x)\n"
      ],
      "execution_count": null,
      "outputs": [
        {
          "output_type": "execute_result",
          "data": {
            "text/plain": [
              "1          F\n",
              "2       Male\n",
              "3       Male\n",
              "4       Male\n",
              "5          F\n",
              "        ... \n",
              "3996       F\n",
              "3997       F\n",
              "3998       U\n",
              "3999    Male\n",
              "4000    Male\n",
              "Name: gender, Length: 4000, dtype: object"
            ]
          },
          "metadata": {
            "tags": []
          },
          "execution_count": 50
        }
      ]
    },
    {
      "cell_type": "code",
      "metadata": {
        "id": "k7flh2zDPTet",
        "colab_type": "code",
        "colab": {}
      },
      "source": [
        "df3['gender']=df3['gender'].apply(lambda x:'M' if x in['M','Male'] else x)\n"
      ],
      "execution_count": null,
      "outputs": []
    },
    {
      "cell_type": "code",
      "metadata": {
        "id": "W7gjbklvPagH",
        "colab_type": "code",
        "colab": {}
      },
      "source": [
        "df3_edited=df3.drop(df3[df3['tenure'].isna()].index)\n"
      ],
      "execution_count": null,
      "outputs": []
    },
    {
      "cell_type": "code",
      "metadata": {
        "id": "7TU_96yrQ2hd",
        "colab_type": "code",
        "colab": {}
      },
      "source": [
        "df3_edited['last_name'].fillna(method='ffill',inplace=True)"
      ],
      "execution_count": null,
      "outputs": []
    },
    {
      "cell_type": "code",
      "metadata": {
        "id": "c5UxGymxRDPB",
        "colab_type": "code",
        "colab": {
          "base_uri": "https://localhost:8080/",
          "height": 243
        },
        "outputId": "87a7a8a8-f725-4dd8-a221-2c8ad4fc1f70"
      },
      "source": [
        "df3_edited.isna().sum()"
      ],
      "execution_count": null,
      "outputs": [
        {
          "output_type": "execute_result",
          "data": {
            "text/plain": [
              "customer_id                              0\n",
              "first_name                               0\n",
              "last_name                                0\n",
              "gender                                   0\n",
              "past_3_years_bike_related_purchases      0\n",
              "DOB                                      0\n",
              "job_title                              392\n",
              "job_industry_category                    0\n",
              "wealth_segment                           0\n",
              "deceased_indicator                       0\n",
              "owns_car                                 0\n",
              "tenure                                   0\n",
              "dtype: int64"
            ]
          },
          "metadata": {
            "tags": []
          },
          "execution_count": 82
        }
      ]
    },
    {
      "cell_type": "code",
      "metadata": {
        "id": "-7ushFMVRI8Q",
        "colab_type": "code",
        "colab": {
          "base_uri": "https://localhost:8080/",
          "height": 347
        },
        "outputId": "085a3efb-0ca0-4669-980b-a6f1f7980dd2"
      },
      "source": [
        "df3_edited.info()"
      ],
      "execution_count": null,
      "outputs": [
        {
          "output_type": "stream",
          "text": [
            "<class 'pandas.core.frame.DataFrame'>\n",
            "Int64Index: 3257 entries, 1 to 3999\n",
            "Data columns (total 12 columns):\n",
            " #   Column                               Non-Null Count  Dtype \n",
            "---  ------                               --------------  ----- \n",
            " 0   customer_id                          3257 non-null   object\n",
            " 1   first_name                           3257 non-null   object\n",
            " 2   last_name                            3257 non-null   object\n",
            " 3   gender                               3257 non-null   object\n",
            " 4   past_3_years_bike_related_purchases  3257 non-null   object\n",
            " 5   DOB                                  3257 non-null   object\n",
            " 6   job_title                            2865 non-null   object\n",
            " 7   job_industry_category                3257 non-null   object\n",
            " 8   wealth_segment                       3257 non-null   object\n",
            " 9   deceased_indicator                   3257 non-null   object\n",
            " 10  owns_car                             3257 non-null   object\n",
            " 11  tenure                               3257 non-null   object\n",
            "dtypes: object(12)\n",
            "memory usage: 330.8+ KB\n"
          ],
          "name": "stdout"
        }
      ]
    },
    {
      "cell_type": "code",
      "metadata": {
        "id": "FFMac9xMRPIy",
        "colab_type": "code",
        "colab": {
          "base_uri": "https://localhost:8080/",
          "height": 69
        },
        "outputId": "8f217b25-6e86-4263-c467-51401936d782"
      },
      "source": [
        "(df3_edited['job_industry_category'].unique())"
      ],
      "execution_count": null,
      "outputs": [
        {
          "output_type": "execute_result",
          "data": {
            "text/plain": [
              "array(['Health', 'Financial Services', 'Property', 'IT', nan, 'Retail',\n",
              "       'Argiculture', 'Manufacturing', 'Telecommunications',\n",
              "       'Entertainment'], dtype=object)"
            ]
          },
          "metadata": {
            "tags": []
          },
          "execution_count": 74
        }
      ]
    },
    {
      "cell_type": "code",
      "metadata": {
        "id": "lcA3Y2bHRpL0",
        "colab_type": "code",
        "colab": {}
      },
      "source": [
        "df3_edited=df3_edited.drop(df3_edited[df3_edited['job_industry_category'].isna()].index)"
      ],
      "execution_count": null,
      "outputs": []
    },
    {
      "cell_type": "code",
      "metadata": {
        "id": "V4_LxwoTSOUS",
        "colab_type": "code",
        "colab": {
          "base_uri": "https://localhost:8080/",
          "height": 330
        },
        "outputId": "00167e7c-c3a9-4e9f-b49d-e8846cc8fa87"
      },
      "source": [
        "df3_processed=df3_edited.drop('job_title',axis=1)\n",
        "df3_processed.info()"
      ],
      "execution_count": null,
      "outputs": [
        {
          "output_type": "stream",
          "text": [
            "<class 'pandas.core.frame.DataFrame'>\n",
            "Int64Index: 3257 entries, 1 to 3999\n",
            "Data columns (total 11 columns):\n",
            " #   Column                               Non-Null Count  Dtype \n",
            "---  ------                               --------------  ----- \n",
            " 0   customer_id                          3257 non-null   object\n",
            " 1   first_name                           3257 non-null   object\n",
            " 2   last_name                            3257 non-null   object\n",
            " 3   gender                               3257 non-null   object\n",
            " 4   past_3_years_bike_related_purchases  3257 non-null   object\n",
            " 5   DOB                                  3257 non-null   object\n",
            " 6   job_industry_category                3257 non-null   object\n",
            " 7   wealth_segment                       3257 non-null   object\n",
            " 8   deceased_indicator                   3257 non-null   object\n",
            " 9   owns_car                             3257 non-null   object\n",
            " 10  tenure                               3257 non-null   object\n",
            "dtypes: object(11)\n",
            "memory usage: 305.3+ KB\n"
          ],
          "name": "stdout"
        }
      ]
    },
    {
      "cell_type": "code",
      "metadata": {
        "id": "Q1iN1-mgSVt-",
        "colab_type": "code",
        "colab": {
          "base_uri": "https://localhost:8080/",
          "height": 225
        },
        "outputId": "f7ae8a0d-6b68-4162-e02c-a648ae9e2740"
      },
      "source": [
        "df3_processed.isna().sum()"
      ],
      "execution_count": null,
      "outputs": [
        {
          "output_type": "execute_result",
          "data": {
            "text/plain": [
              "customer_id                            0\n",
              "first_name                             0\n",
              "last_name                              0\n",
              "gender                                 0\n",
              "past_3_years_bike_related_purchases    0\n",
              "DOB                                    0\n",
              "job_industry_category                  0\n",
              "wealth_segment                         0\n",
              "deceased_indicator                     0\n",
              "owns_car                               0\n",
              "tenure                                 0\n",
              "dtype: int64"
            ]
          },
          "metadata": {
            "tags": []
          },
          "execution_count": 87
        }
      ]
    },
    {
      "cell_type": "code",
      "metadata": {
        "id": "BHUFgLBWSzlF",
        "colab_type": "code",
        "colab": {
          "base_uri": "https://localhost:8080/",
          "height": 34
        },
        "outputId": "075c8322-07db-4b83-99d7-94a5f67578f2"
      },
      "source": [
        "df_merged=pd.merge(df3_processed,df2,left_on='customer_id',right_on='customer_id')\n"
      ],
      "execution_count": null,
      "outputs": [
        {
          "output_type": "execute_result",
          "data": {
            "text/plain": [
              "Int64Index([627, 3087], dtype='int64')"
            ]
          },
          "metadata": {
            "tags": []
          },
          "execution_count": 96
        }
      ]
    },
    {
      "cell_type": "code",
      "metadata": {
        "id": "CQmhW7MQUhl4",
        "colab_type": "code",
        "colab": {}
      },
      "source": [
        "df_merged.drop(df_merged[df_merged['deceased_indicator']=='Y'].index,inplace=True)"
      ],
      "execution_count": null,
      "outputs": []
    },
    {
      "cell_type": "code",
      "metadata": {
        "id": "tviDaNfTUmPk",
        "colab_type": "code",
        "colab": {
          "base_uri": "https://localhost:8080/",
          "height": 808
        },
        "outputId": "78804e02-d382-4fd6-c119-d0fb884b19be"
      },
      "source": [
        "df_merged"
      ],
      "execution_count": null,
      "outputs": [
        {
          "output_type": "execute_result",
          "data": {
            "text/html": [
              "<div>\n",
              "<style scoped>\n",
              "    .dataframe tbody tr th:only-of-type {\n",
              "        vertical-align: middle;\n",
              "    }\n",
              "\n",
              "    .dataframe tbody tr th {\n",
              "        vertical-align: top;\n",
              "    }\n",
              "\n",
              "    .dataframe thead th {\n",
              "        text-align: right;\n",
              "    }\n",
              "</style>\n",
              "<table border=\"1\" class=\"dataframe\">\n",
              "  <thead>\n",
              "    <tr style=\"text-align: right;\">\n",
              "      <th></th>\n",
              "      <th>customer_id</th>\n",
              "      <th>first_name</th>\n",
              "      <th>last_name</th>\n",
              "      <th>gender</th>\n",
              "      <th>past_3_years_bike_related_purchases</th>\n",
              "      <th>DOB</th>\n",
              "      <th>job_industry_category</th>\n",
              "      <th>wealth_segment</th>\n",
              "      <th>deceased_indicator</th>\n",
              "      <th>owns_car</th>\n",
              "      <th>tenure</th>\n",
              "      <th>address</th>\n",
              "      <th>postcode</th>\n",
              "      <th>state</th>\n",
              "      <th>country</th>\n",
              "      <th>property_valuation</th>\n",
              "    </tr>\n",
              "  </thead>\n",
              "  <tbody>\n",
              "    <tr>\n",
              "      <th>0</th>\n",
              "      <td>1</td>\n",
              "      <td>Laraine</td>\n",
              "      <td>Medendorp</td>\n",
              "      <td>F</td>\n",
              "      <td>93</td>\n",
              "      <td>1953-10-12 00:00:00</td>\n",
              "      <td>Health</td>\n",
              "      <td>Mass Customer</td>\n",
              "      <td>N</td>\n",
              "      <td>Yes</td>\n",
              "      <td>11</td>\n",
              "      <td>060 Morning Avenue</td>\n",
              "      <td>2016</td>\n",
              "      <td>New South Wales</td>\n",
              "      <td>Australia</td>\n",
              "      <td>10</td>\n",
              "    </tr>\n",
              "    <tr>\n",
              "      <th>1</th>\n",
              "      <td>2</td>\n",
              "      <td>Eli</td>\n",
              "      <td>Bockman</td>\n",
              "      <td>M</td>\n",
              "      <td>81</td>\n",
              "      <td>1980-12-16 00:00:00</td>\n",
              "      <td>Financial Services</td>\n",
              "      <td>Mass Customer</td>\n",
              "      <td>N</td>\n",
              "      <td>Yes</td>\n",
              "      <td>16</td>\n",
              "      <td>6 Meadow Vale Court</td>\n",
              "      <td>2153</td>\n",
              "      <td>New South Wales</td>\n",
              "      <td>Australia</td>\n",
              "      <td>10</td>\n",
              "    </tr>\n",
              "    <tr>\n",
              "      <th>2</th>\n",
              "      <td>4</td>\n",
              "      <td>Talbot</td>\n",
              "      <td>Dearle</td>\n",
              "      <td>M</td>\n",
              "      <td>33</td>\n",
              "      <td>1961-10-03 00:00:00</td>\n",
              "      <td>IT</td>\n",
              "      <td>Mass Customer</td>\n",
              "      <td>N</td>\n",
              "      <td>No</td>\n",
              "      <td>7</td>\n",
              "      <td>0 Holy Cross Court</td>\n",
              "      <td>4211</td>\n",
              "      <td>QLD</td>\n",
              "      <td>Australia</td>\n",
              "      <td>9</td>\n",
              "    </tr>\n",
              "    <tr>\n",
              "      <th>3</th>\n",
              "      <td>6</td>\n",
              "      <td>Curr</td>\n",
              "      <td>Duckhouse</td>\n",
              "      <td>M</td>\n",
              "      <td>35</td>\n",
              "      <td>1966-09-16 00:00:00</td>\n",
              "      <td>Retail</td>\n",
              "      <td>High Net Worth</td>\n",
              "      <td>N</td>\n",
              "      <td>Yes</td>\n",
              "      <td>13</td>\n",
              "      <td>9 Oakridge Court</td>\n",
              "      <td>3216</td>\n",
              "      <td>VIC</td>\n",
              "      <td>Australia</td>\n",
              "      <td>9</td>\n",
              "    </tr>\n",
              "    <tr>\n",
              "      <th>4</th>\n",
              "      <td>7</td>\n",
              "      <td>Fina</td>\n",
              "      <td>Merali</td>\n",
              "      <td>F</td>\n",
              "      <td>6</td>\n",
              "      <td>1976-02-23 00:00:00</td>\n",
              "      <td>Financial Services</td>\n",
              "      <td>Affluent Customer</td>\n",
              "      <td>N</td>\n",
              "      <td>Yes</td>\n",
              "      <td>11</td>\n",
              "      <td>4 Delaware Trail</td>\n",
              "      <td>2210</td>\n",
              "      <td>New South Wales</td>\n",
              "      <td>Australia</td>\n",
              "      <td>9</td>\n",
              "    </tr>\n",
              "    <tr>\n",
              "      <th>...</th>\n",
              "      <td>...</td>\n",
              "      <td>...</td>\n",
              "      <td>...</td>\n",
              "      <td>...</td>\n",
              "      <td>...</td>\n",
              "      <td>...</td>\n",
              "      <td>...</td>\n",
              "      <td>...</td>\n",
              "      <td>...</td>\n",
              "      <td>...</td>\n",
              "      <td>...</td>\n",
              "      <td>...</td>\n",
              "      <td>...</td>\n",
              "      <td>...</td>\n",
              "      <td>...</td>\n",
              "      <td>...</td>\n",
              "    </tr>\n",
              "    <tr>\n",
              "      <th>3249</th>\n",
              "      <td>3994</td>\n",
              "      <td>Stephie</td>\n",
              "      <td>Byars</td>\n",
              "      <td>F</td>\n",
              "      <td>5</td>\n",
              "      <td>1989-04-07 00:00:00</td>\n",
              "      <td>Manufacturing</td>\n",
              "      <td>Affluent Customer</td>\n",
              "      <td>N</td>\n",
              "      <td>No</td>\n",
              "      <td>12</td>\n",
              "      <td>2918 Summer Ridge Hill</td>\n",
              "      <td>3030</td>\n",
              "      <td>VIC</td>\n",
              "      <td>Australia</td>\n",
              "      <td>2</td>\n",
              "    </tr>\n",
              "    <tr>\n",
              "      <th>3250</th>\n",
              "      <td>3995</td>\n",
              "      <td>Rusty</td>\n",
              "      <td>Iapico</td>\n",
              "      <td>M</td>\n",
              "      <td>93</td>\n",
              "      <td>1975-12-12 00:00:00</td>\n",
              "      <td>Manufacturing</td>\n",
              "      <td>Mass Customer</td>\n",
              "      <td>N</td>\n",
              "      <td>Yes</td>\n",
              "      <td>14</td>\n",
              "      <td>613 Erie Lane</td>\n",
              "      <td>2088</td>\n",
              "      <td>NSW</td>\n",
              "      <td>Australia</td>\n",
              "      <td>12</td>\n",
              "    </tr>\n",
              "    <tr>\n",
              "      <th>3251</th>\n",
              "      <td>3996</td>\n",
              "      <td>Rosalia</td>\n",
              "      <td>Halgarth</td>\n",
              "      <td>F</td>\n",
              "      <td>8</td>\n",
              "      <td>1975-08-09 00:00:00</td>\n",
              "      <td>Health</td>\n",
              "      <td>Mass Customer</td>\n",
              "      <td>N</td>\n",
              "      <td>No</td>\n",
              "      <td>19</td>\n",
              "      <td>0 Transport Center</td>\n",
              "      <td>3977</td>\n",
              "      <td>VIC</td>\n",
              "      <td>Australia</td>\n",
              "      <td>6</td>\n",
              "    </tr>\n",
              "    <tr>\n",
              "      <th>3252</th>\n",
              "      <td>3997</td>\n",
              "      <td>Blanch</td>\n",
              "      <td>Nisuis</td>\n",
              "      <td>F</td>\n",
              "      <td>87</td>\n",
              "      <td>2001-07-13 00:00:00</td>\n",
              "      <td>Manufacturing</td>\n",
              "      <td>High Net Worth</td>\n",
              "      <td>N</td>\n",
              "      <td>Yes</td>\n",
              "      <td>1</td>\n",
              "      <td>4 Dovetail Crossing</td>\n",
              "      <td>2350</td>\n",
              "      <td>NSW</td>\n",
              "      <td>Australia</td>\n",
              "      <td>2</td>\n",
              "    </tr>\n",
              "    <tr>\n",
              "      <th>3253</th>\n",
              "      <td>3999</td>\n",
              "      <td>Patrizius</td>\n",
              "      <td>Nisuis</td>\n",
              "      <td>M</td>\n",
              "      <td>11</td>\n",
              "      <td>1973-10-24 00:00:00</td>\n",
              "      <td>Manufacturing</td>\n",
              "      <td>Affluent Customer</td>\n",
              "      <td>N</td>\n",
              "      <td>Yes</td>\n",
              "      <td>10</td>\n",
              "      <td>1482 Hauk Trail</td>\n",
              "      <td>3064</td>\n",
              "      <td>VIC</td>\n",
              "      <td>Australia</td>\n",
              "      <td>3</td>\n",
              "    </tr>\n",
              "  </tbody>\n",
              "</table>\n",
              "<p>3252 rows × 16 columns</p>\n",
              "</div>"
            ],
            "text/plain": [
              "     customer_id first_name  ...    country property_valuation\n",
              "0              1    Laraine  ...  Australia                 10\n",
              "1              2        Eli  ...  Australia                 10\n",
              "2              4     Talbot  ...  Australia                  9\n",
              "3              6       Curr  ...  Australia                  9\n",
              "4              7       Fina  ...  Australia                  9\n",
              "...          ...        ...  ...        ...                ...\n",
              "3249        3994    Stephie  ...  Australia                  2\n",
              "3250        3995      Rusty  ...  Australia                 12\n",
              "3251        3996    Rosalia  ...  Australia                  6\n",
              "3252        3997     Blanch  ...  Australia                  2\n",
              "3253        3999  Patrizius  ...  Australia                  3\n",
              "\n",
              "[3252 rows x 16 columns]"
            ]
          },
          "metadata": {
            "tags": []
          },
          "execution_count": 98
        }
      ]
    },
    {
      "cell_type": "code",
      "metadata": {
        "id": "pdwdA9UiXFQU",
        "colab_type": "code",
        "colab": {
          "base_uri": "https://localhost:8080/",
          "height": 791
        },
        "outputId": "7d6087a8-38ba-4ece-86db-1506ec6ef161"
      },
      "source": [
        "df_final=pd.merge(df1,df_merged,left_on='customer_id',right_on='customer_id')\n"
      ],
      "execution_count": null,
      "outputs": [
        {
          "output_type": "execute_result",
          "data": {
            "text/html": [
              "<div>\n",
              "<style scoped>\n",
              "    .dataframe tbody tr th:only-of-type {\n",
              "        vertical-align: middle;\n",
              "    }\n",
              "\n",
              "    .dataframe tbody tr th {\n",
              "        vertical-align: top;\n",
              "    }\n",
              "\n",
              "    .dataframe thead th {\n",
              "        text-align: right;\n",
              "    }\n",
              "</style>\n",
              "<table border=\"1\" class=\"dataframe\">\n",
              "  <thead>\n",
              "    <tr style=\"text-align: right;\">\n",
              "      <th></th>\n",
              "      <th>customer_id</th>\n",
              "      <th>online_order</th>\n",
              "      <th>order_status</th>\n",
              "      <th>brand</th>\n",
              "      <th>product_line</th>\n",
              "      <th>product_class</th>\n",
              "      <th>product_size</th>\n",
              "      <th>list_price</th>\n",
              "      <th>standard_cost</th>\n",
              "      <th>product_first_sold_date</th>\n",
              "      <th>first_name</th>\n",
              "      <th>last_name</th>\n",
              "      <th>gender</th>\n",
              "      <th>past_3_years_bike_related_purchases</th>\n",
              "      <th>DOB</th>\n",
              "      <th>job_industry_category</th>\n",
              "      <th>wealth_segment</th>\n",
              "      <th>deceased_indicator</th>\n",
              "      <th>owns_car</th>\n",
              "      <th>tenure</th>\n",
              "      <th>address</th>\n",
              "      <th>postcode</th>\n",
              "      <th>state</th>\n",
              "      <th>country</th>\n",
              "      <th>property_valuation</th>\n",
              "    </tr>\n",
              "  </thead>\n",
              "  <tbody>\n",
              "    <tr>\n",
              "      <th>0</th>\n",
              "      <td>2950</td>\n",
              "      <td>False</td>\n",
              "      <td>Approved</td>\n",
              "      <td>Solex</td>\n",
              "      <td>Standard</td>\n",
              "      <td>medium</td>\n",
              "      <td>medium</td>\n",
              "      <td>71.49</td>\n",
              "      <td>53.62</td>\n",
              "      <td>41245</td>\n",
              "      <td>Kristos</td>\n",
              "      <td>Anthony</td>\n",
              "      <td>M</td>\n",
              "      <td>19</td>\n",
              "      <td>1955-01-11 00:00:00</td>\n",
              "      <td>Financial Services</td>\n",
              "      <td>Mass Customer</td>\n",
              "      <td>N</td>\n",
              "      <td>Yes</td>\n",
              "      <td>10</td>\n",
              "      <td>984 Hoepker Court</td>\n",
              "      <td>3064</td>\n",
              "      <td>VIC</td>\n",
              "      <td>Australia</td>\n",
              "      <td>6</td>\n",
              "    </tr>\n",
              "    <tr>\n",
              "      <th>1</th>\n",
              "      <td>2950</td>\n",
              "      <td>False</td>\n",
              "      <td>Approved</td>\n",
              "      <td>Giant Bicycles</td>\n",
              "      <td>Standard</td>\n",
              "      <td>medium</td>\n",
              "      <td>medium</td>\n",
              "      <td>1403.5</td>\n",
              "      <td>954.82</td>\n",
              "      <td>37659</td>\n",
              "      <td>Kristos</td>\n",
              "      <td>Anthony</td>\n",
              "      <td>M</td>\n",
              "      <td>19</td>\n",
              "      <td>1955-01-11 00:00:00</td>\n",
              "      <td>Financial Services</td>\n",
              "      <td>Mass Customer</td>\n",
              "      <td>N</td>\n",
              "      <td>Yes</td>\n",
              "      <td>10</td>\n",
              "      <td>984 Hoepker Court</td>\n",
              "      <td>3064</td>\n",
              "      <td>VIC</td>\n",
              "      <td>Australia</td>\n",
              "      <td>6</td>\n",
              "    </tr>\n",
              "    <tr>\n",
              "      <th>2</th>\n",
              "      <td>2950</td>\n",
              "      <td>False</td>\n",
              "      <td>Approved</td>\n",
              "      <td>Solex</td>\n",
              "      <td>Standard</td>\n",
              "      <td>medium</td>\n",
              "      <td>medium</td>\n",
              "      <td>478.16</td>\n",
              "      <td>298.72</td>\n",
              "      <td>40487</td>\n",
              "      <td>Kristos</td>\n",
              "      <td>Anthony</td>\n",
              "      <td>M</td>\n",
              "      <td>19</td>\n",
              "      <td>1955-01-11 00:00:00</td>\n",
              "      <td>Financial Services</td>\n",
              "      <td>Mass Customer</td>\n",
              "      <td>N</td>\n",
              "      <td>Yes</td>\n",
              "      <td>10</td>\n",
              "      <td>984 Hoepker Court</td>\n",
              "      <td>3064</td>\n",
              "      <td>VIC</td>\n",
              "      <td>Australia</td>\n",
              "      <td>6</td>\n",
              "    </tr>\n",
              "    <tr>\n",
              "      <th>3</th>\n",
              "      <td>3120</td>\n",
              "      <td>True</td>\n",
              "      <td>Approved</td>\n",
              "      <td>Trek Bicycles</td>\n",
              "      <td>Standard</td>\n",
              "      <td>medium</td>\n",
              "      <td>large</td>\n",
              "      <td>2091.47</td>\n",
              "      <td>388.92</td>\n",
              "      <td>41701</td>\n",
              "      <td>Lauree</td>\n",
              "      <td>O'Donnell</td>\n",
              "      <td>F</td>\n",
              "      <td>89</td>\n",
              "      <td>1979-02-04 00:00:00</td>\n",
              "      <td>Health</td>\n",
              "      <td>Mass Customer</td>\n",
              "      <td>N</td>\n",
              "      <td>Yes</td>\n",
              "      <td>10</td>\n",
              "      <td>4 Shopko Circle</td>\n",
              "      <td>2196</td>\n",
              "      <td>NSW</td>\n",
              "      <td>Australia</td>\n",
              "      <td>5</td>\n",
              "    </tr>\n",
              "    <tr>\n",
              "      <th>4</th>\n",
              "      <td>3120</td>\n",
              "      <td>False</td>\n",
              "      <td>Approved</td>\n",
              "      <td>Giant Bicycles</td>\n",
              "      <td>Standard</td>\n",
              "      <td>high</td>\n",
              "      <td>medium</td>\n",
              "      <td>1129.13</td>\n",
              "      <td>677.48</td>\n",
              "      <td>40649</td>\n",
              "      <td>Lauree</td>\n",
              "      <td>O'Donnell</td>\n",
              "      <td>F</td>\n",
              "      <td>89</td>\n",
              "      <td>1979-02-04 00:00:00</td>\n",
              "      <td>Health</td>\n",
              "      <td>Mass Customer</td>\n",
              "      <td>N</td>\n",
              "      <td>Yes</td>\n",
              "      <td>10</td>\n",
              "      <td>4 Shopko Circle</td>\n",
              "      <td>2196</td>\n",
              "      <td>NSW</td>\n",
              "      <td>Australia</td>\n",
              "      <td>5</td>\n",
              "    </tr>\n",
              "    <tr>\n",
              "      <th>...</th>\n",
              "      <td>...</td>\n",
              "      <td>...</td>\n",
              "      <td>...</td>\n",
              "      <td>...</td>\n",
              "      <td>...</td>\n",
              "      <td>...</td>\n",
              "      <td>...</td>\n",
              "      <td>...</td>\n",
              "      <td>...</td>\n",
              "      <td>...</td>\n",
              "      <td>...</td>\n",
              "      <td>...</td>\n",
              "      <td>...</td>\n",
              "      <td>...</td>\n",
              "      <td>...</td>\n",
              "      <td>...</td>\n",
              "      <td>...</td>\n",
              "      <td>...</td>\n",
              "      <td>...</td>\n",
              "      <td>...</td>\n",
              "      <td>...</td>\n",
              "      <td>...</td>\n",
              "      <td>...</td>\n",
              "      <td>...</td>\n",
              "      <td>...</td>\n",
              "    </tr>\n",
              "    <tr>\n",
              "      <th>16287</th>\n",
              "      <td>130</td>\n",
              "      <td>True</td>\n",
              "      <td>Approved</td>\n",
              "      <td>OHM Cycles</td>\n",
              "      <td>Standard</td>\n",
              "      <td>medium</td>\n",
              "      <td>medium</td>\n",
              "      <td>1636.9</td>\n",
              "      <td>44.71</td>\n",
              "      <td>40410</td>\n",
              "      <td>Raddy</td>\n",
              "      <td>Delete</td>\n",
              "      <td>M</td>\n",
              "      <td>32</td>\n",
              "      <td>1997-07-18 00:00:00</td>\n",
              "      <td>Manufacturing</td>\n",
              "      <td>Mass Customer</td>\n",
              "      <td>N</td>\n",
              "      <td>No</td>\n",
              "      <td>1</td>\n",
              "      <td>58 Helena Hill</td>\n",
              "      <td>2205</td>\n",
              "      <td>New South Wales</td>\n",
              "      <td>Australia</td>\n",
              "      <td>7</td>\n",
              "    </tr>\n",
              "    <tr>\n",
              "      <th>16288</th>\n",
              "      <td>2789</td>\n",
              "      <td>False</td>\n",
              "      <td>Approved</td>\n",
              "      <td>Solex</td>\n",
              "      <td>Standard</td>\n",
              "      <td>high</td>\n",
              "      <td>medium</td>\n",
              "      <td>1024.66</td>\n",
              "      <td>614.8</td>\n",
              "      <td>35378</td>\n",
              "      <td>Violetta</td>\n",
              "      <td>Bucksey</td>\n",
              "      <td>F</td>\n",
              "      <td>66</td>\n",
              "      <td>1992-11-30 00:00:00</td>\n",
              "      <td>Financial Services</td>\n",
              "      <td>Affluent Customer</td>\n",
              "      <td>N</td>\n",
              "      <td>Yes</td>\n",
              "      <td>7</td>\n",
              "      <td>724 West Park</td>\n",
              "      <td>2112</td>\n",
              "      <td>NSW</td>\n",
              "      <td>Australia</td>\n",
              "      <td>11</td>\n",
              "    </tr>\n",
              "    <tr>\n",
              "      <th>16289</th>\n",
              "      <td>2789</td>\n",
              "      <td>False</td>\n",
              "      <td>Approved</td>\n",
              "      <td>OHM Cycles</td>\n",
              "      <td>Touring</td>\n",
              "      <td>low</td>\n",
              "      <td>medium</td>\n",
              "      <td>1073.07</td>\n",
              "      <td>933.84</td>\n",
              "      <td>42226</td>\n",
              "      <td>Violetta</td>\n",
              "      <td>Bucksey</td>\n",
              "      <td>F</td>\n",
              "      <td>66</td>\n",
              "      <td>1992-11-30 00:00:00</td>\n",
              "      <td>Financial Services</td>\n",
              "      <td>Affluent Customer</td>\n",
              "      <td>N</td>\n",
              "      <td>Yes</td>\n",
              "      <td>7</td>\n",
              "      <td>724 West Park</td>\n",
              "      <td>2112</td>\n",
              "      <td>NSW</td>\n",
              "      <td>Australia</td>\n",
              "      <td>11</td>\n",
              "    </tr>\n",
              "    <tr>\n",
              "      <th>16290</th>\n",
              "      <td>3446</td>\n",
              "      <td>True</td>\n",
              "      <td>Approved</td>\n",
              "      <td>Giant Bicycles</td>\n",
              "      <td>Road</td>\n",
              "      <td>medium</td>\n",
              "      <td>medium</td>\n",
              "      <td>792.9</td>\n",
              "      <td>594.68</td>\n",
              "      <td>33879</td>\n",
              "      <td>Gard</td>\n",
              "      <td>Tidy</td>\n",
              "      <td>M</td>\n",
              "      <td>8</td>\n",
              "      <td>1967-01-30 00:00:00</td>\n",
              "      <td>Manufacturing</td>\n",
              "      <td>Mass Customer</td>\n",
              "      <td>N</td>\n",
              "      <td>No</td>\n",
              "      <td>14</td>\n",
              "      <td>8 Becker Drive</td>\n",
              "      <td>4868</td>\n",
              "      <td>QLD</td>\n",
              "      <td>Australia</td>\n",
              "      <td>4</td>\n",
              "    </tr>\n",
              "    <tr>\n",
              "      <th>16291</th>\n",
              "      <td>3446</td>\n",
              "      <td>False</td>\n",
              "      <td>Approved</td>\n",
              "      <td>OHM Cycles</td>\n",
              "      <td>Standard</td>\n",
              "      <td>medium</td>\n",
              "      <td>medium</td>\n",
              "      <td>235.63</td>\n",
              "      <td>125.07</td>\n",
              "      <td>38206</td>\n",
              "      <td>Gard</td>\n",
              "      <td>Tidy</td>\n",
              "      <td>M</td>\n",
              "      <td>8</td>\n",
              "      <td>1967-01-30 00:00:00</td>\n",
              "      <td>Manufacturing</td>\n",
              "      <td>Mass Customer</td>\n",
              "      <td>N</td>\n",
              "      <td>No</td>\n",
              "      <td>14</td>\n",
              "      <td>8 Becker Drive</td>\n",
              "      <td>4868</td>\n",
              "      <td>QLD</td>\n",
              "      <td>Australia</td>\n",
              "      <td>4</td>\n",
              "    </tr>\n",
              "  </tbody>\n",
              "</table>\n",
              "<p>16292 rows × 25 columns</p>\n",
              "</div>"
            ],
            "text/plain": [
              "      customer_id online_order  ...    country property_valuation\n",
              "0            2950        False  ...  Australia                  6\n",
              "1            2950        False  ...  Australia                  6\n",
              "2            2950        False  ...  Australia                  6\n",
              "3            3120         True  ...  Australia                  5\n",
              "4            3120        False  ...  Australia                  5\n",
              "...           ...          ...  ...        ...                ...\n",
              "16287         130         True  ...  Australia                  7\n",
              "16288        2789        False  ...  Australia                 11\n",
              "16289        2789        False  ...  Australia                 11\n",
              "16290        3446         True  ...  Australia                  4\n",
              "16291        3446        False  ...  Australia                  4\n",
              "\n",
              "[16292 rows x 25 columns]"
            ]
          },
          "metadata": {
            "tags": []
          },
          "execution_count": 107
        }
      ]
    },
    {
      "cell_type": "code",
      "metadata": {
        "id": "2kp_PbvOX2OY",
        "colab_type": "code",
        "colab": {}
      },
      "source": [
        "df_final.drop(['transaction_id','product_id','transaction_date','first_name','last_name','country','address','deceased_indicator','DOB','brand'],axis=1,inplace=True)\n"
      ],
      "execution_count": null,
      "outputs": []
    },
    {
      "cell_type": "code",
      "metadata": {
        "id": "IzkQA4tOai5L",
        "colab_type": "code",
        "colab": {
          "base_uri": "https://localhost:8080/",
          "height": 52
        },
        "outputId": "bcddc22b-b923-4ebc-cfa0-dab86f8480c0"
      },
      "source": [
        "df_final['wealth_segment'].unique()"
      ],
      "execution_count": null,
      "outputs": [
        {
          "output_type": "execute_result",
          "data": {
            "text/plain": [
              "array(['Mass Customer', 'Affluent Customer', 'High Net Worth'],\n",
              "      dtype=object)"
            ]
          },
          "metadata": {
            "tags": []
          },
          "execution_count": 115
        }
      ]
    },
    {
      "cell_type": "code",
      "metadata": {
        "id": "vzs6r4HJaqNc",
        "colab_type": "code",
        "colab": {
          "base_uri": "https://localhost:8080/",
          "height": 306
        },
        "outputId": "7aa6abfd-f641-45ad-ff1a-376d220178a1"
      },
      "source": [
        "df_final.set_index('customer_id',inplace=True)\n"
      ],
      "execution_count": null,
      "outputs": [
        {
          "output_type": "error",
          "ename": "KeyError",
          "evalue": "ignored",
          "traceback": [
            "\u001b[0;31m---------------------------------------------------------------------------\u001b[0m",
            "\u001b[0;31mKeyError\u001b[0m                                  Traceback (most recent call last)",
            "\u001b[0;32m<ipython-input-127-327e5d1e24ff>\u001b[0m in \u001b[0;36m<module>\u001b[0;34m()\u001b[0m\n\u001b[0;32m----> 1\u001b[0;31m \u001b[0mdf_final\u001b[0m\u001b[0;34m.\u001b[0m\u001b[0mset_index\u001b[0m\u001b[0;34m(\u001b[0m\u001b[0;34m'customer_id'\u001b[0m\u001b[0;34m,\u001b[0m\u001b[0minplace\u001b[0m\u001b[0;34m=\u001b[0m\u001b[0;32mTrue\u001b[0m\u001b[0;34m)\u001b[0m\u001b[0;34m\u001b[0m\u001b[0;34m\u001b[0m\u001b[0m\n\u001b[0m\u001b[1;32m      2\u001b[0m \u001b[0mdf_final\u001b[0m\u001b[0;34m.\u001b[0m\u001b[0mto_csv\u001b[0m\u001b[0;34m(\u001b[0m\u001b[0;34m'Data_tobepreprocessed.csv'\u001b[0m\u001b[0;34m)\u001b[0m\u001b[0;34m\u001b[0m\u001b[0;34m\u001b[0m\u001b[0m\n",
            "\u001b[0;32m/usr/local/lib/python3.6/dist-packages/pandas/core/frame.py\u001b[0m in \u001b[0;36mset_index\u001b[0;34m(self, keys, drop, append, inplace, verify_integrity)\u001b[0m\n\u001b[1;32m   4301\u001b[0m \u001b[0;34m\u001b[0m\u001b[0m\n\u001b[1;32m   4302\u001b[0m         \u001b[0;32mif\u001b[0m \u001b[0mmissing\u001b[0m\u001b[0;34m:\u001b[0m\u001b[0;34m\u001b[0m\u001b[0;34m\u001b[0m\u001b[0m\n\u001b[0;32m-> 4303\u001b[0;31m             \u001b[0;32mraise\u001b[0m \u001b[0mKeyError\u001b[0m\u001b[0;34m(\u001b[0m\u001b[0;34mf\"None of {missing} are in the columns\"\u001b[0m\u001b[0;34m)\u001b[0m\u001b[0;34m\u001b[0m\u001b[0;34m\u001b[0m\u001b[0m\n\u001b[0m\u001b[1;32m   4304\u001b[0m \u001b[0;34m\u001b[0m\u001b[0m\n\u001b[1;32m   4305\u001b[0m         \u001b[0;32mif\u001b[0m \u001b[0minplace\u001b[0m\u001b[0;34m:\u001b[0m\u001b[0;34m\u001b[0m\u001b[0;34m\u001b[0m\u001b[0m\n",
            "\u001b[0;31mKeyError\u001b[0m: \"None of ['customer_id'] are in the columns\""
          ]
        }
      ]
    },
    {
      "cell_type": "code",
      "metadata": {
        "id": "yeJQjpJDbbaD",
        "colab_type": "code",
        "colab": {}
      },
      "source": [
        "labels=df_final[['standard_cost','order_status']]"
      ],
      "execution_count": null,
      "outputs": []
    },
    {
      "cell_type": "code",
      "metadata": {
        "id": "Z6W_cdEnbrZK",
        "colab_type": "code",
        "colab": {}
      },
      "source": [
        "df_final.to_csv('Data_tobepreprocessed.csv')"
      ],
      "execution_count": null,
      "outputs": []
    },
    {
      "cell_type": "markdown",
      "metadata": {
        "id": "71ZddTTwKFP3",
        "colab_type": "text"
      },
      "source": [
        "TASK 2\n"
      ]
    },
    {
      "cell_type": "code",
      "metadata": {
        "id": "F9wP36-3KHHH",
        "colab_type": "code",
        "colab": {}
      },
      "source": [
        "import pandas as pd"
      ],
      "execution_count": null,
      "outputs": []
    },
    {
      "cell_type": "code",
      "metadata": {
        "id": "r3_JPQsdKJBi",
        "colab_type": "code",
        "colab": {}
      },
      "source": [
        "df_task2=pd.ExcelFile('KPMG(STAGE 2).xlsx')\n"
      ],
      "execution_count": null,
      "outputs": []
    },
    {
      "cell_type": "code",
      "metadata": {
        "id": "Vjz0QyfzKXgG",
        "colab_type": "code",
        "colab": {
          "base_uri": "https://localhost:8080/",
          "height": 104
        },
        "outputId": "43d2be86-0e59-4cf2-b634-6c7475f96b10"
      },
      "source": [
        "df_task2.sheet_names"
      ],
      "execution_count": null,
      "outputs": [
        {
          "output_type": "execute_result",
          "data": {
            "text/plain": [
              "['Title Sheet',\n",
              " 'Transactions',\n",
              " 'NewCustomerList',\n",
              " 'CustomerDemographic',\n",
              " 'CustomerAddress']"
            ]
          },
          "metadata": {
            "tags": []
          },
          "execution_count": 8
        }
      ]
    },
    {
      "cell_type": "code",
      "metadata": {
        "id": "WpmKqXcuKeX5",
        "colab_type": "code",
        "colab": {}
      },
      "source": [
        ""
      ],
      "execution_count": null,
      "outputs": []
    }
  ]
}