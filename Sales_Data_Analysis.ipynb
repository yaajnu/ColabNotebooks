{
  "nbformat": 4,
  "nbformat_minor": 0,
  "metadata": {
    "colab": {
      "name": "Sales Data Analysis",
      "provenance": [],
      "authorship_tag": "ABX9TyPd3Un9XRIQnnqkfTcCty8i",
      "include_colab_link": true
    },
    "kernelspec": {
      "name": "python3",
      "display_name": "Python 3"
    }
  },
  "cells": [
    {
      "cell_type": "markdown",
      "metadata": {
        "id": "view-in-github",
        "colab_type": "text"
      },
      "source": [
        "<a href=\"https://colab.research.google.com/github/yaajnu/ColabNotebooks/blob/master/Sales_Data_Analysis.ipynb\" target=\"_parent\"><img src=\"https://colab.research.google.com/assets/colab-badge.svg\" alt=\"Open In Colab\"/></a>"
      ]
    },
    {
      "cell_type": "markdown",
      "metadata": {
        "id": "CyuqPeojJUe8"
      },
      "source": [
        "Question 1:Which Month had the most sales?\n",
        "\n",
        "\n"
      ]
    },
    {
      "cell_type": "code",
      "metadata": {
        "id": "EEFDmSkf4izL"
      },
      "source": [
        "import pandas as pd\n",
        "import os\n",
        "import re\n",
        "import matplotlib.pyplot as plt\n",
        "import datetime as dt\n",
        "df=pd.read_csv('./Data/Sales_January_2019.csv')"
      ],
      "execution_count": null,
      "outputs": []
    },
    {
      "cell_type": "code",
      "metadata": {
        "id": "25BGffgc6tFU",
        "outputId": "d1a5b1cf-8e14-4cdd-fa99-c81be721503b",
        "colab": {
          "base_uri": "https://localhost:8080/",
          "height": 164
        }
      },
      "source": [
        "df.describe()"
      ],
      "execution_count": null,
      "outputs": [
        {
          "output_type": "execute_result",
          "data": {
            "text/html": [
              "<div>\n",
              "<style scoped>\n",
              "    .dataframe tbody tr th:only-of-type {\n",
              "        vertical-align: middle;\n",
              "    }\n",
              "\n",
              "    .dataframe tbody tr th {\n",
              "        vertical-align: top;\n",
              "    }\n",
              "\n",
              "    .dataframe thead th {\n",
              "        text-align: right;\n",
              "    }\n",
              "</style>\n",
              "<table border=\"1\" class=\"dataframe\">\n",
              "  <thead>\n",
              "    <tr style=\"text-align: right;\">\n",
              "      <th></th>\n",
              "      <th>Order ID</th>\n",
              "      <th>Product</th>\n",
              "      <th>Quantity Ordered</th>\n",
              "      <th>Price Each</th>\n",
              "      <th>Order Date</th>\n",
              "      <th>Purchase Address</th>\n",
              "    </tr>\n",
              "  </thead>\n",
              "  <tbody>\n",
              "    <tr>\n",
              "      <th>count</th>\n",
              "      <td>9697</td>\n",
              "      <td>9697</td>\n",
              "      <td>9697</td>\n",
              "      <td>9697</td>\n",
              "      <td>9697</td>\n",
              "      <td>9697</td>\n",
              "    </tr>\n",
              "    <tr>\n",
              "      <th>unique</th>\n",
              "      <td>9269</td>\n",
              "      <td>20</td>\n",
              "      <td>8</td>\n",
              "      <td>19</td>\n",
              "      <td>8077</td>\n",
              "      <td>9161</td>\n",
              "    </tr>\n",
              "    <tr>\n",
              "      <th>top</th>\n",
              "      <td>Order ID</td>\n",
              "      <td>USB-C Charging Cable</td>\n",
              "      <td>1</td>\n",
              "      <td>11.95</td>\n",
              "      <td>Order Date</td>\n",
              "      <td>Purchase Address</td>\n",
              "    </tr>\n",
              "    <tr>\n",
              "      <th>freq</th>\n",
              "      <td>16</td>\n",
              "      <td>1171</td>\n",
              "      <td>8795</td>\n",
              "      <td>1171</td>\n",
              "      <td>16</td>\n",
              "      <td>16</td>\n",
              "    </tr>\n",
              "  </tbody>\n",
              "</table>\n",
              "</div>"
            ],
            "text/plain": [
              "        Order ID               Product  ...  Order Date  Purchase Address\n",
              "count       9697                  9697  ...        9697              9697\n",
              "unique      9269                    20  ...        8077              9161\n",
              "top     Order ID  USB-C Charging Cable  ...  Order Date  Purchase Address\n",
              "freq          16                  1171  ...          16                16\n",
              "\n",
              "[4 rows x 6 columns]"
            ]
          },
          "metadata": {
            "tags": []
          },
          "execution_count": 3
        }
      ]
    },
    {
      "cell_type": "code",
      "metadata": {
        "id": "wnWXTXEX6yPd",
        "outputId": "d50064aa-afd4-4516-a034-d167d1c0f040",
        "colab": {
          "base_uri": "https://localhost:8080/",
          "height": 248
        }
      },
      "source": [
        "df.info()"
      ],
      "execution_count": null,
      "outputs": [
        {
          "output_type": "stream",
          "text": [
            "<class 'pandas.core.frame.DataFrame'>\n",
            "RangeIndex: 9723 entries, 0 to 9722\n",
            "Data columns (total 6 columns):\n",
            " #   Column            Non-Null Count  Dtype \n",
            "---  ------            --------------  ----- \n",
            " 0   Order ID          9697 non-null   object\n",
            " 1   Product           9697 non-null   object\n",
            " 2   Quantity Ordered  9697 non-null   object\n",
            " 3   Price Each        9697 non-null   object\n",
            " 4   Order Date        9697 non-null   object\n",
            " 5   Purchase Address  9697 non-null   object\n",
            "dtypes: object(6)\n",
            "memory usage: 455.9+ KB\n"
          ],
          "name": "stdout"
        }
      ]
    },
    {
      "cell_type": "code",
      "metadata": {
        "id": "39hoWKaU_wtH",
        "outputId": "fc29edfa-1357-40a3-b087-7684647fa335",
        "colab": {
          "base_uri": "https://localhost:8080/",
          "height": 141
        }
      },
      "source": [
        "df.isna().sum()"
      ],
      "execution_count": null,
      "outputs": [
        {
          "output_type": "execute_result",
          "data": {
            "text/plain": [
              "Order ID            26\n",
              "Product             26\n",
              "Quantity Ordered    26\n",
              "Price Each          26\n",
              "Order Date          26\n",
              "Purchase Address    26\n",
              "dtype: int64"
            ]
          },
          "metadata": {
            "tags": []
          },
          "execution_count": 5
        }
      ]
    },
    {
      "cell_type": "code",
      "metadata": {
        "id": "xIqHNi_-B980",
        "outputId": "d7d0ee65-2aa0-424a-8541-1236286ec01a",
        "colab": {
          "base_uri": "https://localhost:8080/",
          "height": 230
        }
      },
      "source": [
        "files=[i for i in os.listdir('Data')]\n",
        "files"
      ],
      "execution_count": null,
      "outputs": [
        {
          "output_type": "execute_result",
          "data": {
            "text/plain": [
              "['Sales_February_2019.csv',\n",
              " 'Sales_March_2019.csv',\n",
              " 'Sales_July_2019.csv',\n",
              " 'Sales_April_2019.csv',\n",
              " 'Sales_December_2019.csv',\n",
              " 'Sales_October_2019.csv',\n",
              " 'Sales_January_2019.csv',\n",
              " 'Sales_May_2019.csv',\n",
              " 'Sales_August_2019.csv',\n",
              " 'Sales_September_2019.csv',\n",
              " 'Sales_November_2019.csv',\n",
              " 'Sales_June_2019.csv']"
            ]
          },
          "metadata": {
            "tags": []
          },
          "execution_count": 8
        }
      ]
    },
    {
      "cell_type": "code",
      "metadata": {
        "id": "N8U0nxGcZMkz"
      },
      "source": [
        "all_data=pd.DataFrame()"
      ],
      "execution_count": null,
      "outputs": []
    },
    {
      "cell_type": "code",
      "metadata": {
        "id": "EdAzImg0i6dY",
        "outputId": "ce2e85f3-877a-4a8c-ea71-8bfa330bd842",
        "colab": {
          "base_uri": "https://localhost:8080/",
          "height": 399
        }
      },
      "source": [
        "pd.read_csv('./Data/Sales_February_2019.csv')"
      ],
      "execution_count": null,
      "outputs": [
        {
          "output_type": "execute_result",
          "data": {
            "text/html": [
              "<div>\n",
              "<style scoped>\n",
              "    .dataframe tbody tr th:only-of-type {\n",
              "        vertical-align: middle;\n",
              "    }\n",
              "\n",
              "    .dataframe tbody tr th {\n",
              "        vertical-align: top;\n",
              "    }\n",
              "\n",
              "    .dataframe thead th {\n",
              "        text-align: right;\n",
              "    }\n",
              "</style>\n",
              "<table border=\"1\" class=\"dataframe\">\n",
              "  <thead>\n",
              "    <tr style=\"text-align: right;\">\n",
              "      <th></th>\n",
              "      <th>Order ID</th>\n",
              "      <th>Product</th>\n",
              "      <th>Quantity Ordered</th>\n",
              "      <th>Price Each</th>\n",
              "      <th>Order Date</th>\n",
              "      <th>Purchase Address</th>\n",
              "    </tr>\n",
              "  </thead>\n",
              "  <tbody>\n",
              "    <tr>\n",
              "      <th>0</th>\n",
              "      <td>150502</td>\n",
              "      <td>iPhone</td>\n",
              "      <td>1</td>\n",
              "      <td>700</td>\n",
              "      <td>02/18/19 01:35</td>\n",
              "      <td>866 Spruce St, Portland, ME 04101</td>\n",
              "    </tr>\n",
              "    <tr>\n",
              "      <th>1</th>\n",
              "      <td>150503</td>\n",
              "      <td>AA Batteries (4-pack)</td>\n",
              "      <td>1</td>\n",
              "      <td>3.84</td>\n",
              "      <td>02/13/19 07:24</td>\n",
              "      <td>18 13th St, San Francisco, CA 94016</td>\n",
              "    </tr>\n",
              "    <tr>\n",
              "      <th>2</th>\n",
              "      <td>150504</td>\n",
              "      <td>27in 4K Gaming Monitor</td>\n",
              "      <td>1</td>\n",
              "      <td>389.99</td>\n",
              "      <td>02/18/19 09:46</td>\n",
              "      <td>52 6th St, New York City, NY 10001</td>\n",
              "    </tr>\n",
              "    <tr>\n",
              "      <th>3</th>\n",
              "      <td>150505</td>\n",
              "      <td>Lightning Charging Cable</td>\n",
              "      <td>1</td>\n",
              "      <td>14.95</td>\n",
              "      <td>02/02/19 16:47</td>\n",
              "      <td>129 Cherry St, Atlanta, GA 30301</td>\n",
              "    </tr>\n",
              "    <tr>\n",
              "      <th>4</th>\n",
              "      <td>150506</td>\n",
              "      <td>AA Batteries (4-pack)</td>\n",
              "      <td>2</td>\n",
              "      <td>3.84</td>\n",
              "      <td>02/28/19 20:32</td>\n",
              "      <td>548 Lincoln St, Seattle, WA 98101</td>\n",
              "    </tr>\n",
              "    <tr>\n",
              "      <th>...</th>\n",
              "      <td>...</td>\n",
              "      <td>...</td>\n",
              "      <td>...</td>\n",
              "      <td>...</td>\n",
              "      <td>...</td>\n",
              "      <td>...</td>\n",
              "    </tr>\n",
              "    <tr>\n",
              "      <th>12031</th>\n",
              "      <td>162004</td>\n",
              "      <td>Apple Airpods Headphones</td>\n",
              "      <td>1</td>\n",
              "      <td>150</td>\n",
              "      <td>02/12/19 22:02</td>\n",
              "      <td>227 Church St, San Francisco, CA 94016</td>\n",
              "    </tr>\n",
              "    <tr>\n",
              "      <th>12032</th>\n",
              "      <td>162005</td>\n",
              "      <td>AAA Batteries (4-pack)</td>\n",
              "      <td>2</td>\n",
              "      <td>2.99</td>\n",
              "      <td>02/04/19 20:44</td>\n",
              "      <td>417 Jefferson St, Los Angeles, CA 90001</td>\n",
              "    </tr>\n",
              "    <tr>\n",
              "      <th>12033</th>\n",
              "      <td>162006</td>\n",
              "      <td>USB-C Charging Cable</td>\n",
              "      <td>1</td>\n",
              "      <td>11.95</td>\n",
              "      <td>02/24/19 06:31</td>\n",
              "      <td>498 8th St, Atlanta, GA 30301</td>\n",
              "    </tr>\n",
              "    <tr>\n",
              "      <th>12034</th>\n",
              "      <td>162007</td>\n",
              "      <td>USB-C Charging Cable</td>\n",
              "      <td>1</td>\n",
              "      <td>11.95</td>\n",
              "      <td>02/24/19 19:09</td>\n",
              "      <td>715 7th St, Dallas, TX 75001</td>\n",
              "    </tr>\n",
              "    <tr>\n",
              "      <th>12035</th>\n",
              "      <td>162008</td>\n",
              "      <td>27in FHD Monitor</td>\n",
              "      <td>1</td>\n",
              "      <td>149.99</td>\n",
              "      <td>02/26/19 17:15</td>\n",
              "      <td>677 West St, Los Angeles, CA 90001</td>\n",
              "    </tr>\n",
              "  </tbody>\n",
              "</table>\n",
              "<p>12036 rows × 6 columns</p>\n",
              "</div>"
            ],
            "text/plain": [
              "      Order ID  ...                         Purchase Address\n",
              "0       150502  ...        866 Spruce St, Portland, ME 04101\n",
              "1       150503  ...      18 13th St, San Francisco, CA 94016\n",
              "2       150504  ...       52 6th St, New York City, NY 10001\n",
              "3       150505  ...         129 Cherry St, Atlanta, GA 30301\n",
              "4       150506  ...        548 Lincoln St, Seattle, WA 98101\n",
              "...        ...  ...                                      ...\n",
              "12031   162004  ...   227 Church St, San Francisco, CA 94016\n",
              "12032   162005  ...  417 Jefferson St, Los Angeles, CA 90001\n",
              "12033   162006  ...            498 8th St, Atlanta, GA 30301\n",
              "12034   162007  ...             715 7th St, Dallas, TX 75001\n",
              "12035   162008  ...       677 West St, Los Angeles, CA 90001\n",
              "\n",
              "[12036 rows x 6 columns]"
            ]
          },
          "metadata": {
            "tags": []
          },
          "execution_count": 103
        }
      ]
    },
    {
      "cell_type": "code",
      "metadata": {
        "id": "xlt8CWf5hPq9"
      },
      "source": [
        "all_month=pd.DataFrame()\n",
        "for file in files:\n",
        "  df=pd.read_csv('./Data/{}'.format(file))\n",
        "  all_month=pd.concat([all_month,df],ignore_index=True)"
      ],
      "execution_count": null,
      "outputs": []
    },
    {
      "cell_type": "code",
      "metadata": {
        "id": "CVgzBQYjgXrA"
      },
      "source": [
        "my_dict={}\n",
        "for i,file in enumerate(files):\n",
        "  my_dict[i]=pd.read_csv('./Data/{}'.format(file))\n"
      ],
      "execution_count": null,
      "outputs": []
    },
    {
      "cell_type": "code",
      "metadata": {
        "id": "-YijitQ-jdjl"
      },
      "source": [
        "check=pd.DataFrame()\n",
        "for i,file in enumerate(files):\n",
        "  check=pd.concat([check,my_dict[i]],ignore_index=True)\n"
      ],
      "execution_count": null,
      "outputs": []
    },
    {
      "cell_type": "code",
      "metadata": {
        "id": "pdOnOU9Xjpqc",
        "outputId": "ace2b758-be8c-4853-968f-ac096226d086",
        "colab": {
          "base_uri": "https://localhost:8080/",
          "height": 35
        }
      },
      "source": [
        "check.equals(all_month)"
      ],
      "execution_count": null,
      "outputs": [
        {
          "output_type": "execute_result",
          "data": {
            "text/plain": [
              "True"
            ]
          },
          "metadata": {
            "tags": []
          },
          "execution_count": 131
        }
      ]
    },
    {
      "cell_type": "code",
      "metadata": {
        "id": "_K0pBbSqj8mV"
      },
      "source": [
        "all_month=all_month.dropna()"
      ],
      "execution_count": null,
      "outputs": []
    },
    {
      "cell_type": "code",
      "metadata": {
        "id": "sixv70qzkLCv",
        "outputId": "adf6d0d5-022d-4e3d-ede6-9fa9119950a9",
        "colab": {
          "base_uri": "https://localhost:8080/",
          "height": 399
        }
      },
      "source": [
        "all_month"
      ],
      "execution_count": null,
      "outputs": [
        {
          "output_type": "execute_result",
          "data": {
            "text/html": [
              "<div>\n",
              "<style scoped>\n",
              "    .dataframe tbody tr th:only-of-type {\n",
              "        vertical-align: middle;\n",
              "    }\n",
              "\n",
              "    .dataframe tbody tr th {\n",
              "        vertical-align: top;\n",
              "    }\n",
              "\n",
              "    .dataframe thead th {\n",
              "        text-align: right;\n",
              "    }\n",
              "</style>\n",
              "<table border=\"1\" class=\"dataframe\">\n",
              "  <thead>\n",
              "    <tr style=\"text-align: right;\">\n",
              "      <th></th>\n",
              "      <th>Order ID</th>\n",
              "      <th>Product</th>\n",
              "      <th>Quantity Ordered</th>\n",
              "      <th>Price Each</th>\n",
              "      <th>Order Date</th>\n",
              "      <th>Purchase Address</th>\n",
              "    </tr>\n",
              "  </thead>\n",
              "  <tbody>\n",
              "    <tr>\n",
              "      <th>0</th>\n",
              "      <td>150502</td>\n",
              "      <td>iPhone</td>\n",
              "      <td>1</td>\n",
              "      <td>700</td>\n",
              "      <td>02/18/19 01:35</td>\n",
              "      <td>866 Spruce St, Portland, ME 04101</td>\n",
              "    </tr>\n",
              "    <tr>\n",
              "      <th>1</th>\n",
              "      <td>150503</td>\n",
              "      <td>AA Batteries (4-pack)</td>\n",
              "      <td>1</td>\n",
              "      <td>3.84</td>\n",
              "      <td>02/13/19 07:24</td>\n",
              "      <td>18 13th St, San Francisco, CA 94016</td>\n",
              "    </tr>\n",
              "    <tr>\n",
              "      <th>2</th>\n",
              "      <td>150504</td>\n",
              "      <td>27in 4K Gaming Monitor</td>\n",
              "      <td>1</td>\n",
              "      <td>389.99</td>\n",
              "      <td>02/18/19 09:46</td>\n",
              "      <td>52 6th St, New York City, NY 10001</td>\n",
              "    </tr>\n",
              "    <tr>\n",
              "      <th>3</th>\n",
              "      <td>150505</td>\n",
              "      <td>Lightning Charging Cable</td>\n",
              "      <td>1</td>\n",
              "      <td>14.95</td>\n",
              "      <td>02/02/19 16:47</td>\n",
              "      <td>129 Cherry St, Atlanta, GA 30301</td>\n",
              "    </tr>\n",
              "    <tr>\n",
              "      <th>4</th>\n",
              "      <td>150506</td>\n",
              "      <td>AA Batteries (4-pack)</td>\n",
              "      <td>2</td>\n",
              "      <td>3.84</td>\n",
              "      <td>02/28/19 20:32</td>\n",
              "      <td>548 Lincoln St, Seattle, WA 98101</td>\n",
              "    </tr>\n",
              "    <tr>\n",
              "      <th>...</th>\n",
              "      <td>...</td>\n",
              "      <td>...</td>\n",
              "      <td>...</td>\n",
              "      <td>...</td>\n",
              "      <td>...</td>\n",
              "      <td>...</td>\n",
              "    </tr>\n",
              "    <tr>\n",
              "      <th>186845</th>\n",
              "      <td>222905</td>\n",
              "      <td>AAA Batteries (4-pack)</td>\n",
              "      <td>1</td>\n",
              "      <td>2.99</td>\n",
              "      <td>06/07/19 19:02</td>\n",
              "      <td>795 Pine St, Boston, MA 02215</td>\n",
              "    </tr>\n",
              "    <tr>\n",
              "      <th>186846</th>\n",
              "      <td>222906</td>\n",
              "      <td>27in FHD Monitor</td>\n",
              "      <td>1</td>\n",
              "      <td>149.99</td>\n",
              "      <td>06/01/19 19:29</td>\n",
              "      <td>495 North St, New York City, NY 10001</td>\n",
              "    </tr>\n",
              "    <tr>\n",
              "      <th>186847</th>\n",
              "      <td>222907</td>\n",
              "      <td>USB-C Charging Cable</td>\n",
              "      <td>1</td>\n",
              "      <td>11.95</td>\n",
              "      <td>06/22/19 18:57</td>\n",
              "      <td>319 Ridge St, San Francisco, CA 94016</td>\n",
              "    </tr>\n",
              "    <tr>\n",
              "      <th>186848</th>\n",
              "      <td>222908</td>\n",
              "      <td>USB-C Charging Cable</td>\n",
              "      <td>1</td>\n",
              "      <td>11.95</td>\n",
              "      <td>06/26/19 18:35</td>\n",
              "      <td>916 Main St, San Francisco, CA 94016</td>\n",
              "    </tr>\n",
              "    <tr>\n",
              "      <th>186849</th>\n",
              "      <td>222909</td>\n",
              "      <td>AAA Batteries (4-pack)</td>\n",
              "      <td>1</td>\n",
              "      <td>2.99</td>\n",
              "      <td>06/25/19 14:33</td>\n",
              "      <td>209 11th St, Atlanta, GA 30301</td>\n",
              "    </tr>\n",
              "  </tbody>\n",
              "</table>\n",
              "<p>186305 rows × 6 columns</p>\n",
              "</div>"
            ],
            "text/plain": [
              "       Order ID  ...                       Purchase Address\n",
              "0        150502  ...      866 Spruce St, Portland, ME 04101\n",
              "1        150503  ...    18 13th St, San Francisco, CA 94016\n",
              "2        150504  ...     52 6th St, New York City, NY 10001\n",
              "3        150505  ...       129 Cherry St, Atlanta, GA 30301\n",
              "4        150506  ...      548 Lincoln St, Seattle, WA 98101\n",
              "...         ...  ...                                    ...\n",
              "186845   222905  ...          795 Pine St, Boston, MA 02215\n",
              "186846   222906  ...  495 North St, New York City, NY 10001\n",
              "186847   222907  ...  319 Ridge St, San Francisco, CA 94016\n",
              "186848   222908  ...   916 Main St, San Francisco, CA 94016\n",
              "186849   222909  ...         209 11th St, Atlanta, GA 30301\n",
              "\n",
              "[186305 rows x 6 columns]"
            ]
          },
          "metadata": {
            "tags": []
          },
          "execution_count": 133
        }
      ]
    },
    {
      "cell_type": "code",
      "metadata": {
        "id": "LfXqCrS3kZK8"
      },
      "source": [
        "all_month['Month']=all_month['Order Date'].apply(lambda x:x[:2])"
      ],
      "execution_count": null,
      "outputs": []
    },
    {
      "cell_type": "code",
      "metadata": {
        "id": "uTijQ4AEkfnG",
        "outputId": "6e3436a1-6bc8-4553-f515-89969bee34c8",
        "colab": {
          "base_uri": "https://localhost:8080/",
          "height": 52
        }
      },
      "source": [
        "all_month['Month'].unique()"
      ],
      "execution_count": null,
      "outputs": [
        {
          "output_type": "execute_result",
          "data": {
            "text/plain": [
              "array(['02', '03', 'Or', '04', '07', '08', '05', '12', '01', '10', '11',\n",
              "       '06', '09'], dtype=object)"
            ]
          },
          "metadata": {
            "tags": []
          },
          "execution_count": 135
        }
      ]
    },
    {
      "cell_type": "code",
      "metadata": {
        "id": "bZ-XJ8ZlmLHn"
      },
      "source": [
        "all_month.drop(all_month[all_month['Month']=='Or'].index,inplace=True)"
      ],
      "execution_count": null,
      "outputs": []
    },
    {
      "cell_type": "code",
      "metadata": {
        "id": "0S8XxM30nH2t"
      },
      "source": [
        "all_month['Price Each']=all_month['Price Each'].astype('float32')"
      ],
      "execution_count": null,
      "outputs": []
    },
    {
      "cell_type": "code",
      "metadata": {
        "id": "AcJai5vlnM9p"
      },
      "source": [
        "all_month['Quantity Ordered']=all_month['Quantity Ordered'].astype('float32')"
      ],
      "execution_count": null,
      "outputs": []
    },
    {
      "cell_type": "code",
      "metadata": {
        "id": "AWGCv0SYmoMt"
      },
      "source": [
        "all_month['Amount']=all_month['Quantity Ordered']*all_month['Price Each']"
      ],
      "execution_count": null,
      "outputs": []
    },
    {
      "cell_type": "code",
      "metadata": {
        "id": "YhdPk5-B-Dqv",
        "outputId": "c92107d9-28f7-4273-e950-971d58a208a8",
        "colab": {
          "base_uri": "https://localhost:8080/",
          "height": 399
        }
      },
      "source": [
        "all_month"
      ],
      "execution_count": null,
      "outputs": [
        {
          "output_type": "execute_result",
          "data": {
            "text/html": [
              "<div>\n",
              "<style scoped>\n",
              "    .dataframe tbody tr th:only-of-type {\n",
              "        vertical-align: middle;\n",
              "    }\n",
              "\n",
              "    .dataframe tbody tr th {\n",
              "        vertical-align: top;\n",
              "    }\n",
              "\n",
              "    .dataframe thead th {\n",
              "        text-align: right;\n",
              "    }\n",
              "</style>\n",
              "<table border=\"1\" class=\"dataframe\">\n",
              "  <thead>\n",
              "    <tr style=\"text-align: right;\">\n",
              "      <th></th>\n",
              "      <th>Order ID</th>\n",
              "      <th>Product</th>\n",
              "      <th>Quantity Ordered</th>\n",
              "      <th>Price Each</th>\n",
              "      <th>Order Date</th>\n",
              "      <th>Purchase Address</th>\n",
              "      <th>Month</th>\n",
              "      <th>Amount</th>\n",
              "    </tr>\n",
              "  </thead>\n",
              "  <tbody>\n",
              "    <tr>\n",
              "      <th>0</th>\n",
              "      <td>150502</td>\n",
              "      <td>iPhone</td>\n",
              "      <td>1.0</td>\n",
              "      <td>700.000000</td>\n",
              "      <td>02/18/19 01:35</td>\n",
              "      <td>866 Spruce St, Portland, ME 04101</td>\n",
              "      <td>02</td>\n",
              "      <td>700.000000</td>\n",
              "    </tr>\n",
              "    <tr>\n",
              "      <th>1</th>\n",
              "      <td>150503</td>\n",
              "      <td>AA Batteries (4-pack)</td>\n",
              "      <td>1.0</td>\n",
              "      <td>3.840000</td>\n",
              "      <td>02/13/19 07:24</td>\n",
              "      <td>18 13th St, San Francisco, CA 94016</td>\n",
              "      <td>02</td>\n",
              "      <td>3.840000</td>\n",
              "    </tr>\n",
              "    <tr>\n",
              "      <th>2</th>\n",
              "      <td>150504</td>\n",
              "      <td>27in 4K Gaming Monitor</td>\n",
              "      <td>1.0</td>\n",
              "      <td>389.989990</td>\n",
              "      <td>02/18/19 09:46</td>\n",
              "      <td>52 6th St, New York City, NY 10001</td>\n",
              "      <td>02</td>\n",
              "      <td>389.989990</td>\n",
              "    </tr>\n",
              "    <tr>\n",
              "      <th>3</th>\n",
              "      <td>150505</td>\n",
              "      <td>Lightning Charging Cable</td>\n",
              "      <td>1.0</td>\n",
              "      <td>14.950000</td>\n",
              "      <td>02/02/19 16:47</td>\n",
              "      <td>129 Cherry St, Atlanta, GA 30301</td>\n",
              "      <td>02</td>\n",
              "      <td>14.950000</td>\n",
              "    </tr>\n",
              "    <tr>\n",
              "      <th>4</th>\n",
              "      <td>150506</td>\n",
              "      <td>AA Batteries (4-pack)</td>\n",
              "      <td>2.0</td>\n",
              "      <td>3.840000</td>\n",
              "      <td>02/28/19 20:32</td>\n",
              "      <td>548 Lincoln St, Seattle, WA 98101</td>\n",
              "      <td>02</td>\n",
              "      <td>7.680000</td>\n",
              "    </tr>\n",
              "    <tr>\n",
              "      <th>...</th>\n",
              "      <td>...</td>\n",
              "      <td>...</td>\n",
              "      <td>...</td>\n",
              "      <td>...</td>\n",
              "      <td>...</td>\n",
              "      <td>...</td>\n",
              "      <td>...</td>\n",
              "      <td>...</td>\n",
              "    </tr>\n",
              "    <tr>\n",
              "      <th>186845</th>\n",
              "      <td>222905</td>\n",
              "      <td>AAA Batteries (4-pack)</td>\n",
              "      <td>1.0</td>\n",
              "      <td>2.990000</td>\n",
              "      <td>06/07/19 19:02</td>\n",
              "      <td>795 Pine St, Boston, MA 02215</td>\n",
              "      <td>06</td>\n",
              "      <td>2.990000</td>\n",
              "    </tr>\n",
              "    <tr>\n",
              "      <th>186846</th>\n",
              "      <td>222906</td>\n",
              "      <td>27in FHD Monitor</td>\n",
              "      <td>1.0</td>\n",
              "      <td>149.990005</td>\n",
              "      <td>06/01/19 19:29</td>\n",
              "      <td>495 North St, New York City, NY 10001</td>\n",
              "      <td>06</td>\n",
              "      <td>149.990005</td>\n",
              "    </tr>\n",
              "    <tr>\n",
              "      <th>186847</th>\n",
              "      <td>222907</td>\n",
              "      <td>USB-C Charging Cable</td>\n",
              "      <td>1.0</td>\n",
              "      <td>11.950000</td>\n",
              "      <td>06/22/19 18:57</td>\n",
              "      <td>319 Ridge St, San Francisco, CA 94016</td>\n",
              "      <td>06</td>\n",
              "      <td>11.950000</td>\n",
              "    </tr>\n",
              "    <tr>\n",
              "      <th>186848</th>\n",
              "      <td>222908</td>\n",
              "      <td>USB-C Charging Cable</td>\n",
              "      <td>1.0</td>\n",
              "      <td>11.950000</td>\n",
              "      <td>06/26/19 18:35</td>\n",
              "      <td>916 Main St, San Francisco, CA 94016</td>\n",
              "      <td>06</td>\n",
              "      <td>11.950000</td>\n",
              "    </tr>\n",
              "    <tr>\n",
              "      <th>186849</th>\n",
              "      <td>222909</td>\n",
              "      <td>AAA Batteries (4-pack)</td>\n",
              "      <td>1.0</td>\n",
              "      <td>2.990000</td>\n",
              "      <td>06/25/19 14:33</td>\n",
              "      <td>209 11th St, Atlanta, GA 30301</td>\n",
              "      <td>06</td>\n",
              "      <td>2.990000</td>\n",
              "    </tr>\n",
              "  </tbody>\n",
              "</table>\n",
              "<p>185950 rows × 8 columns</p>\n",
              "</div>"
            ],
            "text/plain": [
              "       Order ID                   Product  ...  Month      Amount\n",
              "0        150502                    iPhone  ...     02  700.000000\n",
              "1        150503     AA Batteries (4-pack)  ...     02    3.840000\n",
              "2        150504    27in 4K Gaming Monitor  ...     02  389.989990\n",
              "3        150505  Lightning Charging Cable  ...     02   14.950000\n",
              "4        150506     AA Batteries (4-pack)  ...     02    7.680000\n",
              "...         ...                       ...  ...    ...         ...\n",
              "186845   222905    AAA Batteries (4-pack)  ...     06    2.990000\n",
              "186846   222906          27in FHD Monitor  ...     06  149.990005\n",
              "186847   222907      USB-C Charging Cable  ...     06   11.950000\n",
              "186848   222908      USB-C Charging Cable  ...     06   11.950000\n",
              "186849   222909    AAA Batteries (4-pack)  ...     06    2.990000\n",
              "\n",
              "[185950 rows x 8 columns]"
            ]
          },
          "metadata": {
            "tags": []
          },
          "execution_count": 149
        }
      ]
    },
    {
      "cell_type": "code",
      "metadata": {
        "id": "8dazYjj--Hxv",
        "outputId": "46d0deca-ac14-46f9-bf86-4adac7903a95",
        "colab": {
          "base_uri": "https://localhost:8080/",
          "height": 428
        }
      },
      "source": [
        "all_month.groupby('Month').aggregate('sum').sort_values('Amount')"
      ],
      "execution_count": null,
      "outputs": [
        {
          "output_type": "execute_result",
          "data": {
            "text/html": [
              "<div>\n",
              "<style scoped>\n",
              "    .dataframe tbody tr th:only-of-type {\n",
              "        vertical-align: middle;\n",
              "    }\n",
              "\n",
              "    .dataframe tbody tr th {\n",
              "        vertical-align: top;\n",
              "    }\n",
              "\n",
              "    .dataframe thead th {\n",
              "        text-align: right;\n",
              "    }\n",
              "</style>\n",
              "<table border=\"1\" class=\"dataframe\">\n",
              "  <thead>\n",
              "    <tr style=\"text-align: right;\">\n",
              "      <th></th>\n",
              "      <th>Quantity Ordered</th>\n",
              "      <th>Price Each</th>\n",
              "      <th>Amount</th>\n",
              "    </tr>\n",
              "    <tr>\n",
              "      <th>Month</th>\n",
              "      <th></th>\n",
              "      <th></th>\n",
              "      <th></th>\n",
              "    </tr>\n",
              "  </thead>\n",
              "  <tbody>\n",
              "    <tr>\n",
              "      <th>01</th>\n",
              "      <td>10903.0</td>\n",
              "      <td>1811768.375</td>\n",
              "      <td>1822256.75</td>\n",
              "    </tr>\n",
              "    <tr>\n",
              "      <th>09</th>\n",
              "      <td>13109.0</td>\n",
              "      <td>2084992.125</td>\n",
              "      <td>2097560.00</td>\n",
              "    </tr>\n",
              "    <tr>\n",
              "      <th>02</th>\n",
              "      <td>13449.0</td>\n",
              "      <td>2188884.750</td>\n",
              "      <td>2202022.50</td>\n",
              "    </tr>\n",
              "    <tr>\n",
              "      <th>08</th>\n",
              "      <td>13448.0</td>\n",
              "      <td>2230345.500</td>\n",
              "      <td>2244467.75</td>\n",
              "    </tr>\n",
              "    <tr>\n",
              "      <th>06</th>\n",
              "      <td>15253.0</td>\n",
              "      <td>2562025.500</td>\n",
              "      <td>2577802.25</td>\n",
              "    </tr>\n",
              "    <tr>\n",
              "      <th>07</th>\n",
              "      <td>16072.0</td>\n",
              "      <td>2632539.500</td>\n",
              "      <td>2647775.75</td>\n",
              "    </tr>\n",
              "    <tr>\n",
              "      <th>03</th>\n",
              "      <td>17005.0</td>\n",
              "      <td>2791207.750</td>\n",
              "      <td>2807100.25</td>\n",
              "    </tr>\n",
              "    <tr>\n",
              "      <th>05</th>\n",
              "      <td>18667.0</td>\n",
              "      <td>3135125.000</td>\n",
              "      <td>3152606.75</td>\n",
              "    </tr>\n",
              "    <tr>\n",
              "      <th>11</th>\n",
              "      <td>19798.0</td>\n",
              "      <td>3180600.750</td>\n",
              "      <td>3199603.25</td>\n",
              "    </tr>\n",
              "    <tr>\n",
              "      <th>04</th>\n",
              "      <td>20558.0</td>\n",
              "      <td>3367671.000</td>\n",
              "      <td>3390670.25</td>\n",
              "    </tr>\n",
              "    <tr>\n",
              "      <th>10</th>\n",
              "      <td>22703.0</td>\n",
              "      <td>3715554.750</td>\n",
              "      <td>3736726.75</td>\n",
              "    </tr>\n",
              "    <tr>\n",
              "      <th>12</th>\n",
              "      <td>28114.0</td>\n",
              "      <td>4588415.500</td>\n",
              "      <td>4613443.50</td>\n",
              "    </tr>\n",
              "  </tbody>\n",
              "</table>\n",
              "</div>"
            ],
            "text/plain": [
              "       Quantity Ordered   Price Each      Amount\n",
              "Month                                           \n",
              "01              10903.0  1811768.375  1822256.75\n",
              "09              13109.0  2084992.125  2097560.00\n",
              "02              13449.0  2188884.750  2202022.50\n",
              "08              13448.0  2230345.500  2244467.75\n",
              "06              15253.0  2562025.500  2577802.25\n",
              "07              16072.0  2632539.500  2647775.75\n",
              "03              17005.0  2791207.750  2807100.25\n",
              "05              18667.0  3135125.000  3152606.75\n",
              "11              19798.0  3180600.750  3199603.25\n",
              "04              20558.0  3367671.000  3390670.25\n",
              "10              22703.0  3715554.750  3736726.75\n",
              "12              28114.0  4588415.500  4613443.50"
            ]
          },
          "metadata": {
            "tags": []
          },
          "execution_count": 160
        }
      ]
    },
    {
      "cell_type": "markdown",
      "metadata": {
        "id": "-mzoNjKUJiDS"
      },
      "source": [
        "Data cleaning steps before this which involved removing blank rows and creating an additional month column"
      ]
    },
    {
      "cell_type": "code",
      "metadata": {
        "id": "pCDek1fu-NJv",
        "outputId": "c1b85238-586d-422f-f1cf-3c0841b90fa8",
        "colab": {
          "base_uri": "https://localhost:8080/",
          "height": 298
        }
      },
      "source": [
        "all_month.groupby('Month').aggregate('sum').plot.bar(y='Amount',color='blue')\n",
        "plt.ylabel('Sales')\n",
        "plt.title('The total sales monthwise')\n",
        "plt.grid()\n"
      ],
      "execution_count": null,
      "outputs": [
        {
          "output_type": "display_data",
          "data": {
            "image/png": "[encoded data removed]",
            "text/plain": [
              "<Figure size 432x288 with 1 Axes>"
            ]
          },
          "metadata": {
            "tags": [],
            "needs_background": "light"
          }
        }
      ]
    },
    {
      "cell_type": "markdown",
      "metadata": {
        "id": "ICgo-ZzCJ4xZ"
      },
      "source": [
        "Question 2:Which city has recorded the most sales?"
      ]
    },
    {
      "cell_type": "code",
      "metadata": {
        "id": "Qr9RGTIPBwpm",
        "outputId": "b09d3ea6-e3b9-464e-eec2-b51adc14e6b6",
        "colab": {
          "base_uri": "https://localhost:8080/",
          "height": 35
        }
      },
      "source": [
        "pd.to_numeric(all_month['Month'].unique())"
      ],
      "execution_count": null,
      "outputs": [
        {
          "output_type": "execute_result",
          "data": {
            "text/plain": [
              "array([ 2,  3,  4,  7,  8,  5, 12,  1, 10, 11,  6,  9])"
            ]
          },
          "metadata": {
            "tags": []
          },
          "execution_count": 202
        }
      ]
    },
    {
      "cell_type": "code",
      "metadata": {
        "id": "EnVuIpRkB-Iu",
        "outputId": "470b6459-d20c-46fa-8e51-9a69e3984f80",
        "colab": {
          "base_uri": "https://localhost:8080/",
          "height": 399
        }
      },
      "source": [
        "all_month"
      ],
      "execution_count": null,
      "outputs": [
        {
          "output_type": "execute_result",
          "data": {
            "text/html": [
              "<div>\n",
              "<style scoped>\n",
              "    .dataframe tbody tr th:only-of-type {\n",
              "        vertical-align: middle;\n",
              "    }\n",
              "\n",
              "    .dataframe tbody tr th {\n",
              "        vertical-align: top;\n",
              "    }\n",
              "\n",
              "    .dataframe thead th {\n",
              "        text-align: right;\n",
              "    }\n",
              "</style>\n",
              "<table border=\"1\" class=\"dataframe\">\n",
              "  <thead>\n",
              "    <tr style=\"text-align: right;\">\n",
              "      <th></th>\n",
              "      <th>Order ID</th>\n",
              "      <th>Product</th>\n",
              "      <th>Quantity Ordered</th>\n",
              "      <th>Price Each</th>\n",
              "      <th>Order Date</th>\n",
              "      <th>Purchase Address</th>\n",
              "      <th>Month</th>\n",
              "      <th>Amount</th>\n",
              "    </tr>\n",
              "  </thead>\n",
              "  <tbody>\n",
              "    <tr>\n",
              "      <th>0</th>\n",
              "      <td>150502</td>\n",
              "      <td>iPhone</td>\n",
              "      <td>1.0</td>\n",
              "      <td>700.000000</td>\n",
              "      <td>02/18/19 01:35</td>\n",
              "      <td>866 Spruce St, Portland, ME 04101</td>\n",
              "      <td>02</td>\n",
              "      <td>700.000000</td>\n",
              "    </tr>\n",
              "    <tr>\n",
              "      <th>1</th>\n",
              "      <td>150503</td>\n",
              "      <td>AA Batteries (4-pack)</td>\n",
              "      <td>1.0</td>\n",
              "      <td>3.840000</td>\n",
              "      <td>02/13/19 07:24</td>\n",
              "      <td>18 13th St, San Francisco, CA 94016</td>\n",
              "      <td>02</td>\n",
              "      <td>3.840000</td>\n",
              "    </tr>\n",
              "    <tr>\n",
              "      <th>2</th>\n",
              "      <td>150504</td>\n",
              "      <td>27in 4K Gaming Monitor</td>\n",
              "      <td>1.0</td>\n",
              "      <td>389.989990</td>\n",
              "      <td>02/18/19 09:46</td>\n",
              "      <td>52 6th St, New York City, NY 10001</td>\n",
              "      <td>02</td>\n",
              "      <td>389.989990</td>\n",
              "    </tr>\n",
              "    <tr>\n",
              "      <th>3</th>\n",
              "      <td>150505</td>\n",
              "      <td>Lightning Charging Cable</td>\n",
              "      <td>1.0</td>\n",
              "      <td>14.950000</td>\n",
              "      <td>02/02/19 16:47</td>\n",
              "      <td>129 Cherry St, Atlanta, GA 30301</td>\n",
              "      <td>02</td>\n",
              "      <td>14.950000</td>\n",
              "    </tr>\n",
              "    <tr>\n",
              "      <th>4</th>\n",
              "      <td>150506</td>\n",
              "      <td>AA Batteries (4-pack)</td>\n",
              "      <td>2.0</td>\n",
              "      <td>3.840000</td>\n",
              "      <td>02/28/19 20:32</td>\n",
              "      <td>548 Lincoln St, Seattle, WA 98101</td>\n",
              "      <td>02</td>\n",
              "      <td>7.680000</td>\n",
              "    </tr>\n",
              "    <tr>\n",
              "      <th>...</th>\n",
              "      <td>...</td>\n",
              "      <td>...</td>\n",
              "      <td>...</td>\n",
              "      <td>...</td>\n",
              "      <td>...</td>\n",
              "      <td>...</td>\n",
              "      <td>...</td>\n",
              "      <td>...</td>\n",
              "    </tr>\n",
              "    <tr>\n",
              "      <th>186845</th>\n",
              "      <td>222905</td>\n",
              "      <td>AAA Batteries (4-pack)</td>\n",
              "      <td>1.0</td>\n",
              "      <td>2.990000</td>\n",
              "      <td>06/07/19 19:02</td>\n",
              "      <td>795 Pine St, Boston, MA 02215</td>\n",
              "      <td>06</td>\n",
              "      <td>2.990000</td>\n",
              "    </tr>\n",
              "    <tr>\n",
              "      <th>186846</th>\n",
              "      <td>222906</td>\n",
              "      <td>27in FHD Monitor</td>\n",
              "      <td>1.0</td>\n",
              "      <td>149.990005</td>\n",
              "      <td>06/01/19 19:29</td>\n",
              "      <td>495 North St, New York City, NY 10001</td>\n",
              "      <td>06</td>\n",
              "      <td>149.990005</td>\n",
              "    </tr>\n",
              "    <tr>\n",
              "      <th>186847</th>\n",
              "      <td>222907</td>\n",
              "      <td>USB-C Charging Cable</td>\n",
              "      <td>1.0</td>\n",
              "      <td>11.950000</td>\n",
              "      <td>06/22/19 18:57</td>\n",
              "      <td>319 Ridge St, San Francisco, CA 94016</td>\n",
              "      <td>06</td>\n",
              "      <td>11.950000</td>\n",
              "    </tr>\n",
              "    <tr>\n",
              "      <th>186848</th>\n",
              "      <td>222908</td>\n",
              "      <td>USB-C Charging Cable</td>\n",
              "      <td>1.0</td>\n",
              "      <td>11.950000</td>\n",
              "      <td>06/26/19 18:35</td>\n",
              "      <td>916 Main St, San Francisco, CA 94016</td>\n",
              "      <td>06</td>\n",
              "      <td>11.950000</td>\n",
              "    </tr>\n",
              "    <tr>\n",
              "      <th>186849</th>\n",
              "      <td>222909</td>\n",
              "      <td>AAA Batteries (4-pack)</td>\n",
              "      <td>1.0</td>\n",
              "      <td>2.990000</td>\n",
              "      <td>06/25/19 14:33</td>\n",
              "      <td>209 11th St, Atlanta, GA 30301</td>\n",
              "      <td>06</td>\n",
              "      <td>2.990000</td>\n",
              "    </tr>\n",
              "  </tbody>\n",
              "</table>\n",
              "<p>185950 rows × 8 columns</p>\n",
              "</div>"
            ],
            "text/plain": [
              "       Order ID                   Product  ...  Month      Amount\n",
              "0        150502                    iPhone  ...     02  700.000000\n",
              "1        150503     AA Batteries (4-pack)  ...     02    3.840000\n",
              "2        150504    27in 4K Gaming Monitor  ...     02  389.989990\n",
              "3        150505  Lightning Charging Cable  ...     02   14.950000\n",
              "4        150506     AA Batteries (4-pack)  ...     02    7.680000\n",
              "...         ...                       ...  ...    ...         ...\n",
              "186845   222905    AAA Batteries (4-pack)  ...     06    2.990000\n",
              "186846   222906          27in FHD Monitor  ...     06  149.990005\n",
              "186847   222907      USB-C Charging Cable  ...     06   11.950000\n",
              "186848   222908      USB-C Charging Cable  ...     06   11.950000\n",
              "186849   222909    AAA Batteries (4-pack)  ...     06    2.990000\n",
              "\n",
              "[185950 rows x 8 columns]"
            ]
          },
          "metadata": {
            "tags": []
          },
          "execution_count": 209
        }
      ]
    },
    {
      "cell_type": "code",
      "metadata": {
        "id": "OM5lLRQ9GPbs"
      },
      "source": [
        "regex=re.compile(',(.*),')\n",
        "f=regex.search(all_month['Purchase Address'][0])"
      ],
      "execution_count": null,
      "outputs": []
    },
    {
      "cell_type": "code",
      "metadata": {
        "id": "7ZoCuvUGGUVH",
        "outputId": "fcbea8fc-5d5c-41e4-e892-cf9368180dee",
        "colab": {
          "base_uri": "https://localhost:8080/",
          "height": 36
        }
      },
      "source": [
        "f.group(1).strip()"
      ],
      "execution_count": null,
      "outputs": [
        {
          "output_type": "execute_result",
          "data": {
            "application/vnd.google.colaboratory.intrinsic+json": {
              "type": "string"
            },
            "text/plain": [
              "'Portland'"
            ]
          },
          "metadata": {
            "tags": []
          },
          "execution_count": 220
        }
      ]
    },
    {
      "cell_type": "code",
      "metadata": {
        "id": "Vx42IHUIGejf"
      },
      "source": [
        "all_month['City']=all_month['Purchase Address'].apply(lambda x:regex.search(x).group(1).strip())"
      ],
      "execution_count": null,
      "outputs": []
    },
    {
      "cell_type": "code",
      "metadata": {
        "id": "-XV1ij7VHXKa",
        "outputId": "853a3de9-47d6-4985-8c24-a26f27094ab3",
        "colab": {
          "base_uri": "https://localhost:8080/",
          "height": 52
        }
      },
      "source": [
        "all_month['City'].unique()"
      ],
      "execution_count": null,
      "outputs": [
        {
          "output_type": "execute_result",
          "data": {
            "text/plain": [
              "array(['Portland', 'San Francisco', 'New York City', 'Atlanta', 'Seattle',\n",
              "       'Austin', 'Los Angeles', 'Dallas', 'Boston'], dtype=object)"
            ]
          },
          "metadata": {
            "tags": []
          },
          "execution_count": 223
        }
      ]
    },
    {
      "cell_type": "code",
      "metadata": {
        "id": "h_PDvjxfHYb2",
        "outputId": "608141c2-b0b5-440a-e919-732e5ecd01c5",
        "colab": {
          "base_uri": "https://localhost:8080/",
          "height": 340
        }
      },
      "source": [
        "all_month.groupby('City').aggregate('sum').sort_values('Amount',ascending=False)"
      ],
      "execution_count": null,
      "outputs": [
        {
          "output_type": "execute_result",
          "data": {
            "text/html": [
              "<div>\n",
              "<style scoped>\n",
              "    .dataframe tbody tr th:only-of-type {\n",
              "        vertical-align: middle;\n",
              "    }\n",
              "\n",
              "    .dataframe tbody tr th {\n",
              "        vertical-align: top;\n",
              "    }\n",
              "\n",
              "    .dataframe thead th {\n",
              "        text-align: right;\n",
              "    }\n",
              "</style>\n",
              "<table border=\"1\" class=\"dataframe\">\n",
              "  <thead>\n",
              "    <tr style=\"text-align: right;\">\n",
              "      <th></th>\n",
              "      <th>Quantity Ordered</th>\n",
              "      <th>Price Each</th>\n",
              "      <th>Amount</th>\n",
              "    </tr>\n",
              "    <tr>\n",
              "      <th>City</th>\n",
              "      <th></th>\n",
              "      <th></th>\n",
              "      <th></th>\n",
              "    </tr>\n",
              "  </thead>\n",
              "  <tbody>\n",
              "    <tr>\n",
              "      <th>San Francisco</th>\n",
              "      <td>50239.0</td>\n",
              "      <td>8211461.500</td>\n",
              "      <td>8262204.00</td>\n",
              "    </tr>\n",
              "    <tr>\n",
              "      <th>Los Angeles</th>\n",
              "      <td>33289.0</td>\n",
              "      <td>5421435.000</td>\n",
              "      <td>5452571.00</td>\n",
              "    </tr>\n",
              "    <tr>\n",
              "      <th>New York City</th>\n",
              "      <td>27932.0</td>\n",
              "      <td>4635371.000</td>\n",
              "      <td>4664317.50</td>\n",
              "    </tr>\n",
              "    <tr>\n",
              "      <th>Boston</th>\n",
              "      <td>22528.0</td>\n",
              "      <td>3637409.750</td>\n",
              "      <td>3661642.00</td>\n",
              "    </tr>\n",
              "    <tr>\n",
              "      <th>Atlanta</th>\n",
              "      <td>16602.0</td>\n",
              "      <td>2779908.250</td>\n",
              "      <td>2795498.50</td>\n",
              "    </tr>\n",
              "    <tr>\n",
              "      <th>Dallas</th>\n",
              "      <td>16730.0</td>\n",
              "      <td>2752627.750</td>\n",
              "      <td>2767975.50</td>\n",
              "    </tr>\n",
              "    <tr>\n",
              "      <th>Seattle</th>\n",
              "      <td>16553.0</td>\n",
              "      <td>2733296.000</td>\n",
              "      <td>2747755.50</td>\n",
              "    </tr>\n",
              "    <tr>\n",
              "      <th>Portland</th>\n",
              "      <td>14053.0</td>\n",
              "      <td>2307747.500</td>\n",
              "      <td>2320490.50</td>\n",
              "    </tr>\n",
              "    <tr>\n",
              "      <th>Austin</th>\n",
              "      <td>11153.0</td>\n",
              "      <td>1809873.625</td>\n",
              "      <td>1819581.75</td>\n",
              "    </tr>\n",
              "  </tbody>\n",
              "</table>\n",
              "</div>"
            ],
            "text/plain": [
              "               Quantity Ordered   Price Each      Amount\n",
              "City                                                    \n",
              "San Francisco           50239.0  8211461.500  8262204.00\n",
              "Los Angeles             33289.0  5421435.000  5452571.00\n",
              "New York City           27932.0  4635371.000  4664317.50\n",
              "Boston                  22528.0  3637409.750  3661642.00\n",
              "Atlanta                 16602.0  2779908.250  2795498.50\n",
              "Dallas                  16730.0  2752627.750  2767975.50\n",
              "Seattle                 16553.0  2733296.000  2747755.50\n",
              "Portland                14053.0  2307747.500  2320490.50\n",
              "Austin                  11153.0  1809873.625  1819581.75"
            ]
          },
          "metadata": {
            "tags": []
          },
          "execution_count": 225
        }
      ]
    },
    {
      "cell_type": "code",
      "metadata": {
        "id": "CAyGhrvOHfqT",
        "outputId": "ca0c7960-6332-45e2-bcfa-5288d75e7e89",
        "colab": {
          "base_uri": "https://localhost:8080/",
          "height": 698
        }
      },
      "source": [
        "all_month.groupby('City').aggregate('sum').plot.bar(y='Amount',figsize=(10,10))\n",
        "plt.title('Sales by city')"
      ],
      "execution_count": null,
      "outputs": [
        {
          "output_type": "execute_result",
          "data": {
            "text/plain": [
              "Text(0.5, 1.0, 'Sales by city')"
            ]
          },
          "metadata": {
            "tags": []
          },
          "execution_count": 228
        },
        {
          "output_type": "display_data",
          "data": {
            "image/png": "[encoded data removed]",
            "text/plain": [
              "<Figure size 720x720 with 1 Axes>"
            ]
          },
          "metadata": {
            "tags": [],
            "needs_background": "light"
          }
        }
      ]
    },
    {
      "cell_type": "markdown",
      "metadata": {
        "id": "_1m9o4OAJYmB"
      },
      "source": [
        "Question 3:WHat time should advertisment be shown to maximize purchase\n"
      ]
    },
    {
      "cell_type": "code",
      "metadata": {
        "id": "B98n4ynuHsgc"
      },
      "source": [
        "all_month['Order Date']=pd.to_datetime(all_month['Order Date'])"
      ],
      "execution_count": null,
      "outputs": []
    },
    {
      "cell_type": "code",
      "metadata": {
        "id": "HtB5U4y2KN_T"
      },
      "source": [
        "all_month['Order Time']=all_month['Order Date'].dt.time"
      ],
      "execution_count": null,
      "outputs": []
    },
    {
      "cell_type": "code",
      "metadata": {
        "id": "9UmG5kRWKtOi"
      },
      "source": [
        "all_month['Hour']=all_month['Order Date'].dt.hour"
      ],
      "execution_count": null,
      "outputs": []
    },
    {
      "cell_type": "code",
      "metadata": {
        "id": "4zacrSuoLVQy",
        "outputId": "3653308d-a649-4816-a7b2-6ed013b36c2f",
        "colab": {
          "base_uri": "https://localhost:8080/",
          "height": 585
        }
      },
      "source": [
        "all_month"
      ],
      "execution_count": null,
      "outputs": [
        {
          "output_type": "execute_result",
          "data": {
            "text/html": [
              "<div>\n",
              "<style scoped>\n",
              "    .dataframe tbody tr th:only-of-type {\n",
              "        vertical-align: middle;\n",
              "    }\n",
              "\n",
              "    .dataframe tbody tr th {\n",
              "        vertical-align: top;\n",
              "    }\n",
              "\n",
              "    .dataframe thead th {\n",
              "        text-align: right;\n",
              "    }\n",
              "</style>\n",
              "<table border=\"1\" class=\"dataframe\">\n",
              "  <thead>\n",
              "    <tr style=\"text-align: right;\">\n",
              "      <th></th>\n",
              "      <th>Order ID</th>\n",
              "      <th>Product</th>\n",
              "      <th>Quantity Ordered</th>\n",
              "      <th>Price Each</th>\n",
              "      <th>Order Date</th>\n",
              "      <th>Purchase Address</th>\n",
              "      <th>Month</th>\n",
              "      <th>Amount</th>\n",
              "      <th>City</th>\n",
              "      <th>Order Time</th>\n",
              "      <th>Hour</th>\n",
              "    </tr>\n",
              "  </thead>\n",
              "  <tbody>\n",
              "    <tr>\n",
              "      <th>0</th>\n",
              "      <td>150502</td>\n",
              "      <td>iPhone</td>\n",
              "      <td>1.0</td>\n",
              "      <td>700.000000</td>\n",
              "      <td>2019-02-18 01:35:00</td>\n",
              "      <td>866 Spruce St, Portland, ME 04101</td>\n",
              "      <td>02</td>\n",
              "      <td>700.000000</td>\n",
              "      <td>Portland</td>\n",
              "      <td>01:35:00</td>\n",
              "      <td>1</td>\n",
              "    </tr>\n",
              "    <tr>\n",
              "      <th>1</th>\n",
              "      <td>150503</td>\n",
              "      <td>AA Batteries (4-pack)</td>\n",
              "      <td>1.0</td>\n",
              "      <td>3.840000</td>\n",
              "      <td>2019-02-13 07:24:00</td>\n",
              "      <td>18 13th St, San Francisco, CA 94016</td>\n",
              "      <td>02</td>\n",
              "      <td>3.840000</td>\n",
              "      <td>San Francisco</td>\n",
              "      <td>07:24:00</td>\n",
              "      <td>7</td>\n",
              "    </tr>\n",
              "    <tr>\n",
              "      <th>2</th>\n",
              "      <td>150504</td>\n",
              "      <td>27in 4K Gaming Monitor</td>\n",
              "      <td>1.0</td>\n",
              "      <td>389.989990</td>\n",
              "      <td>2019-02-18 09:46:00</td>\n",
              "      <td>52 6th St, New York City, NY 10001</td>\n",
              "      <td>02</td>\n",
              "      <td>389.989990</td>\n",
              "      <td>New York City</td>\n",
              "      <td>09:46:00</td>\n",
              "      <td>9</td>\n",
              "    </tr>\n",
              "    <tr>\n",
              "      <th>3</th>\n",
              "      <td>150505</td>\n",
              "      <td>Lightning Charging Cable</td>\n",
              "      <td>1.0</td>\n",
              "      <td>14.950000</td>\n",
              "      <td>2019-02-02 16:47:00</td>\n",
              "      <td>129 Cherry St, Atlanta, GA 30301</td>\n",
              "      <td>02</td>\n",
              "      <td>14.950000</td>\n",
              "      <td>Atlanta</td>\n",
              "      <td>16:47:00</td>\n",
              "      <td>16</td>\n",
              "    </tr>\n",
              "    <tr>\n",
              "      <th>4</th>\n",
              "      <td>150506</td>\n",
              "      <td>AA Batteries (4-pack)</td>\n",
              "      <td>2.0</td>\n",
              "      <td>3.840000</td>\n",
              "      <td>2019-02-28 20:32:00</td>\n",
              "      <td>548 Lincoln St, Seattle, WA 98101</td>\n",
              "      <td>02</td>\n",
              "      <td>7.680000</td>\n",
              "      <td>Seattle</td>\n",
              "      <td>20:32:00</td>\n",
              "      <td>20</td>\n",
              "    </tr>\n",
              "    <tr>\n",
              "      <th>...</th>\n",
              "      <td>...</td>\n",
              "      <td>...</td>\n",
              "      <td>...</td>\n",
              "      <td>...</td>\n",
              "      <td>...</td>\n",
              "      <td>...</td>\n",
              "      <td>...</td>\n",
              "      <td>...</td>\n",
              "      <td>...</td>\n",
              "      <td>...</td>\n",
              "      <td>...</td>\n",
              "    </tr>\n",
              "    <tr>\n",
              "      <th>186845</th>\n",
              "      <td>222905</td>\n",
              "      <td>AAA Batteries (4-pack)</td>\n",
              "      <td>1.0</td>\n",
              "      <td>2.990000</td>\n",
              "      <td>2019-06-07 19:02:00</td>\n",
              "      <td>795 Pine St, Boston, MA 02215</td>\n",
              "      <td>06</td>\n",
              "      <td>2.990000</td>\n",
              "      <td>Boston</td>\n",
              "      <td>19:02:00</td>\n",
              "      <td>19</td>\n",
              "    </tr>\n",
              "    <tr>\n",
              "      <th>186846</th>\n",
              "      <td>222906</td>\n",
              "      <td>27in FHD Monitor</td>\n",
              "      <td>1.0</td>\n",
              "      <td>149.990005</td>\n",
              "      <td>2019-06-01 19:29:00</td>\n",
              "      <td>495 North St, New York City, NY 10001</td>\n",
              "      <td>06</td>\n",
              "      <td>149.990005</td>\n",
              "      <td>New York City</td>\n",
              "      <td>19:29:00</td>\n",
              "      <td>19</td>\n",
              "    </tr>\n",
              "    <tr>\n",
              "      <th>186847</th>\n",
              "      <td>222907</td>\n",
              "      <td>USB-C Charging Cable</td>\n",
              "      <td>1.0</td>\n",
              "      <td>11.950000</td>\n",
              "      <td>2019-06-22 18:57:00</td>\n",
              "      <td>319 Ridge St, San Francisco, CA 94016</td>\n",
              "      <td>06</td>\n",
              "      <td>11.950000</td>\n",
              "      <td>San Francisco</td>\n",
              "      <td>18:57:00</td>\n",
              "      <td>18</td>\n",
              "    </tr>\n",
              "    <tr>\n",
              "      <th>186848</th>\n",
              "      <td>222908</td>\n",
              "      <td>USB-C Charging Cable</td>\n",
              "      <td>1.0</td>\n",
              "      <td>11.950000</td>\n",
              "      <td>2019-06-26 18:35:00</td>\n",
              "      <td>916 Main St, San Francisco, CA 94016</td>\n",
              "      <td>06</td>\n",
              "      <td>11.950000</td>\n",
              "      <td>San Francisco</td>\n",
              "      <td>18:35:00</td>\n",
              "      <td>18</td>\n",
              "    </tr>\n",
              "    <tr>\n",
              "      <th>186849</th>\n",
              "      <td>222909</td>\n",
              "      <td>AAA Batteries (4-pack)</td>\n",
              "      <td>1.0</td>\n",
              "      <td>2.990000</td>\n",
              "      <td>2019-06-25 14:33:00</td>\n",
              "      <td>209 11th St, Atlanta, GA 30301</td>\n",
              "      <td>06</td>\n",
              "      <td>2.990000</td>\n",
              "      <td>Atlanta</td>\n",
              "      <td>14:33:00</td>\n",
              "      <td>14</td>\n",
              "    </tr>\n",
              "  </tbody>\n",
              "</table>\n",
              "<p>185950 rows × 11 columns</p>\n",
              "</div>"
            ],
            "text/plain": [
              "       Order ID                   Product  ...  Order Time  Hour\n",
              "0        150502                    iPhone  ...    01:35:00     1\n",
              "1        150503     AA Batteries (4-pack)  ...    07:24:00     7\n",
              "2        150504    27in 4K Gaming Monitor  ...    09:46:00     9\n",
              "3        150505  Lightning Charging Cable  ...    16:47:00    16\n",
              "4        150506     AA Batteries (4-pack)  ...    20:32:00    20\n",
              "...         ...                       ...  ...         ...   ...\n",
              "186845   222905    AAA Batteries (4-pack)  ...    19:02:00    19\n",
              "186846   222906          27in FHD Monitor  ...    19:29:00    19\n",
              "186847   222907      USB-C Charging Cable  ...    18:57:00    18\n",
              "186848   222908      USB-C Charging Cable  ...    18:35:00    18\n",
              "186849   222909    AAA Batteries (4-pack)  ...    14:33:00    14\n",
              "\n",
              "[185950 rows x 11 columns]"
            ]
          },
          "metadata": {
            "tags": []
          },
          "execution_count": 245
        }
      ]
    },
    {
      "cell_type": "code",
      "metadata": {
        "id": "J0BOyvBkNFDQ",
        "outputId": "4177a3cc-56e1-46d1-c387-c6906748302f",
        "colab": {
          "base_uri": "https://localhost:8080/",
          "height": 886
        }
      },
      "source": [
        "all_month.groupby('Hour').count().plot(y='Quantity Ordered',figsize=(7,7))\n",
        "values=[i for i,j in all_month.groupby('Hour')]\n",
        "plt.grid(True)\n",
        "plt.xticks(values)"
      ],
      "execution_count": null,
      "outputs": [
        {
          "output_type": "execute_result",
          "data": {
            "text/plain": [
              "([<matplotlib.axis.XTick at 0x7f5fc2b11da0>,\n",
              "  <matplotlib.axis.XTick at 0x7f5fc2b11dd8>,\n",
              "  <matplotlib.axis.XTick at 0x7f5fc28c3b38>,\n",
              "  <matplotlib.axis.XTick at 0x7f5fc2b28780>,\n",
              "  <matplotlib.axis.XTick at 0x7f5fc28c32e8>,\n",
              "  <matplotlib.axis.XTick at 0x7f5fc2b28940>,\n",
              "  <matplotlib.axis.XTick at 0x7f5fc2b28da0>,\n",
              "  <matplotlib.axis.XTick at 0x7f5fc2b11780>,\n",
              "  <matplotlib.axis.XTick at 0x7f5fc2861828>,\n",
              "  <matplotlib.axis.XTick at 0x7f5fc28613c8>,\n",
              "  <matplotlib.axis.XTick at 0x7f5fc2861438>,\n",
              "  <matplotlib.axis.XTick at 0x7f5fc2861f28>,\n",
              "  <matplotlib.axis.XTick at 0x7f5fc28691d0>,\n",
              "  <matplotlib.axis.XTick at 0x7f5fc28692e8>,\n",
              "  <matplotlib.axis.XTick at 0x7f5fc28615c0>,\n",
              "  <matplotlib.axis.XTick at 0x7f5fc2861390>,\n",
              "  <matplotlib.axis.XTick at 0x7f5fc2b280f0>,\n",
              "  <matplotlib.axis.XTick at 0x7f5fc1c166a0>,\n",
              "  <matplotlib.axis.XTick at 0x7f5fc28ccd68>,\n",
              "  <matplotlib.axis.XTick at 0x7f5fc28cc438>,\n",
              "  <matplotlib.axis.XTick at 0x7f5fc28cc8d0>,\n",
              "  <matplotlib.axis.XTick at 0x7f5fc28ccef0>,\n",
              "  <matplotlib.axis.XTick at 0x7f5fc28b2f98>,\n",
              "  <matplotlib.axis.XTick at 0x7f5fc28cc940>],\n",
              " <a list of 24 Text major ticklabel objects>)"
            ]
          },
          "metadata": {
            "tags": []
          },
          "execution_count": 262
        },
        {
          "output_type": "display_data",
          "data": {
            "image/png": "[encoded data removed]",
            "text/plain": [
              "<Figure size 504x504 with 1 Axes>"
            ]
          },
          "metadata": {
            "tags": [],
            "needs_background": "light"
          }
        }
      ]
    },
    {
      "cell_type": "markdown",
      "metadata": {
        "id": "wwIkqp36Kgti"
      },
      "source": [
        "Question 4:Which items are bought together in pairs the most ?"
      ]
    },
    {
      "cell_type": "code",
      "metadata": {
        "id": "QYji8VxRNI3Y",
        "outputId": "d4197ccc-53f8-4b72-f643-9c2ddada6210",
        "colab": {
          "base_uri": "https://localhost:8080/",
          "height": 35
        }
      },
      "source": [
        "len(all_month['Order Date'].unique())"
      ],
      "execution_count": null,
      "outputs": [
        {
          "output_type": "execute_result",
          "data": {
            "text/plain": [
              "142395"
            ]
          },
          "metadata": {
            "tags": []
          },
          "execution_count": 260
        }
      ]
    },
    {
      "cell_type": "code",
      "metadata": {
        "id": "mfd3PpvLNVXn",
        "outputId": "c520a5fb-1fa2-418f-e875-f583b09f3934",
        "colab": {
          "base_uri": "https://localhost:8080/",
          "height": 35
        }
      },
      "source": [
        "len(all_month['Order ID'].unique())"
      ],
      "execution_count": null,
      "outputs": [
        {
          "output_type": "execute_result",
          "data": {
            "text/plain": [
              "178437"
            ]
          },
          "metadata": {
            "tags": []
          },
          "execution_count": 261
        }
      ]
    },
    {
      "cell_type": "code",
      "metadata": {
        "id": "oNEM4-RuOAT3"
      },
      "source": [
        "all_multi_orders=all_month[all_month.duplicated(subset=['Order ID'],keep=False)]"
      ],
      "execution_count": null,
      "outputs": []
    },
    {
      "cell_type": "code",
      "metadata": {
        "id": "_hwbx1bDOZ87"
      },
      "source": [
        "orders=all_multi_orders['Order ID'].unique()"
      ],
      "execution_count": null,
      "outputs": []
    },
    {
      "cell_type": "code",
      "metadata": {
        "id": "iRD8_KZIRkuW",
        "outputId": "f5b9a153-c4b6-44a7-d272-5b516060fcb5",
        "colab": {
          "base_uri": "https://localhost:8080/",
          "height": 52
        }
      },
      "source": [
        "orders"
      ],
      "execution_count": null,
      "outputs": [
        {
          "output_type": "execute_result",
          "data": {
            "text/plain": [
              "array(['150518', '150582', '150590', ..., '222882', '222884', '222903'],\n",
              "      dtype=object)"
            ]
          },
          "metadata": {
            "tags": []
          },
          "execution_count": 296
        }
      ]
    },
    {
      "cell_type": "code",
      "metadata": {
        "id": "egd9mGWkQp2r",
        "outputId": "d35979cf-e69c-4080-e740-983c0a3b121f",
        "colab": {
          "base_uri": "https://localhost:8080/",
          "height": 36
        }
      },
      "source": [
        "all_multi_orders[all_multi_orders['Order ID']=='150518']['Product'].values[1]"
      ],
      "execution_count": null,
      "outputs": [
        {
          "output_type": "execute_result",
          "data": {
            "application/vnd.google.colaboratory.intrinsic+json": {
              "type": "string"
            },
            "text/plain": [
              "'iPhone'"
            ]
          },
          "metadata": {
            "tags": []
          },
          "execution_count": 312
        }
      ]
    },
    {
      "cell_type": "code",
      "metadata": {
        "id": "h06U5jvOOSdS"
      },
      "source": [
        "order_pairs=[]\n",
        "def order_pair(x):\n",
        "    return all_multi_orders[all_multi_orders['Order ID']==x]['Product'].values[0],all_multi_orders[all_multi_orders['Order ID']==x]['Product'].values[1]"
      ],
      "execution_count": null,
      "outputs": []
    },
    {
      "cell_type": "code",
      "metadata": {
        "id": "oVyX_KO8Psg8",
        "outputId": "ff506b60-fd19-40d3-cd53-c2cd2a9b93a4",
        "colab": {
          "base_uri": "https://localhost:8080/",
          "height": 124
        }
      },
      "source": [
        "all_multi_orders['Order Pairs']=all_multi_orders['Order ID'].apply(lambda x:order_pair(x))"
      ],
      "execution_count": null,
      "outputs": [
        {
          "output_type": "stream",
          "text": [
            "/usr/local/lib/python3.6/dist-packages/ipykernel_launcher.py:1: SettingWithCopyWarning: \n",
            "A value is trying to be set on a copy of a slice from a DataFrame.\n",
            "Try using .loc[row_indexer,col_indexer] = value instead\n",
            "\n",
            "See the caveats in the documentation: https://pandas.pydata.org/pandas-docs/stable/user_guide/indexing.html#returning-a-view-versus-a-copy\n",
            "  \"\"\"Entry point for launching an IPython kernel.\n"
          ],
          "name": "stderr"
        }
      ]
    },
    {
      "cell_type": "code",
      "metadata": {
        "id": "GcJ_MtwERohb",
        "outputId": "24cfec3d-3bc7-457a-eb83-590b27eb8ce2",
        "colab": {
          "base_uri": "https://localhost:8080/",
          "height": 428
        }
      },
      "source": [
        "all_multi_orders.groupby('Order Pairs').count().sort_values('Quantity Ordered')"
      ],
      "execution_count": null,
      "outputs": [
        {
          "output_type": "execute_result",
          "data": {
            "text/html": [
              "<div>\n",
              "<style scoped>\n",
              "    .dataframe tbody tr th:only-of-type {\n",
              "        vertical-align: middle;\n",
              "    }\n",
              "\n",
              "    .dataframe tbody tr th {\n",
              "        vertical-align: top;\n",
              "    }\n",
              "\n",
              "    .dataframe thead th {\n",
              "        text-align: right;\n",
              "    }\n",
              "</style>\n",
              "<table border=\"1\" class=\"dataframe\">\n",
              "  <thead>\n",
              "    <tr style=\"text-align: right;\">\n",
              "      <th></th>\n",
              "      <th>Order ID</th>\n",
              "      <th>Product</th>\n",
              "      <th>Quantity Ordered</th>\n",
              "      <th>Price Each</th>\n",
              "      <th>Order Date</th>\n",
              "      <th>Purchase Address</th>\n",
              "      <th>Month</th>\n",
              "      <th>Amount</th>\n",
              "      <th>City</th>\n",
              "      <th>Order Time</th>\n",
              "      <th>Hour</th>\n",
              "    </tr>\n",
              "    <tr>\n",
              "      <th>Order Pairs</th>\n",
              "      <th></th>\n",
              "      <th></th>\n",
              "      <th></th>\n",
              "      <th></th>\n",
              "      <th></th>\n",
              "      <th></th>\n",
              "      <th></th>\n",
              "      <th></th>\n",
              "      <th></th>\n",
              "      <th></th>\n",
              "      <th></th>\n",
              "    </tr>\n",
              "  </thead>\n",
              "  <tbody>\n",
              "    <tr>\n",
              "      <th>(iPhone, iPhone)</th>\n",
              "      <td>2</td>\n",
              "      <td>2</td>\n",
              "      <td>2</td>\n",
              "      <td>2</td>\n",
              "      <td>2</td>\n",
              "      <td>2</td>\n",
              "      <td>2</td>\n",
              "      <td>2</td>\n",
              "      <td>2</td>\n",
              "      <td>2</td>\n",
              "      <td>2</td>\n",
              "    </tr>\n",
              "    <tr>\n",
              "      <th>(ThinkPad Laptop, 27in 4K Gaming Monitor)</th>\n",
              "      <td>2</td>\n",
              "      <td>2</td>\n",
              "      <td>2</td>\n",
              "      <td>2</td>\n",
              "      <td>2</td>\n",
              "      <td>2</td>\n",
              "      <td>2</td>\n",
              "      <td>2</td>\n",
              "      <td>2</td>\n",
              "      <td>2</td>\n",
              "      <td>2</td>\n",
              "    </tr>\n",
              "    <tr>\n",
              "      <th>(Macbook Pro Laptop, Flatscreen TV)</th>\n",
              "      <td>2</td>\n",
              "      <td>2</td>\n",
              "      <td>2</td>\n",
              "      <td>2</td>\n",
              "      <td>2</td>\n",
              "      <td>2</td>\n",
              "      <td>2</td>\n",
              "      <td>2</td>\n",
              "      <td>2</td>\n",
              "      <td>2</td>\n",
              "      <td>2</td>\n",
              "    </tr>\n",
              "    <tr>\n",
              "      <th>(27in FHD Monitor, Google Phone)</th>\n",
              "      <td>2</td>\n",
              "      <td>2</td>\n",
              "      <td>2</td>\n",
              "      <td>2</td>\n",
              "      <td>2</td>\n",
              "      <td>2</td>\n",
              "      <td>2</td>\n",
              "      <td>2</td>\n",
              "      <td>2</td>\n",
              "      <td>2</td>\n",
              "      <td>2</td>\n",
              "    </tr>\n",
              "    <tr>\n",
              "      <th>(27in FHD Monitor, LG Washing Machine)</th>\n",
              "      <td>2</td>\n",
              "      <td>2</td>\n",
              "      <td>2</td>\n",
              "      <td>2</td>\n",
              "      <td>2</td>\n",
              "      <td>2</td>\n",
              "      <td>2</td>\n",
              "      <td>2</td>\n",
              "      <td>2</td>\n",
              "      <td>2</td>\n",
              "      <td>2</td>\n",
              "    </tr>\n",
              "    <tr>\n",
              "      <th>...</th>\n",
              "      <td>...</td>\n",
              "      <td>...</td>\n",
              "      <td>...</td>\n",
              "      <td>...</td>\n",
              "      <td>...</td>\n",
              "      <td>...</td>\n",
              "      <td>...</td>\n",
              "      <td>...</td>\n",
              "      <td>...</td>\n",
              "      <td>...</td>\n",
              "      <td>...</td>\n",
              "    </tr>\n",
              "    <tr>\n",
              "      <th>(iPhone, Apple Airpods Headphones)</th>\n",
              "      <td>653</td>\n",
              "      <td>653</td>\n",
              "      <td>653</td>\n",
              "      <td>653</td>\n",
              "      <td>653</td>\n",
              "      <td>653</td>\n",
              "      <td>653</td>\n",
              "      <td>653</td>\n",
              "      <td>653</td>\n",
              "      <td>653</td>\n",
              "      <td>653</td>\n",
              "    </tr>\n",
              "    <tr>\n",
              "      <th>(iPhone, Wired Headphones)</th>\n",
              "      <td>725</td>\n",
              "      <td>725</td>\n",
              "      <td>725</td>\n",
              "      <td>725</td>\n",
              "      <td>725</td>\n",
              "      <td>725</td>\n",
              "      <td>725</td>\n",
              "      <td>725</td>\n",
              "      <td>725</td>\n",
              "      <td>725</td>\n",
              "      <td>725</td>\n",
              "    </tr>\n",
              "    <tr>\n",
              "      <th>(Vareebadd Phone, USB-C Charging Cable)</th>\n",
              "      <td>773</td>\n",
              "      <td>773</td>\n",
              "      <td>773</td>\n",
              "      <td>773</td>\n",
              "      <td>773</td>\n",
              "      <td>773</td>\n",
              "      <td>773</td>\n",
              "      <td>773</td>\n",
              "      <td>773</td>\n",
              "      <td>773</td>\n",
              "      <td>773</td>\n",
              "    </tr>\n",
              "    <tr>\n",
              "      <th>(Google Phone, USB-C Charging Cable)</th>\n",
              "      <td>2106</td>\n",
              "      <td>2106</td>\n",
              "      <td>2106</td>\n",
              "      <td>2106</td>\n",
              "      <td>2106</td>\n",
              "      <td>2106</td>\n",
              "      <td>2106</td>\n",
              "      <td>2106</td>\n",
              "      <td>2106</td>\n",
              "      <td>2106</td>\n",
              "      <td>2106</td>\n",
              "    </tr>\n",
              "    <tr>\n",
              "      <th>(iPhone, Lightning Charging Cable)</th>\n",
              "      <td>2128</td>\n",
              "      <td>2128</td>\n",
              "      <td>2128</td>\n",
              "      <td>2128</td>\n",
              "      <td>2128</td>\n",
              "      <td>2128</td>\n",
              "      <td>2128</td>\n",
              "      <td>2128</td>\n",
              "      <td>2128</td>\n",
              "      <td>2128</td>\n",
              "      <td>2128</td>\n",
              "    </tr>\n",
              "  </tbody>\n",
              "</table>\n",
              "<p>312 rows × 11 columns</p>\n",
              "</div>"
            ],
            "text/plain": [
              "                                           Order ID  Product  ...  Order Time  Hour\n",
              "Order Pairs                                                   ...                  \n",
              "(iPhone, iPhone)                                  2        2  ...           2     2\n",
              "(ThinkPad Laptop, 27in 4K Gaming Monitor)         2        2  ...           2     2\n",
              "(Macbook Pro Laptop, Flatscreen TV)               2        2  ...           2     2\n",
              "(27in FHD Monitor, Google Phone)                  2        2  ...           2     2\n",
              "(27in FHD Monitor, LG Washing Machine)            2        2  ...           2     2\n",
              "...                                             ...      ...  ...         ...   ...\n",
              "(iPhone, Apple Airpods Headphones)              653      653  ...         653   653\n",
              "(iPhone, Wired Headphones)                      725      725  ...         725   725\n",
              "(Vareebadd Phone, USB-C Charging Cable)         773      773  ...         773   773\n",
              "(Google Phone, USB-C Charging Cable)           2106     2106  ...        2106  2106\n",
              "(iPhone, Lightning Charging Cable)             2128     2128  ...        2128  2128\n",
              "\n",
              "[312 rows x 11 columns]"
            ]
          },
          "metadata": {
            "tags": []
          },
          "execution_count": 333
        }
      ]
    },
    {
      "cell_type": "code",
      "metadata": {
        "id": "JpG0k0Y5XVQr",
        "outputId": "8186a1bb-e0b3-44a5-fa77-c67ebea9c0dc",
        "colab": {
          "base_uri": "https://localhost:8080/",
          "height": 585
        }
      },
      "source": [
        "all_multi_orders"
      ],
      "execution_count": null,
      "outputs": [
        {
          "output_type": "execute_result",
          "data": {
            "text/html": [
              "<div>\n",
              "<style scoped>\n",
              "    .dataframe tbody tr th:only-of-type {\n",
              "        vertical-align: middle;\n",
              "    }\n",
              "\n",
              "    .dataframe tbody tr th {\n",
              "        vertical-align: top;\n",
              "    }\n",
              "\n",
              "    .dataframe thead th {\n",
              "        text-align: right;\n",
              "    }\n",
              "</style>\n",
              "<table border=\"1\" class=\"dataframe\">\n",
              "  <thead>\n",
              "    <tr style=\"text-align: right;\">\n",
              "      <th></th>\n",
              "      <th>Order ID</th>\n",
              "      <th>Product</th>\n",
              "      <th>Quantity Ordered</th>\n",
              "      <th>Price Each</th>\n",
              "      <th>Order Date</th>\n",
              "      <th>Purchase Address</th>\n",
              "      <th>Month</th>\n",
              "      <th>Amount</th>\n",
              "      <th>City</th>\n",
              "      <th>Order Time</th>\n",
              "      <th>Hour</th>\n",
              "      <th>Order Pairs</th>\n",
              "    </tr>\n",
              "  </thead>\n",
              "  <tbody>\n",
              "    <tr>\n",
              "      <th>16</th>\n",
              "      <td>150518</td>\n",
              "      <td>Macbook Pro Laptop</td>\n",
              "      <td>1.0</td>\n",
              "      <td>1700.00</td>\n",
              "      <td>2019-02-26 12:38:00</td>\n",
              "      <td>847 10th St, San Francisco, CA 94016</td>\n",
              "      <td>02</td>\n",
              "      <td>1700.00</td>\n",
              "      <td>San Francisco</td>\n",
              "      <td>12:38:00</td>\n",
              "      <td>12</td>\n",
              "      <td>(Macbook Pro Laptop, iPhone)</td>\n",
              "    </tr>\n",
              "    <tr>\n",
              "      <th>17</th>\n",
              "      <td>150518</td>\n",
              "      <td>iPhone</td>\n",
              "      <td>1.0</td>\n",
              "      <td>700.00</td>\n",
              "      <td>2019-02-26 12:38:00</td>\n",
              "      <td>847 10th St, San Francisco, CA 94016</td>\n",
              "      <td>02</td>\n",
              "      <td>700.00</td>\n",
              "      <td>San Francisco</td>\n",
              "      <td>12:38:00</td>\n",
              "      <td>12</td>\n",
              "      <td>(Macbook Pro Laptop, iPhone)</td>\n",
              "    </tr>\n",
              "    <tr>\n",
              "      <th>82</th>\n",
              "      <td>150582</td>\n",
              "      <td>iPhone</td>\n",
              "      <td>1.0</td>\n",
              "      <td>700.00</td>\n",
              "      <td>2019-02-16 23:38:00</td>\n",
              "      <td>678 Maple St, Seattle, WA 98101</td>\n",
              "      <td>02</td>\n",
              "      <td>700.00</td>\n",
              "      <td>Seattle</td>\n",
              "      <td>23:38:00</td>\n",
              "      <td>23</td>\n",
              "      <td>(iPhone, Lightning Charging Cable)</td>\n",
              "    </tr>\n",
              "    <tr>\n",
              "      <th>83</th>\n",
              "      <td>150582</td>\n",
              "      <td>Lightning Charging Cable</td>\n",
              "      <td>1.0</td>\n",
              "      <td>14.95</td>\n",
              "      <td>2019-02-16 23:38:00</td>\n",
              "      <td>678 Maple St, Seattle, WA 98101</td>\n",
              "      <td>02</td>\n",
              "      <td>14.95</td>\n",
              "      <td>Seattle</td>\n",
              "      <td>23:38:00</td>\n",
              "      <td>23</td>\n",
              "      <td>(iPhone, Lightning Charging Cable)</td>\n",
              "    </tr>\n",
              "    <tr>\n",
              "      <th>91</th>\n",
              "      <td>150590</td>\n",
              "      <td>Apple Airpods Headphones</td>\n",
              "      <td>1.0</td>\n",
              "      <td>150.00</td>\n",
              "      <td>2019-02-08 09:35:00</td>\n",
              "      <td>196 River St, San Francisco, CA 94016</td>\n",
              "      <td>02</td>\n",
              "      <td>150.00</td>\n",
              "      <td>San Francisco</td>\n",
              "      <td>09:35:00</td>\n",
              "      <td>9</td>\n",
              "      <td>(Apple Airpods Headphones, AAA Batteries (4-pa...</td>\n",
              "    </tr>\n",
              "    <tr>\n",
              "      <th>...</th>\n",
              "      <td>...</td>\n",
              "      <td>...</td>\n",
              "      <td>...</td>\n",
              "      <td>...</td>\n",
              "      <td>...</td>\n",
              "      <td>...</td>\n",
              "      <td>...</td>\n",
              "      <td>...</td>\n",
              "      <td>...</td>\n",
              "      <td>...</td>\n",
              "      <td>...</td>\n",
              "      <td>...</td>\n",
              "    </tr>\n",
              "    <tr>\n",
              "      <th>186820</th>\n",
              "      <td>222882</td>\n",
              "      <td>AA Batteries (4-pack)</td>\n",
              "      <td>1.0</td>\n",
              "      <td>3.84</td>\n",
              "      <td>2019-06-18 11:37:00</td>\n",
              "      <td>990 Walnut St, Los Angeles, CA 90001</td>\n",
              "      <td>06</td>\n",
              "      <td>3.84</td>\n",
              "      <td>Los Angeles</td>\n",
              "      <td>11:37:00</td>\n",
              "      <td>11</td>\n",
              "      <td>(Apple Airpods Headphones, AA Batteries (4-pack))</td>\n",
              "    </tr>\n",
              "    <tr>\n",
              "      <th>186822</th>\n",
              "      <td>222884</td>\n",
              "      <td>Google Phone</td>\n",
              "      <td>1.0</td>\n",
              "      <td>600.00</td>\n",
              "      <td>2019-06-04 12:06:00</td>\n",
              "      <td>819 Pine St, New York City, NY 10001</td>\n",
              "      <td>06</td>\n",
              "      <td>600.00</td>\n",
              "      <td>New York City</td>\n",
              "      <td>12:06:00</td>\n",
              "      <td>12</td>\n",
              "      <td>(Google Phone, USB-C Charging Cable)</td>\n",
              "    </tr>\n",
              "    <tr>\n",
              "      <th>186823</th>\n",
              "      <td>222884</td>\n",
              "      <td>USB-C Charging Cable</td>\n",
              "      <td>1.0</td>\n",
              "      <td>11.95</td>\n",
              "      <td>2019-06-04 12:06:00</td>\n",
              "      <td>819 Pine St, New York City, NY 10001</td>\n",
              "      <td>06</td>\n",
              "      <td>11.95</td>\n",
              "      <td>New York City</td>\n",
              "      <td>12:06:00</td>\n",
              "      <td>12</td>\n",
              "      <td>(Google Phone, USB-C Charging Cable)</td>\n",
              "    </tr>\n",
              "    <tr>\n",
              "      <th>186842</th>\n",
              "      <td>222903</td>\n",
              "      <td>iPhone</td>\n",
              "      <td>1.0</td>\n",
              "      <td>700.00</td>\n",
              "      <td>2019-06-07 22:21:00</td>\n",
              "      <td>685 Hickory St, New York City, NY 10001</td>\n",
              "      <td>06</td>\n",
              "      <td>700.00</td>\n",
              "      <td>New York City</td>\n",
              "      <td>22:21:00</td>\n",
              "      <td>22</td>\n",
              "      <td>(iPhone, Lightning Charging Cable)</td>\n",
              "    </tr>\n",
              "    <tr>\n",
              "      <th>186843</th>\n",
              "      <td>222903</td>\n",
              "      <td>Lightning Charging Cable</td>\n",
              "      <td>1.0</td>\n",
              "      <td>14.95</td>\n",
              "      <td>2019-06-07 22:21:00</td>\n",
              "      <td>685 Hickory St, New York City, NY 10001</td>\n",
              "      <td>06</td>\n",
              "      <td>14.95</td>\n",
              "      <td>New York City</td>\n",
              "      <td>22:21:00</td>\n",
              "      <td>22</td>\n",
              "      <td>(iPhone, Lightning Charging Cable)</td>\n",
              "    </tr>\n",
              "  </tbody>\n",
              "</table>\n",
              "<p>14649 rows × 12 columns</p>\n",
              "</div>"
            ],
            "text/plain": [
              "       Order ID  ...                                        Order Pairs\n",
              "16       150518  ...                       (Macbook Pro Laptop, iPhone)\n",
              "17       150518  ...                       (Macbook Pro Laptop, iPhone)\n",
              "82       150582  ...                 (iPhone, Lightning Charging Cable)\n",
              "83       150582  ...                 (iPhone, Lightning Charging Cable)\n",
              "91       150590  ...  (Apple Airpods Headphones, AAA Batteries (4-pa...\n",
              "...         ...  ...                                                ...\n",
              "186820   222882  ...  (Apple Airpods Headphones, AA Batteries (4-pack))\n",
              "186822   222884  ...               (Google Phone, USB-C Charging Cable)\n",
              "186823   222884  ...               (Google Phone, USB-C Charging Cable)\n",
              "186842   222903  ...                 (iPhone, Lightning Charging Cable)\n",
              "186843   222903  ...                 (iPhone, Lightning Charging Cable)\n",
              "\n",
              "[14649 rows x 12 columns]"
            ]
          },
          "metadata": {
            "tags": []
          },
          "execution_count": 344
        }
      ]
    },
    {
      "cell_type": "code",
      "metadata": {
        "id": "WzEXVAOBSN-a"
      },
      "source": [
        "final=all_multi_orders[['Order ID',\"Order Pairs\"]].drop_duplicates()"
      ],
      "execution_count": null,
      "outputs": []
    },
    {
      "cell_type": "code",
      "metadata": {
        "id": "vhPcU8LfaCCb",
        "outputId": "744da593-0ddb-46ba-e627-95e5fd120ae2",
        "colab": {
          "base_uri": "https://localhost:8080/",
          "height": 399
        }
      },
      "source": [
        "final"
      ],
      "execution_count": null,
      "outputs": [
        {
          "output_type": "execute_result",
          "data": {
            "text/html": [
              "<div>\n",
              "<style scoped>\n",
              "    .dataframe tbody tr th:only-of-type {\n",
              "        vertical-align: middle;\n",
              "    }\n",
              "\n",
              "    .dataframe tbody tr th {\n",
              "        vertical-align: top;\n",
              "    }\n",
              "\n",
              "    .dataframe thead th {\n",
              "        text-align: right;\n",
              "    }\n",
              "</style>\n",
              "<table border=\"1\" class=\"dataframe\">\n",
              "  <thead>\n",
              "    <tr style=\"text-align: right;\">\n",
              "      <th></th>\n",
              "      <th>Order ID</th>\n",
              "      <th>Order Pairs</th>\n",
              "    </tr>\n",
              "  </thead>\n",
              "  <tbody>\n",
              "    <tr>\n",
              "      <th>16</th>\n",
              "      <td>150518</td>\n",
              "      <td>(Macbook Pro Laptop, iPhone)</td>\n",
              "    </tr>\n",
              "    <tr>\n",
              "      <th>82</th>\n",
              "      <td>150582</td>\n",
              "      <td>(iPhone, Lightning Charging Cable)</td>\n",
              "    </tr>\n",
              "    <tr>\n",
              "      <th>91</th>\n",
              "      <td>150590</td>\n",
              "      <td>(Apple Airpods Headphones, AAA Batteries (4-pa...</td>\n",
              "    </tr>\n",
              "    <tr>\n",
              "      <th>119</th>\n",
              "      <td>150617</td>\n",
              "      <td>(Google Phone, USB-C Charging Cable)</td>\n",
              "    </tr>\n",
              "    <tr>\n",
              "      <th>154</th>\n",
              "      <td>150651</td>\n",
              "      <td>(Google Phone, USB-C Charging Cable)</td>\n",
              "    </tr>\n",
              "    <tr>\n",
              "      <th>...</th>\n",
              "      <td>...</td>\n",
              "      <td>...</td>\n",
              "    </tr>\n",
              "    <tr>\n",
              "      <th>186798</th>\n",
              "      <td>222863</td>\n",
              "      <td>(27in FHD Monitor, Bose SoundSport Headphones)</td>\n",
              "    </tr>\n",
              "    <tr>\n",
              "      <th>186804</th>\n",
              "      <td>222868</td>\n",
              "      <td>(iPhone, Apple Airpods Headphones)</td>\n",
              "    </tr>\n",
              "    <tr>\n",
              "      <th>186819</th>\n",
              "      <td>222882</td>\n",
              "      <td>(Apple Airpods Headphones, AA Batteries (4-pack))</td>\n",
              "    </tr>\n",
              "    <tr>\n",
              "      <th>186822</th>\n",
              "      <td>222884</td>\n",
              "      <td>(Google Phone, USB-C Charging Cable)</td>\n",
              "    </tr>\n",
              "    <tr>\n",
              "      <th>186842</th>\n",
              "      <td>222903</td>\n",
              "      <td>(iPhone, Lightning Charging Cable)</td>\n",
              "    </tr>\n",
              "  </tbody>\n",
              "</table>\n",
              "<p>7136 rows × 2 columns</p>\n",
              "</div>"
            ],
            "text/plain": [
              "       Order ID                                        Order Pairs\n",
              "16       150518                       (Macbook Pro Laptop, iPhone)\n",
              "82       150582                 (iPhone, Lightning Charging Cable)\n",
              "91       150590  (Apple Airpods Headphones, AAA Batteries (4-pa...\n",
              "119      150617               (Google Phone, USB-C Charging Cable)\n",
              "154      150651               (Google Phone, USB-C Charging Cable)\n",
              "...         ...                                                ...\n",
              "186798   222863     (27in FHD Monitor, Bose SoundSport Headphones)\n",
              "186804   222868                 (iPhone, Apple Airpods Headphones)\n",
              "186819   222882  (Apple Airpods Headphones, AA Batteries (4-pack))\n",
              "186822   222884               (Google Phone, USB-C Charging Cable)\n",
              "186842   222903                 (iPhone, Lightning Charging Cable)\n",
              "\n",
              "[7136 rows x 2 columns]"
            ]
          },
          "metadata": {
            "tags": []
          },
          "execution_count": 349
        }
      ]
    },
    {
      "cell_type": "code",
      "metadata": {
        "id": "HlYr7o-ZTb8l",
        "outputId": "eeb8375e-bde4-47d0-b4b1-dd5cc96b9029",
        "colab": {
          "base_uri": "https://localhost:8080/",
          "height": 428
        }
      },
      "source": [
        "final.groupby('Order Pairs').count().sort_values('Order ID')"
      ],
      "execution_count": null,
      "outputs": [
        {
          "output_type": "execute_result",
          "data": {
            "text/html": [
              "<div>\n",
              "<style scoped>\n",
              "    .dataframe tbody tr th:only-of-type {\n",
              "        vertical-align: middle;\n",
              "    }\n",
              "\n",
              "    .dataframe tbody tr th {\n",
              "        vertical-align: top;\n",
              "    }\n",
              "\n",
              "    .dataframe thead th {\n",
              "        text-align: right;\n",
              "    }\n",
              "</style>\n",
              "<table border=\"1\" class=\"dataframe\">\n",
              "  <thead>\n",
              "    <tr style=\"text-align: right;\">\n",
              "      <th></th>\n",
              "      <th>Order ID</th>\n",
              "    </tr>\n",
              "    <tr>\n",
              "      <th>Order Pairs</th>\n",
              "      <th></th>\n",
              "    </tr>\n",
              "  </thead>\n",
              "  <tbody>\n",
              "    <tr>\n",
              "      <th>(iPhone, iPhone)</th>\n",
              "      <td>1</td>\n",
              "    </tr>\n",
              "    <tr>\n",
              "      <th>(ThinkPad Laptop, 27in 4K Gaming Monitor)</th>\n",
              "      <td>1</td>\n",
              "    </tr>\n",
              "    <tr>\n",
              "      <th>(Macbook Pro Laptop, Flatscreen TV)</th>\n",
              "      <td>1</td>\n",
              "    </tr>\n",
              "    <tr>\n",
              "      <th>(27in FHD Monitor, Google Phone)</th>\n",
              "      <td>1</td>\n",
              "    </tr>\n",
              "    <tr>\n",
              "      <th>(27in FHD Monitor, LG Washing Machine)</th>\n",
              "      <td>1</td>\n",
              "    </tr>\n",
              "    <tr>\n",
              "      <th>...</th>\n",
              "      <td>...</td>\n",
              "    </tr>\n",
              "    <tr>\n",
              "      <th>(iPhone, Apple Airpods Headphones)</th>\n",
              "      <td>313</td>\n",
              "    </tr>\n",
              "    <tr>\n",
              "      <th>(Vareebadd Phone, USB-C Charging Cable)</th>\n",
              "      <td>361</td>\n",
              "    </tr>\n",
              "    <tr>\n",
              "      <th>(iPhone, Wired Headphones)</th>\n",
              "      <td>362</td>\n",
              "    </tr>\n",
              "    <tr>\n",
              "      <th>(Google Phone, USB-C Charging Cable)</th>\n",
              "      <td>984</td>\n",
              "    </tr>\n",
              "    <tr>\n",
              "      <th>(iPhone, Lightning Charging Cable)</th>\n",
              "      <td>1001</td>\n",
              "    </tr>\n",
              "  </tbody>\n",
              "</table>\n",
              "<p>312 rows × 1 columns</p>\n",
              "</div>"
            ],
            "text/plain": [
              "                                           Order ID\n",
              "Order Pairs                                        \n",
              "(iPhone, iPhone)                                  1\n",
              "(ThinkPad Laptop, 27in 4K Gaming Monitor)         1\n",
              "(Macbook Pro Laptop, Flatscreen TV)               1\n",
              "(27in FHD Monitor, Google Phone)                  1\n",
              "(27in FHD Monitor, LG Washing Machine)            1\n",
              "...                                             ...\n",
              "(iPhone, Apple Airpods Headphones)              313\n",
              "(Vareebadd Phone, USB-C Charging Cable)         361\n",
              "(iPhone, Wired Headphones)                      362\n",
              "(Google Phone, USB-C Charging Cable)            984\n",
              "(iPhone, Lightning Charging Cable)             1001\n",
              "\n",
              "[312 rows x 1 columns]"
            ]
          },
          "metadata": {
            "tags": []
          },
          "execution_count": 348
        }
      ]
    },
    {
      "cell_type": "code",
      "metadata": {
        "id": "7QKkwqWmWuUE"
      },
      "source": [
        "from itertools import combinations\n",
        "from collections import Counter\n",
        "import pprint\n",
        "count=Counter()\n",
        "for i in final['Order Pairs']:\n",
        "  count.update(combinations(list(i),2))"
      ],
      "execution_count": null,
      "outputs": []
    },
    {
      "cell_type": "code",
      "metadata": {
        "id": "4AIj3tfOaXqI",
        "outputId": "c417eff2-f8ce-4930-d98a-42d01078d99b",
        "colab": {
          "base_uri": "https://localhost:8080/",
          "height": 55
        }
      },
      "source": [
        "print(count.most_common(10))"
      ],
      "execution_count": null,
      "outputs": [
        {
          "output_type": "stream",
          "text": [
            "[(('iPhone', 'Lightning Charging Cable'), 1001), (('Google Phone', 'USB-C Charging Cable'), 984), (('iPhone', 'Wired Headphones'), 362), (('Vareebadd Phone', 'USB-C Charging Cable'), 361), (('iPhone', 'Apple Airpods Headphones'), 313), (('Google Phone', 'Wired Headphones'), 306), (('Google Phone', 'Bose SoundSport Headphones'), 185), (('Vareebadd Phone', 'Wired Headphones'), 107), (('Vareebadd Phone', 'Bose SoundSport Headphones'), 64), (('Lightning Charging Cable', 'USB-C Charging Cable'), 55)]\n"
          ],
          "name": "stdout"
        }
      ]
    },
    {
      "cell_type": "code",
      "metadata": {
        "id": "V6vKXRWAaplD"
      },
      "source": [
        ""
      ],
      "execution_count": null,
      "outputs": []
    }
  ]
}