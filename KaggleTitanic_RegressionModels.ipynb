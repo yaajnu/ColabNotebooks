{
  "nbformat": 4,
  "nbformat_minor": 0,
  "metadata": {
    "colab": {
      "name": "KaggleTitanic_RegressionModels",
      "provenance": [],
      "authorship_tag": "ABX9TyOZn7YxIbfGW1x3DROd3gNW",
      "include_colab_link": true
    },
    "kernelspec": {
      "name": "python3",
      "display_name": "Python 3"
    }
  },
  "cells": [
    {
      "cell_type": "markdown",
      "metadata": {
        "id": "view-in-github",
        "colab_type": "text"
      },
      "source": [
        "<a href=\"https://colab.research.google.com/github/yaajnu/ColabNotebooks/blob/master/KaggleTitanic_RegressionModels.ipynb\" target=\"_parent\"><img src=\"https://colab.research.google.com/assets/colab-badge.svg\" alt=\"Open In Colab\"/></a>"
      ]
    },
    {
      "cell_type": "code",
      "metadata": {
        "id": "oon8ry_qXm6U",
        "colab_type": "code",
        "colab": {}
      },
      "source": [
        "timport pandas as pd\n",
        "train_set=pd.read_csv('train.csv')"
      ],
      "execution_count": null,
      "outputs": []
    },
    {
      "cell_type": "code",
      "metadata": {
        "id": "NQ4of6OOX-Do",
        "colab_type": "code",
        "colab": {
          "base_uri": "https://localhost:8080/",
          "height": 930
        },
        "outputId": "006ce25f-4651-4447-cc00-8d56ca0345e6"
      },
      "source": [
        "train_set"
      ],
      "execution_count": null,
      "outputs": [
        {
          "output_type": "execute_result",
          "data": {
            "text/html": [
              "<div>\n",
              "<style scoped>\n",
              "    .dataframe tbody tr th:only-of-type {\n",
              "        vertical-align: middle;\n",
              "    }\n",
              "\n",
              "    .dataframe tbody tr th {\n",
              "        vertical-align: top;\n",
              "    }\n",
              "\n",
              "    .dataframe thead th {\n",
              "        text-align: right;\n",
              "    }\n",
              "</style>\n",
              "<table border=\"1\" class=\"dataframe\">\n",
              "  <thead>\n",
              "    <tr style=\"text-align: right;\">\n",
              "      <th></th>\n",
              "      <th>PassengerId</th>\n",
              "      <th>Survived</th>\n",
              "      <th>Pclass</th>\n",
              "      <th>Name</th>\n",
              "      <th>Sex</th>\n",
              "      <th>Age</th>\n",
              "      <th>SibSp</th>\n",
              "      <th>Parch</th>\n",
              "      <th>Ticket</th>\n",
              "      <th>Fare</th>\n",
              "      <th>Cabin</th>\n",
              "      <th>Embarked</th>\n",
              "    </tr>\n",
              "  </thead>\n",
              "  <tbody>\n",
              "    <tr>\n",
              "      <th>0</th>\n",
              "      <td>1</td>\n",
              "      <td>0</td>\n",
              "      <td>3</td>\n",
              "      <td>Braund, Mr. Owen Harris</td>\n",
              "      <td>male</td>\n",
              "      <td>22.0</td>\n",
              "      <td>1</td>\n",
              "      <td>0</td>\n",
              "      <td>A/5 21171</td>\n",
              "      <td>7.2500</td>\n",
              "      <td>NaN</td>\n",
              "      <td>S</td>\n",
              "    </tr>\n",
              "    <tr>\n",
              "      <th>1</th>\n",
              "      <td>2</td>\n",
              "      <td>1</td>\n",
              "      <td>1</td>\n",
              "      <td>Cumings, Mrs. John Bradley (Florence Briggs Th...</td>\n",
              "      <td>female</td>\n",
              "      <td>38.0</td>\n",
              "      <td>1</td>\n",
              "      <td>0</td>\n",
              "      <td>PC 17599</td>\n",
              "      <td>71.2833</td>\n",
              "      <td>C85</td>\n",
              "      <td>C</td>\n",
              "    </tr>\n",
              "    <tr>\n",
              "      <th>2</th>\n",
              "      <td>3</td>\n",
              "      <td>1</td>\n",
              "      <td>3</td>\n",
              "      <td>Heikkinen, Miss. Laina</td>\n",
              "      <td>female</td>\n",
              "      <td>26.0</td>\n",
              "      <td>0</td>\n",
              "      <td>0</td>\n",
              "      <td>STON/O2. 3101282</td>\n",
              "      <td>7.9250</td>\n",
              "      <td>NaN</td>\n",
              "      <td>S</td>\n",
              "    </tr>\n",
              "    <tr>\n",
              "      <th>3</th>\n",
              "      <td>4</td>\n",
              "      <td>1</td>\n",
              "      <td>1</td>\n",
              "      <td>Futrelle, Mrs. Jacques Heath (Lily May Peel)</td>\n",
              "      <td>female</td>\n",
              "      <td>35.0</td>\n",
              "      <td>1</td>\n",
              "      <td>0</td>\n",
              "      <td>113803</td>\n",
              "      <td>53.1000</td>\n",
              "      <td>C123</td>\n",
              "      <td>S</td>\n",
              "    </tr>\n",
              "    <tr>\n",
              "      <th>4</th>\n",
              "      <td>5</td>\n",
              "      <td>0</td>\n",
              "      <td>3</td>\n",
              "      <td>Allen, Mr. William Henry</td>\n",
              "      <td>male</td>\n",
              "      <td>35.0</td>\n",
              "      <td>0</td>\n",
              "      <td>0</td>\n",
              "      <td>373450</td>\n",
              "      <td>8.0500</td>\n",
              "      <td>NaN</td>\n",
              "      <td>S</td>\n",
              "    </tr>\n",
              "    <tr>\n",
              "      <th>...</th>\n",
              "      <td>...</td>\n",
              "      <td>...</td>\n",
              "      <td>...</td>\n",
              "      <td>...</td>\n",
              "      <td>...</td>\n",
              "      <td>...</td>\n",
              "      <td>...</td>\n",
              "      <td>...</td>\n",
              "      <td>...</td>\n",
              "      <td>...</td>\n",
              "      <td>...</td>\n",
              "      <td>...</td>\n",
              "    </tr>\n",
              "    <tr>\n",
              "      <th>886</th>\n",
              "      <td>887</td>\n",
              "      <td>0</td>\n",
              "      <td>2</td>\n",
              "      <td>Montvila, Rev. Juozas</td>\n",
              "      <td>male</td>\n",
              "      <td>27.0</td>\n",
              "      <td>0</td>\n",
              "      <td>0</td>\n",
              "      <td>211536</td>\n",
              "      <td>13.0000</td>\n",
              "      <td>NaN</td>\n",
              "      <td>S</td>\n",
              "    </tr>\n",
              "    <tr>\n",
              "      <th>887</th>\n",
              "      <td>888</td>\n",
              "      <td>1</td>\n",
              "      <td>1</td>\n",
              "      <td>Graham, Miss. Margaret Edith</td>\n",
              "      <td>female</td>\n",
              "      <td>19.0</td>\n",
              "      <td>0</td>\n",
              "      <td>0</td>\n",
              "      <td>112053</td>\n",
              "      <td>30.0000</td>\n",
              "      <td>B42</td>\n",
              "      <td>S</td>\n",
              "    </tr>\n",
              "    <tr>\n",
              "      <th>888</th>\n",
              "      <td>889</td>\n",
              "      <td>0</td>\n",
              "      <td>3</td>\n",
              "      <td>Johnston, Miss. Catherine Helen \"Carrie\"</td>\n",
              "      <td>female</td>\n",
              "      <td>NaN</td>\n",
              "      <td>1</td>\n",
              "      <td>2</td>\n",
              "      <td>W./C. 6607</td>\n",
              "      <td>23.4500</td>\n",
              "      <td>NaN</td>\n",
              "      <td>S</td>\n",
              "    </tr>\n",
              "    <tr>\n",
              "      <th>889</th>\n",
              "      <td>890</td>\n",
              "      <td>1</td>\n",
              "      <td>1</td>\n",
              "      <td>Behr, Mr. Karl Howell</td>\n",
              "      <td>male</td>\n",
              "      <td>26.0</td>\n",
              "      <td>0</td>\n",
              "      <td>0</td>\n",
              "      <td>111369</td>\n",
              "      <td>30.0000</td>\n",
              "      <td>C148</td>\n",
              "      <td>C</td>\n",
              "    </tr>\n",
              "    <tr>\n",
              "      <th>890</th>\n",
              "      <td>891</td>\n",
              "      <td>0</td>\n",
              "      <td>3</td>\n",
              "      <td>Dooley, Mr. Patrick</td>\n",
              "      <td>male</td>\n",
              "      <td>32.0</td>\n",
              "      <td>0</td>\n",
              "      <td>0</td>\n",
              "      <td>370376</td>\n",
              "      <td>7.7500</td>\n",
              "      <td>NaN</td>\n",
              "      <td>Q</td>\n",
              "    </tr>\n",
              "  </tbody>\n",
              "</table>\n",
              "<p>891 rows × 12 columns</p>\n",
              "</div>"
            ],
            "text/plain": [
              "     PassengerId  Survived  Pclass  ...     Fare Cabin  Embarked\n",
              "0              1         0       3  ...   7.2500   NaN         S\n",
              "1              2         1       1  ...  71.2833   C85         C\n",
              "2              3         1       3  ...   7.9250   NaN         S\n",
              "3              4         1       1  ...  53.1000  C123         S\n",
              "4              5         0       3  ...   8.0500   NaN         S\n",
              "..           ...       ...     ...  ...      ...   ...       ...\n",
              "886          887         0       2  ...  13.0000   NaN         S\n",
              "887          888         1       1  ...  30.0000   B42         S\n",
              "888          889         0       3  ...  23.4500   NaN         S\n",
              "889          890         1       1  ...  30.0000  C148         C\n",
              "890          891         0       3  ...   7.7500   NaN         Q\n",
              "\n",
              "[891 rows x 12 columns]"
            ]
          },
          "metadata": {
            "tags": []
          },
          "execution_count": 2
        }
      ]
    },
    {
      "cell_type": "code",
      "metadata": {
        "id": "sego6jcpX_KG",
        "colab_type": "code",
        "colab": {
          "base_uri": "https://localhost:8080/",
          "height": 1000
        },
        "outputId": "52a83dfd-672e-4864-e457-896a67320db9"
      },
      "source": [
        "train_set.hist(figsize=(20,20))"
      ],
      "execution_count": null,
      "outputs": [
        {
          "output_type": "execute_result",
          "data": {
            "text/plain": [
              "array([[<matplotlib.axes._subplots.AxesSubplot object at 0x7f68666d6358>,\n",
              "        <matplotlib.axes._subplots.AxesSubplot object at 0x7f68666ad5f8>,\n",
              "        <matplotlib.axes._subplots.AxesSubplot object at 0x7f6866661860>],\n",
              "       [<matplotlib.axes._subplots.AxesSubplot object at 0x7f6866615ac8>,\n",
              "        <matplotlib.axes._subplots.AxesSubplot object at 0x7f68665c7d30>,\n",
              "        <matplotlib.axes._subplots.AxesSubplot object at 0x7f686657cf98>],\n",
              "       [<matplotlib.axes._subplots.AxesSubplot object at 0x7f686653d240>,\n",
              "        <matplotlib.axes._subplots.AxesSubplot object at 0x7f686656f470>,\n",
              "        <matplotlib.axes._subplots.AxesSubplot object at 0x7f686656f4e0>]],\n",
              "      dtype=object)"
            ]
          },
          "metadata": {
            "tags": []
          },
          "execution_count": 78
        },
        {
          "output_type": "display_data",
          "data": {
            "image/png": "[encoded data removed]",
            "text/plain": [
              "<Figure size 1440x1440 with 9 Axes>"
            ]
          },
          "metadata": {
            "tags": [],
            "needs_background": "light"
          }
        }
      ]
    },
    {
      "cell_type": "code",
      "metadata": {
        "id": "vfnI-ofHYO_S",
        "colab_type": "code",
        "colab": {
          "base_uri": "https://localhost:8080/",
          "height": 340
        },
        "outputId": "11dc51c2-ce25-4fa8-82d1-23f4a100088f"
      },
      "source": [
        "train_set.info()"
      ],
      "execution_count": null,
      "outputs": [
        {
          "output_type": "stream",
          "text": [
            "<class 'pandas.core.frame.DataFrame'>\n",
            "RangeIndex: 891 entries, 0 to 890\n",
            "Data columns (total 12 columns):\n",
            " #   Column       Non-Null Count  Dtype  \n",
            "---  ------       --------------  -----  \n",
            " 0   PassengerId  891 non-null    int64  \n",
            " 1   Survived     891 non-null    int64  \n",
            " 2   Pclass       891 non-null    int64  \n",
            " 3   Name         891 non-null    object \n",
            " 4   Sex          891 non-null    object \n",
            " 5   Age          714 non-null    float64\n",
            " 6   SibSp        891 non-null    int64  \n",
            " 7   Parch        891 non-null    int64  \n",
            " 8   Ticket       891 non-null    object \n",
            " 9   Fare         891 non-null    float64\n",
            " 10  Cabin        204 non-null    object \n",
            " 11  Embarked     889 non-null    object \n",
            "dtypes: float64(2), int64(5), object(5)\n",
            "memory usage: 83.7+ KB\n"
          ],
          "name": "stdout"
        }
      ]
    },
    {
      "cell_type": "code",
      "metadata": {
        "id": "mDKXmrHVY3i9",
        "colab_type": "code",
        "colab": {
          "base_uri": "https://localhost:8080/",
          "height": 85
        },
        "outputId": "53f6874c-d059-4c2e-8b4b-b74fe032deea"
      },
      "source": [
        "train_set['Embarked'].value_counts()"
      ],
      "execution_count": null,
      "outputs": [
        {
          "output_type": "execute_result",
          "data": {
            "text/plain": [
              "S    644\n",
              "C    168\n",
              "Q     77\n",
              "Name: Embarked, dtype: int64"
            ]
          },
          "metadata": {
            "tags": []
          },
          "execution_count": 80
        }
      ]
    },
    {
      "cell_type": "code",
      "metadata": {
        "id": "SBDhdSAhZDJu",
        "colab_type": "code",
        "colab": {}
      },
      "source": [
        "corr_relation=train_set.corr()"
      ],
      "execution_count": null,
      "outputs": []
    },
    {
      "cell_type": "code",
      "metadata": {
        "id": "LzC1Gpsll-vU",
        "colab_type": "code",
        "colab": {
          "base_uri": "https://localhost:8080/",
          "height": 153
        },
        "outputId": "110d3c7e-94b6-4388-fac4-060baf05d52e"
      },
      "source": [
        "corr_relation['Survived'].sort_values(ascending=False)"
      ],
      "execution_count": null,
      "outputs": [
        {
          "output_type": "execute_result",
          "data": {
            "text/plain": [
              "Survived       1.000000\n",
              "Fare           0.257307\n",
              "Parch          0.081629\n",
              "PassengerId   -0.005007\n",
              "SibSp         -0.035322\n",
              "Age           -0.077221\n",
              "Pclass        -0.338481\n",
              "Name: Survived, dtype: float64"
            ]
          },
          "metadata": {
            "tags": []
          },
          "execution_count": 82
        }
      ]
    },
    {
      "cell_type": "code",
      "metadata": {
        "id": "LWzUCZntl_gk",
        "colab_type": "code",
        "colab": {
          "base_uri": "https://localhost:8080/",
          "height": 297
        },
        "outputId": "e458b9bd-7aef-464d-a47f-c19a73085a4f"
      },
      "source": [
        "train_set.describe()"
      ],
      "execution_count": null,
      "outputs": [
        {
          "output_type": "execute_result",
          "data": {
            "text/html": [
              "<div>\n",
              "<style scoped>\n",
              "    .dataframe tbody tr th:only-of-type {\n",
              "        vertical-align: middle;\n",
              "    }\n",
              "\n",
              "    .dataframe tbody tr th {\n",
              "        vertical-align: top;\n",
              "    }\n",
              "\n",
              "    .dataframe thead th {\n",
              "        text-align: right;\n",
              "    }\n",
              "</style>\n",
              "<table border=\"1\" class=\"dataframe\">\n",
              "  <thead>\n",
              "    <tr style=\"text-align: right;\">\n",
              "      <th></th>\n",
              "      <th>PassengerId</th>\n",
              "      <th>Survived</th>\n",
              "      <th>Pclass</th>\n",
              "      <th>Age</th>\n",
              "      <th>SibSp</th>\n",
              "      <th>Parch</th>\n",
              "      <th>Fare</th>\n",
              "    </tr>\n",
              "  </thead>\n",
              "  <tbody>\n",
              "    <tr>\n",
              "      <th>count</th>\n",
              "      <td>891.000000</td>\n",
              "      <td>891.000000</td>\n",
              "      <td>891.000000</td>\n",
              "      <td>714.000000</td>\n",
              "      <td>891.000000</td>\n",
              "      <td>891.000000</td>\n",
              "      <td>891.000000</td>\n",
              "    </tr>\n",
              "    <tr>\n",
              "      <th>mean</th>\n",
              "      <td>446.000000</td>\n",
              "      <td>0.383838</td>\n",
              "      <td>2.308642</td>\n",
              "      <td>29.699118</td>\n",
              "      <td>0.523008</td>\n",
              "      <td>0.381594</td>\n",
              "      <td>32.204208</td>\n",
              "    </tr>\n",
              "    <tr>\n",
              "      <th>std</th>\n",
              "      <td>257.353842</td>\n",
              "      <td>0.486592</td>\n",
              "      <td>0.836071</td>\n",
              "      <td>14.526497</td>\n",
              "      <td>1.102743</td>\n",
              "      <td>0.806057</td>\n",
              "      <td>49.693429</td>\n",
              "    </tr>\n",
              "    <tr>\n",
              "      <th>min</th>\n",
              "      <td>1.000000</td>\n",
              "      <td>0.000000</td>\n",
              "      <td>1.000000</td>\n",
              "      <td>0.420000</td>\n",
              "      <td>0.000000</td>\n",
              "      <td>0.000000</td>\n",
              "      <td>0.000000</td>\n",
              "    </tr>\n",
              "    <tr>\n",
              "      <th>25%</th>\n",
              "      <td>223.500000</td>\n",
              "      <td>0.000000</td>\n",
              "      <td>2.000000</td>\n",
              "      <td>20.125000</td>\n",
              "      <td>0.000000</td>\n",
              "      <td>0.000000</td>\n",
              "      <td>7.910400</td>\n",
              "    </tr>\n",
              "    <tr>\n",
              "      <th>50%</th>\n",
              "      <td>446.000000</td>\n",
              "      <td>0.000000</td>\n",
              "      <td>3.000000</td>\n",
              "      <td>28.000000</td>\n",
              "      <td>0.000000</td>\n",
              "      <td>0.000000</td>\n",
              "      <td>14.454200</td>\n",
              "    </tr>\n",
              "    <tr>\n",
              "      <th>75%</th>\n",
              "      <td>668.500000</td>\n",
              "      <td>1.000000</td>\n",
              "      <td>3.000000</td>\n",
              "      <td>38.000000</td>\n",
              "      <td>1.000000</td>\n",
              "      <td>0.000000</td>\n",
              "      <td>31.000000</td>\n",
              "    </tr>\n",
              "    <tr>\n",
              "      <th>max</th>\n",
              "      <td>891.000000</td>\n",
              "      <td>1.000000</td>\n",
              "      <td>3.000000</td>\n",
              "      <td>80.000000</td>\n",
              "      <td>8.000000</td>\n",
              "      <td>6.000000</td>\n",
              "      <td>512.329200</td>\n",
              "    </tr>\n",
              "  </tbody>\n",
              "</table>\n",
              "</div>"
            ],
            "text/plain": [
              "       PassengerId    Survived      Pclass  ...       SibSp       Parch        Fare\n",
              "count   891.000000  891.000000  891.000000  ...  891.000000  891.000000  891.000000\n",
              "mean    446.000000    0.383838    2.308642  ...    0.523008    0.381594   32.204208\n",
              "std     257.353842    0.486592    0.836071  ...    1.102743    0.806057   49.693429\n",
              "min       1.000000    0.000000    1.000000  ...    0.000000    0.000000    0.000000\n",
              "25%     223.500000    0.000000    2.000000  ...    0.000000    0.000000    7.910400\n",
              "50%     446.000000    0.000000    3.000000  ...    0.000000    0.000000   14.454200\n",
              "75%     668.500000    1.000000    3.000000  ...    1.000000    0.000000   31.000000\n",
              "max     891.000000    1.000000    3.000000  ...    8.000000    6.000000  512.329200\n",
              "\n",
              "[8 rows x 7 columns]"
            ]
          },
          "metadata": {
            "tags": []
          },
          "execution_count": 83
        }
      ]
    },
    {
      "cell_type": "code",
      "metadata": {
        "id": "lLzOzrqhmQ5r",
        "colab_type": "code",
        "colab": {
          "base_uri": "https://localhost:8080/",
          "height": 153
        },
        "outputId": "e9fafa2f-59bc-49d0-d4c1-1a5596f4ee67"
      },
      "source": [
        "train_set['Parch'].value_counts()"
      ],
      "execution_count": null,
      "outputs": [
        {
          "output_type": "execute_result",
          "data": {
            "text/plain": [
              "0    678\n",
              "1    118\n",
              "2     80\n",
              "5      5\n",
              "3      5\n",
              "4      4\n",
              "6      1\n",
              "Name: Parch, dtype: int64"
            ]
          },
          "metadata": {
            "tags": []
          },
          "execution_count": 84
        }
      ]
    },
    {
      "cell_type": "code",
      "metadata": {
        "id": "OHla7HhRqBBk",
        "colab_type": "code",
        "colab": {}
      },
      "source": [
        "train_set.fillna(method='bfill',inplace=True)"
      ],
      "execution_count": null,
      "outputs": []
    },
    {
      "cell_type": "code",
      "metadata": {
        "id": "QQvcx76us6e_",
        "colab_type": "code",
        "colab": {
          "base_uri": "https://localhost:8080/",
          "height": 347
        },
        "outputId": "b74acb34-eb9c-48c1-b1c3-a23c4fe71bfe"
      },
      "source": [
        "train_set.info()"
      ],
      "execution_count": null,
      "outputs": [
        {
          "output_type": "stream",
          "text": [
            "<class 'pandas.core.frame.DataFrame'>\n",
            "RangeIndex: 891 entries, 0 to 890\n",
            "Data columns (total 12 columns):\n",
            " #   Column       Non-Null Count  Dtype  \n",
            "---  ------       --------------  -----  \n",
            " 0   PassengerId  891 non-null    int64  \n",
            " 1   Survived     891 non-null    int64  \n",
            " 2   Pclass       891 non-null    int64  \n",
            " 3   Name         891 non-null    object \n",
            " 4   Sex          891 non-null    object \n",
            " 5   Age          891 non-null    float64\n",
            " 6   SibSp        891 non-null    int64  \n",
            " 7   Parch        891 non-null    int64  \n",
            " 8   Ticket       891 non-null    object \n",
            " 9   Fare         891 non-null    float64\n",
            " 10  Cabin        890 non-null    object \n",
            " 11  Embarked     891 non-null    object \n",
            "dtypes: float64(2), int64(5), object(5)\n",
            "memory usage: 83.7+ KB\n"
          ],
          "name": "stdout"
        }
      ]
    },
    {
      "cell_type": "code",
      "metadata": {
        "id": "L_FI8bOqqoYz",
        "colab_type": "code",
        "colab": {}
      },
      "source": [
        "train_set_required=train_set.drop(['Name','Ticket','Cabin','Survived','PassengerId'],axis=1)"
      ],
      "execution_count": null,
      "outputs": []
    },
    {
      "cell_type": "code",
      "metadata": {
        "id": "VKjTj2uIsMhu",
        "colab_type": "code",
        "colab": {
          "base_uri": "https://localhost:8080/",
          "height": 424
        },
        "outputId": "8d8ce30d-86d9-4c8a-c757-679d16e6e6a7"
      },
      "source": [
        "train_set_required"
      ],
      "execution_count": null,
      "outputs": [
        {
          "output_type": "execute_result",
          "data": {
            "text/html": [
              "<div>\n",
              "<style scoped>\n",
              "    .dataframe tbody tr th:only-of-type {\n",
              "        vertical-align: middle;\n",
              "    }\n",
              "\n",
              "    .dataframe tbody tr th {\n",
              "        vertical-align: top;\n",
              "    }\n",
              "\n",
              "    .dataframe thead th {\n",
              "        text-align: right;\n",
              "    }\n",
              "</style>\n",
              "<table border=\"1\" class=\"dataframe\">\n",
              "  <thead>\n",
              "    <tr style=\"text-align: right;\">\n",
              "      <th></th>\n",
              "      <th>Pclass</th>\n",
              "      <th>Sex</th>\n",
              "      <th>Age</th>\n",
              "      <th>SibSp</th>\n",
              "      <th>Parch</th>\n",
              "      <th>Fare</th>\n",
              "      <th>Embarked</th>\n",
              "    </tr>\n",
              "  </thead>\n",
              "  <tbody>\n",
              "    <tr>\n",
              "      <th>0</th>\n",
              "      <td>3</td>\n",
              "      <td>male</td>\n",
              "      <td>22.0</td>\n",
              "      <td>1</td>\n",
              "      <td>0</td>\n",
              "      <td>7.2500</td>\n",
              "      <td>S</td>\n",
              "    </tr>\n",
              "    <tr>\n",
              "      <th>1</th>\n",
              "      <td>1</td>\n",
              "      <td>female</td>\n",
              "      <td>38.0</td>\n",
              "      <td>1</td>\n",
              "      <td>0</td>\n",
              "      <td>71.2833</td>\n",
              "      <td>C</td>\n",
              "    </tr>\n",
              "    <tr>\n",
              "      <th>2</th>\n",
              "      <td>3</td>\n",
              "      <td>female</td>\n",
              "      <td>26.0</td>\n",
              "      <td>0</td>\n",
              "      <td>0</td>\n",
              "      <td>7.9250</td>\n",
              "      <td>S</td>\n",
              "    </tr>\n",
              "    <tr>\n",
              "      <th>3</th>\n",
              "      <td>1</td>\n",
              "      <td>female</td>\n",
              "      <td>35.0</td>\n",
              "      <td>1</td>\n",
              "      <td>0</td>\n",
              "      <td>53.1000</td>\n",
              "      <td>S</td>\n",
              "    </tr>\n",
              "    <tr>\n",
              "      <th>4</th>\n",
              "      <td>3</td>\n",
              "      <td>male</td>\n",
              "      <td>35.0</td>\n",
              "      <td>0</td>\n",
              "      <td>0</td>\n",
              "      <td>8.0500</td>\n",
              "      <td>S</td>\n",
              "    </tr>\n",
              "    <tr>\n",
              "      <th>...</th>\n",
              "      <td>...</td>\n",
              "      <td>...</td>\n",
              "      <td>...</td>\n",
              "      <td>...</td>\n",
              "      <td>...</td>\n",
              "      <td>...</td>\n",
              "      <td>...</td>\n",
              "    </tr>\n",
              "    <tr>\n",
              "      <th>886</th>\n",
              "      <td>2</td>\n",
              "      <td>male</td>\n",
              "      <td>27.0</td>\n",
              "      <td>0</td>\n",
              "      <td>0</td>\n",
              "      <td>13.0000</td>\n",
              "      <td>S</td>\n",
              "    </tr>\n",
              "    <tr>\n",
              "      <th>887</th>\n",
              "      <td>1</td>\n",
              "      <td>female</td>\n",
              "      <td>19.0</td>\n",
              "      <td>0</td>\n",
              "      <td>0</td>\n",
              "      <td>30.0000</td>\n",
              "      <td>S</td>\n",
              "    </tr>\n",
              "    <tr>\n",
              "      <th>888</th>\n",
              "      <td>3</td>\n",
              "      <td>female</td>\n",
              "      <td>26.0</td>\n",
              "      <td>1</td>\n",
              "      <td>2</td>\n",
              "      <td>23.4500</td>\n",
              "      <td>S</td>\n",
              "    </tr>\n",
              "    <tr>\n",
              "      <th>889</th>\n",
              "      <td>1</td>\n",
              "      <td>male</td>\n",
              "      <td>26.0</td>\n",
              "      <td>0</td>\n",
              "      <td>0</td>\n",
              "      <td>30.0000</td>\n",
              "      <td>C</td>\n",
              "    </tr>\n",
              "    <tr>\n",
              "      <th>890</th>\n",
              "      <td>3</td>\n",
              "      <td>male</td>\n",
              "      <td>32.0</td>\n",
              "      <td>0</td>\n",
              "      <td>0</td>\n",
              "      <td>7.7500</td>\n",
              "      <td>Q</td>\n",
              "    </tr>\n",
              "  </tbody>\n",
              "</table>\n",
              "<p>891 rows × 7 columns</p>\n",
              "</div>"
            ],
            "text/plain": [
              "     Pclass     Sex   Age  SibSp  Parch     Fare Embarked\n",
              "0         3    male  22.0      1      0   7.2500        S\n",
              "1         1  female  38.0      1      0  71.2833        C\n",
              "2         3  female  26.0      0      0   7.9250        S\n",
              "3         1  female  35.0      1      0  53.1000        S\n",
              "4         3    male  35.0      0      0   8.0500        S\n",
              "..      ...     ...   ...    ...    ...      ...      ...\n",
              "886       2    male  27.0      0      0  13.0000        S\n",
              "887       1  female  19.0      0      0  30.0000        S\n",
              "888       3  female  26.0      1      2  23.4500        S\n",
              "889       1    male  26.0      0      0  30.0000        C\n",
              "890       3    male  32.0      0      0   7.7500        Q\n",
              "\n",
              "[891 rows x 7 columns]"
            ]
          },
          "metadata": {
            "tags": []
          },
          "execution_count": 6
        }
      ]
    },
    {
      "cell_type": "code",
      "metadata": {
        "id": "8CTWtSdxq3pZ",
        "colab_type": "code",
        "colab": {}
      },
      "source": [
        "train_set_labels=train_set['Survived'].copy()\n",
        "train_set_id=train_set['PassengerId'].copy()"
      ],
      "execution_count": null,
      "outputs": []
    },
    {
      "cell_type": "code",
      "metadata": {
        "id": "oHzeIvVVsER0",
        "colab_type": "code",
        "colab": {
          "base_uri": "https://localhost:8080/",
          "height": 225
        },
        "outputId": "5fcdf24a-41c4-4a88-f4f3-20e60aa79a4b"
      },
      "source": [
        "train_set_labels"
      ],
      "execution_count": null,
      "outputs": [
        {
          "output_type": "execute_result",
          "data": {
            "text/plain": [
              "0      0\n",
              "1      1\n",
              "2      1\n",
              "3      1\n",
              "4      0\n",
              "      ..\n",
              "886    0\n",
              "887    1\n",
              "888    0\n",
              "889    1\n",
              "890    0\n",
              "Name: Survived, Length: 891, dtype: int64"
            ]
          },
          "metadata": {
            "tags": []
          },
          "execution_count": 14
        }
      ]
    },
    {
      "cell_type": "code",
      "metadata": {
        "id": "jgOaZ3_CMKjM",
        "colab_type": "code",
        "colab": {
          "base_uri": "https://localhost:8080/",
          "height": 225
        },
        "outputId": "ecd43eb2-9e6b-42e7-dce4-e56fdfdb9c9b"
      },
      "source": [
        "train_set_id"
      ],
      "execution_count": null,
      "outputs": [
        {
          "output_type": "execute_result",
          "data": {
            "text/plain": [
              "0        1\n",
              "1        2\n",
              "2        3\n",
              "3        4\n",
              "4        5\n",
              "      ... \n",
              "886    887\n",
              "887    888\n",
              "888    889\n",
              "889    890\n",
              "890    891\n",
              "Name: PassengerId, Length: 891, dtype: int64"
            ]
          },
          "metadata": {
            "tags": []
          },
          "execution_count": 15
        }
      ]
    },
    {
      "cell_type": "code",
      "metadata": {
        "id": "cKUHmUTXupVG",
        "colab_type": "code",
        "colab": {}
      },
      "source": [
        "from sklearn.preprocessing import OneHotEncoder\n",
        "train_set_sex=train_set[['Sex']]\n",
        "one_hot=OneHotEncoder()\n",
        "train_set_1hot=one_hot.fit_transform(train_set_sex)"
      ],
      "execution_count": null,
      "outputs": []
    },
    {
      "cell_type": "code",
      "metadata": {
        "id": "WrlRYK6Rvldu",
        "colab_type": "code",
        "colab": {
          "base_uri": "https://localhost:8080/",
          "height": 139
        },
        "outputId": "d896958b-bf35-4179-b35d-58d52f20cd78"
      },
      "source": [
        "train_set_1hot.toarray()"
      ],
      "execution_count": null,
      "outputs": [
        {
          "output_type": "execute_result",
          "data": {
            "text/plain": [
              "array([[0., 1.],\n",
              "       [1., 0.],\n",
              "       [1., 0.],\n",
              "       ...,\n",
              "       [1., 0.],\n",
              "       [0., 1.],\n",
              "       [0., 1.]])"
            ]
          },
          "metadata": {
            "tags": []
          },
          "execution_count": 47
        }
      ]
    },
    {
      "cell_type": "code",
      "metadata": {
        "id": "lblp5iczvmh3",
        "colab_type": "code",
        "colab": {
          "base_uri": "https://localhost:8080/",
          "height": 34
        },
        "outputId": "de0658bb-16f6-4070-e773-a4ca691edd99"
      },
      "source": [
        "one_hot.categories_"
      ],
      "execution_count": null,
      "outputs": [
        {
          "output_type": "execute_result",
          "data": {
            "text/plain": [
              "[array(['female', 'male'], dtype=object)]"
            ]
          },
          "metadata": {
            "tags": []
          },
          "execution_count": 48
        }
      ]
    },
    {
      "cell_type": "code",
      "metadata": {
        "id": "8m9KgM1nvvdt",
        "colab_type": "code",
        "colab": {}
      },
      "source": [
        "Parch_hot=OneHotEncoder()\n",
        "a=train_set[['Embarked']]\n",
        "train_set_Embarked1hot=Parch_hot.fit_transform(a)"
      ],
      "execution_count": null,
      "outputs": []
    },
    {
      "cell_type": "code",
      "metadata": {
        "id": "ACy1390FwGyR",
        "colab_type": "code",
        "colab": {
          "base_uri": "https://localhost:8080/",
          "height": 139
        },
        "outputId": "02c30d4e-5870-48fb-db3e-dae6e6170228"
      },
      "source": [
        "train_set_Embarked1hot.toarray()"
      ],
      "execution_count": null,
      "outputs": [
        {
          "output_type": "execute_result",
          "data": {
            "text/plain": [
              "array([[0., 0., 1.],\n",
              "       [1., 0., 0.],\n",
              "       [0., 0., 1.],\n",
              "       ...,\n",
              "       [0., 0., 1.],\n",
              "       [1., 0., 0.],\n",
              "       [0., 1., 0.]])"
            ]
          },
          "metadata": {
            "tags": []
          },
          "execution_count": 56
        }
      ]
    },
    {
      "cell_type": "code",
      "metadata": {
        "id": "_tLE-MVcwRfs",
        "colab_type": "code",
        "colab": {
          "base_uri": "https://localhost:8080/",
          "height": 34
        },
        "outputId": "bd9247d9-55d3-4439-a342-b580c6d107f5"
      },
      "source": [
        "Parch_hot.categories_"
      ],
      "execution_count": null,
      "outputs": [
        {
          "output_type": "execute_result",
          "data": {
            "text/plain": [
              "[array(['C', 'Q', 'S'], dtype=object)]"
            ]
          },
          "metadata": {
            "tags": []
          },
          "execution_count": 57
        }
      ]
    },
    {
      "cell_type": "code",
      "metadata": {
        "id": "WUG9jAf1wVxO",
        "colab_type": "code",
        "colab": {}
      },
      "source": [
        "train_set_labels=train_set[['PassengerId','Name']]"
      ],
      "execution_count": null,
      "outputs": []
    },
    {
      "cell_type": "code",
      "metadata": {
        "id": "fAuLZbjyxL8K",
        "colab_type": "code",
        "colab": {
          "base_uri": "https://localhost:8080/",
          "height": 225
        },
        "outputId": "00ac5f0f-4b59-442c-a5af-0cea65b724fe"
      },
      "source": [
        "train_set['PassengerId']"
      ],
      "execution_count": null,
      "outputs": [
        {
          "output_type": "execute_result",
          "data": {
            "text/plain": [
              "0        1\n",
              "1        2\n",
              "2        3\n",
              "3        4\n",
              "4        5\n",
              "      ... \n",
              "886    887\n",
              "887    888\n",
              "888    889\n",
              "889    890\n",
              "890    891\n",
              "Name: PassengerId, Length: 891, dtype: int64"
            ]
          },
          "metadata": {
            "tags": []
          },
          "execution_count": 192
        }
      ]
    },
    {
      "cell_type": "code",
      "metadata": {
        "id": "asRNU2cvxNKw",
        "colab_type": "code",
        "colab": {}
      },
      "source": [
        "train_set=train_set.drop(['Survived'],axis=1)"
      ],
      "execution_count": null,
      "outputs": []
    },
    {
      "cell_type": "code",
      "metadata": {
        "id": "cgHPWw4H9cma",
        "colab_type": "code",
        "colab": {
          "base_uri": "https://localhost:8080/",
          "height": 298
        },
        "outputId": "8d17e8d5-8411-43dd-d1af-b3e1b6face4a"
      },
      "source": [
        "train_set"
      ],
      "execution_count": null,
      "outputs": [
        {
          "output_type": "execute_result",
          "data": {
            "text/plain": [
              "<bound method DataFrame.reset_index of              Pclass     Sex   Age  SibSp  Parch     Fare Embarked\n",
              "PassengerId                                                      \n",
              "1                 3    male  22.0      1      0   7.2500        S\n",
              "2                 1  female  38.0      1      0  71.2833        C\n",
              "3                 3  female  26.0      0      0   7.9250        S\n",
              "4                 1  female  35.0      1      0  53.1000        S\n",
              "5                 3    male  35.0      0      0   8.0500        S\n",
              "...             ...     ...   ...    ...    ...      ...      ...\n",
              "887               2    male  27.0      0      0  13.0000        S\n",
              "888               1  female  19.0      0      0  30.0000        S\n",
              "889               3  female  19.0      1      2  23.4500        S\n",
              "890               1    male  26.0      0      0  30.0000        C\n",
              "891               3    male  32.0      0      0   7.7500        Q\n",
              "\n",
              "[891 rows x 7 columns]>"
            ]
          },
          "metadata": {
            "tags": []
          },
          "execution_count": 118
        }
      ]
    },
    {
      "cell_type": "code",
      "metadata": {
        "id": "LZMJPSO_xTtx",
        "colab_type": "code",
        "colab": {
          "base_uri": "https://localhost:8080/",
          "height": 402
        },
        "outputId": "93c563d5-ec95-44d4-aca1-344c454aec8f"
      },
      "source": [
        "train_set_required"
      ],
      "execution_count": null,
      "outputs": [
        {
          "output_type": "execute_result",
          "data": {
            "text/html": [
              "<div>\n",
              "<style scoped>\n",
              "    .dataframe tbody tr th:only-of-type {\n",
              "        vertical-align: middle;\n",
              "    }\n",
              "\n",
              "    .dataframe tbody tr th {\n",
              "        vertical-align: top;\n",
              "    }\n",
              "\n",
              "    .dataframe thead th {\n",
              "        text-align: right;\n",
              "    }\n",
              "</style>\n",
              "<table border=\"1\" class=\"dataframe\">\n",
              "  <thead>\n",
              "    <tr style=\"text-align: right;\">\n",
              "      <th></th>\n",
              "      <th>Pclass</th>\n",
              "      <th>Sex</th>\n",
              "      <th>Age</th>\n",
              "      <th>SibSp</th>\n",
              "      <th>Parch</th>\n",
              "      <th>Fare</th>\n",
              "      <th>Embarked</th>\n",
              "    </tr>\n",
              "  </thead>\n",
              "  <tbody>\n",
              "    <tr>\n",
              "      <th>0</th>\n",
              "      <td>3</td>\n",
              "      <td>male</td>\n",
              "      <td>22.0</td>\n",
              "      <td>1</td>\n",
              "      <td>0</td>\n",
              "      <td>7.2500</td>\n",
              "      <td>S</td>\n",
              "    </tr>\n",
              "    <tr>\n",
              "      <th>1</th>\n",
              "      <td>1</td>\n",
              "      <td>female</td>\n",
              "      <td>38.0</td>\n",
              "      <td>1</td>\n",
              "      <td>0</td>\n",
              "      <td>71.2833</td>\n",
              "      <td>C</td>\n",
              "    </tr>\n",
              "    <tr>\n",
              "      <th>2</th>\n",
              "      <td>3</td>\n",
              "      <td>female</td>\n",
              "      <td>26.0</td>\n",
              "      <td>0</td>\n",
              "      <td>0</td>\n",
              "      <td>7.9250</td>\n",
              "      <td>S</td>\n",
              "    </tr>\n",
              "    <tr>\n",
              "      <th>3</th>\n",
              "      <td>1</td>\n",
              "      <td>female</td>\n",
              "      <td>35.0</td>\n",
              "      <td>1</td>\n",
              "      <td>0</td>\n",
              "      <td>53.1000</td>\n",
              "      <td>S</td>\n",
              "    </tr>\n",
              "    <tr>\n",
              "      <th>4</th>\n",
              "      <td>3</td>\n",
              "      <td>male</td>\n",
              "      <td>35.0</td>\n",
              "      <td>0</td>\n",
              "      <td>0</td>\n",
              "      <td>8.0500</td>\n",
              "      <td>S</td>\n",
              "    </tr>\n",
              "    <tr>\n",
              "      <th>...</th>\n",
              "      <td>...</td>\n",
              "      <td>...</td>\n",
              "      <td>...</td>\n",
              "      <td>...</td>\n",
              "      <td>...</td>\n",
              "      <td>...</td>\n",
              "      <td>...</td>\n",
              "    </tr>\n",
              "    <tr>\n",
              "      <th>886</th>\n",
              "      <td>2</td>\n",
              "      <td>male</td>\n",
              "      <td>27.0</td>\n",
              "      <td>0</td>\n",
              "      <td>0</td>\n",
              "      <td>13.0000</td>\n",
              "      <td>S</td>\n",
              "    </tr>\n",
              "    <tr>\n",
              "      <th>887</th>\n",
              "      <td>1</td>\n",
              "      <td>female</td>\n",
              "      <td>19.0</td>\n",
              "      <td>0</td>\n",
              "      <td>0</td>\n",
              "      <td>30.0000</td>\n",
              "      <td>S</td>\n",
              "    </tr>\n",
              "    <tr>\n",
              "      <th>888</th>\n",
              "      <td>3</td>\n",
              "      <td>female</td>\n",
              "      <td>26.0</td>\n",
              "      <td>1</td>\n",
              "      <td>2</td>\n",
              "      <td>23.4500</td>\n",
              "      <td>S</td>\n",
              "    </tr>\n",
              "    <tr>\n",
              "      <th>889</th>\n",
              "      <td>1</td>\n",
              "      <td>male</td>\n",
              "      <td>26.0</td>\n",
              "      <td>0</td>\n",
              "      <td>0</td>\n",
              "      <td>30.0000</td>\n",
              "      <td>C</td>\n",
              "    </tr>\n",
              "    <tr>\n",
              "      <th>890</th>\n",
              "      <td>3</td>\n",
              "      <td>male</td>\n",
              "      <td>32.0</td>\n",
              "      <td>0</td>\n",
              "      <td>0</td>\n",
              "      <td>7.7500</td>\n",
              "      <td>Q</td>\n",
              "    </tr>\n",
              "  </tbody>\n",
              "</table>\n",
              "<p>891 rows × 7 columns</p>\n",
              "</div>"
            ],
            "text/plain": [
              "     Pclass     Sex   Age  SibSp  Parch     Fare Embarked\n",
              "0         3    male  22.0      1      0   7.2500        S\n",
              "1         1  female  38.0      1      0  71.2833        C\n",
              "2         3  female  26.0      0      0   7.9250        S\n",
              "3         1  female  35.0      1      0  53.1000        S\n",
              "4         3    male  35.0      0      0   8.0500        S\n",
              "..      ...     ...   ...    ...    ...      ...      ...\n",
              "886       2    male  27.0      0      0  13.0000        S\n",
              "887       1  female  19.0      0      0  30.0000        S\n",
              "888       3  female  26.0      1      2  23.4500        S\n",
              "889       1    male  26.0      0      0  30.0000        C\n",
              "890       3    male  32.0      0      0   7.7500        Q\n",
              "\n",
              "[891 rows x 7 columns]"
            ]
          },
          "metadata": {
            "tags": []
          },
          "execution_count": 18
        }
      ]
    },
    {
      "cell_type": "code",
      "metadata": {
        "id": "YzdGBbDVxVEc",
        "colab_type": "code",
        "colab": {}
      },
      "source": [
        "from sklearn.compose import ColumnTransformer\n",
        "hot_attribs=['Sex','Embarked']\n",
        "full_pipeline=ColumnTransformer([\n",
        "                                 (\"OneHot\",OneHotEncoder(sparse=False),hot_attribs)\n",
        "                                 \n",
        "],remainder='passthrough')\n"
      ],
      "execution_count": null,
      "outputs": []
    },
    {
      "cell_type": "code",
      "metadata": {
        "id": "KLdO9V2P-Rdl",
        "colab_type": "code",
        "colab": {}
      },
      "source": [
        "transformed_train=full_pipeline.fit_transform(train_set_required)"
      ],
      "execution_count": null,
      "outputs": []
    },
    {
      "cell_type": "code",
      "metadata": {
        "id": "tsa4CGElDVdh",
        "colab_type": "code",
        "colab": {
          "base_uri": "https://localhost:8080/",
          "height": 139
        },
        "outputId": "a1e3b1c5-8218-41f6-c7f0-c6316a10dad1"
      },
      "source": [
        "transformed_train"
      ],
      "execution_count": null,
      "outputs": [
        {
          "output_type": "execute_result",
          "data": {
            "text/plain": [
              "array([[ 0.    ,  1.    ,  0.    , ...,  1.    ,  0.    ,  7.25  ],\n",
              "       [ 1.    ,  0.    ,  1.    , ...,  1.    ,  0.    , 71.2833],\n",
              "       [ 1.    ,  0.    ,  0.    , ...,  0.    ,  0.    ,  7.925 ],\n",
              "       ...,\n",
              "       [ 1.    ,  0.    ,  0.    , ...,  1.    ,  2.    , 23.45  ],\n",
              "       [ 0.    ,  1.    ,  1.    , ...,  0.    ,  0.    , 30.    ],\n",
              "       [ 0.    ,  1.    ,  0.    , ...,  0.    ,  0.    ,  7.75  ]])"
            ]
          },
          "metadata": {
            "tags": []
          },
          "execution_count": 10
        }
      ]
    },
    {
      "cell_type": "code",
      "metadata": {
        "id": "Q_AQOUJYC8MY",
        "colab_type": "code",
        "colab": {
          "base_uri": "https://localhost:8080/",
          "height": 34
        },
        "outputId": "36c57510-ee29-4990-d749-36433617b25c"
      },
      "source": [
        "transformed_train.shape"
      ],
      "execution_count": null,
      "outputs": [
        {
          "output_type": "execute_result",
          "data": {
            "text/plain": [
              "(891, 10)"
            ]
          },
          "metadata": {
            "tags": []
          },
          "execution_count": 11
        }
      ]
    },
    {
      "cell_type": "markdown",
      "metadata": {
        "id": "F6cC3k4O5bfB",
        "colab_type": "text"
      },
      "source": [
        "**RANDOMFOREST**"
      ]
    },
    {
      "cell_type": "code",
      "metadata": {
        "id": "trt1pfLa5jmO",
        "colab_type": "code",
        "colab": {}
      },
      "source": [
        "from sklearn.ensemble import RandomForestClassifier\n",
        "forest_clf=RandomForestClassifier()\n"
      ],
      "execution_count": null,
      "outputs": []
    },
    {
      "cell_type": "code",
      "metadata": {
        "id": "CbCvMLcv6XsT",
        "colab_type": "code",
        "colab": {
          "base_uri": "https://localhost:8080/",
          "height": 156
        },
        "outputId": "939291e9-b965-4794-e401-bb52da729fa1"
      },
      "source": [
        "forest_clf.fit(transformed_train,train_set_labels)"
      ],
      "execution_count": null,
      "outputs": [
        {
          "output_type": "execute_result",
          "data": {
            "text/plain": [
              "RandomForestClassifier(bootstrap=True, ccp_alpha=0.0, class_weight=None,\n",
              "                       criterion='gini', max_depth=None, max_features='auto',\n",
              "                       max_leaf_nodes=None, max_samples=None,\n",
              "                       min_impurity_decrease=0.0, min_impurity_split=None,\n",
              "                       min_samples_leaf=1, min_samples_split=2,\n",
              "                       min_weight_fraction_leaf=0.0, n_estimators=100,\n",
              "                       n_jobs=None, oob_score=False, random_state=None,\n",
              "                       verbose=0, warm_start=False)"
            ]
          },
          "metadata": {
            "tags": []
          },
          "execution_count": 16
        }
      ]
    },
    {
      "cell_type": "code",
      "metadata": {
        "id": "b9_4jGYdIgIS",
        "colab_type": "code",
        "colab": {}
      },
      "source": [
        "train_predictions=forest_clf.predict(transformed_train)"
      ],
      "execution_count": null,
      "outputs": []
    },
    {
      "cell_type": "code",
      "metadata": {
        "id": "kxGs8-sm6xnA",
        "colab_type": "code",
        "colab": {
          "base_uri": "https://localhost:8080/",
          "height": 34
        },
        "outputId": "22e3e55e-7adb-4e7e-d1a9-115101e5da10"
      },
      "source": [
        "from sklearn.metrics import precision_score,recall_score,confusion_matrix,f1_score,roc_curve,precision_recall_curve\n",
        "precision_score(train_set_labels,train_predictions)"
      ],
      "execution_count": null,
      "outputs": [
        {
          "output_type": "execute_result",
          "data": {
            "text/plain": [
              "0.993993993993994"
            ]
          },
          "metadata": {
            "tags": []
          },
          "execution_count": 53
        }
      ]
    },
    {
      "cell_type": "code",
      "metadata": {
        "id": "l4xD7XynPyRj",
        "colab_type": "code",
        "colab": {}
      },
      "source": [
        "precisions, recalls, thresholds1 = precision_recall_curve(train_set_labels,\n",
        "y_scores)"
      ],
      "execution_count": null,
      "outputs": []
    },
    {
      "cell_type": "code",
      "metadata": {
        "id": "BnJz8Ze1P9Xb",
        "colab_type": "code",
        "colab": {
          "base_uri": "https://localhost:8080/",
          "height": 590
        },
        "outputId": "3035bbb0-4300-4c2e-f0be-3e26e52a64e1"
      },
      "source": [
        "thresholds"
      ],
      "execution_count": null,
      "outputs": [
        {
          "output_type": "execute_result",
          "data": {
            "text/plain": [
              "array([2.        , 1.        , 0.99      , 0.98      , 0.97      ,\n",
              "       0.965     , 0.96      , 0.95      , 0.94      , 0.93      ,\n",
              "       0.926     , 0.92      , 0.91      , 0.9       , 0.89      ,\n",
              "       0.886     , 0.88      , 0.87      , 0.86      , 0.85      ,\n",
              "       0.84      , 0.83916667, 0.82      , 0.81      , 0.8       ,\n",
              "       0.79      , 0.78      , 0.77      , 0.76875   , 0.76      ,\n",
              "       0.755     , 0.75      , 0.74      , 0.73      , 0.72      ,\n",
              "       0.7125    , 0.71      , 0.7       , 0.69666667, 0.69      ,\n",
              "       0.68      , 0.67416667, 0.67      , 0.66833333, 0.66      ,\n",
              "       0.65      , 0.64      , 0.635     , 0.62      , 0.61      ,\n",
              "       0.60408333, 0.6       , 0.59      , 0.58166667, 0.58      ,\n",
              "       0.57      , 0.56      , 0.55      , 0.54      , 0.52      ,\n",
              "       0.51      , 0.5       , 0.49      , 0.48      , 0.47388095,\n",
              "       0.47      , 0.46      , 0.45      , 0.44      , 0.43      ,\n",
              "       0.42      , 0.415     , 0.41      , 0.4       , 0.39166667,\n",
              "       0.39      , 0.38      , 0.37      , 0.36      , 0.35      ,\n",
              "       0.34      , 0.335     , 0.33      , 0.32      , 0.31416667,\n",
              "       0.31      , 0.3       , 0.29333333, 0.29      , 0.28      ,\n",
              "       0.27866667, 0.27      , 0.26      , 0.25      , 0.24      ,\n",
              "       0.23666667, 0.23133333, 0.23      , 0.22      , 0.21741667,\n",
              "       0.21      , 0.2       , 0.19      , 0.18516667, 0.18      ,\n",
              "       0.17583333, 0.17      , 0.16630952, 0.165     , 0.16      ,\n",
              "       0.15333333, 0.15333333, 0.15      , 0.14166667, 0.14      ,\n",
              "       0.13861905, 0.135     , 0.13333333, 0.13      , 0.1225    ,\n",
              "       0.12      , 0.11655556, 0.115     , 0.11483333, 0.11      ,\n",
              "       0.10233333, 0.102     , 0.1       , 0.0975    , 0.09666667,\n",
              "       0.09666667, 0.09416667, 0.09195238, 0.0915    , 0.09      ,\n",
              "       0.0825    , 0.08      , 0.07983333, 0.07666667, 0.07166667,\n",
              "       0.07      , 0.06166667, 0.06      , 0.05833333, 0.055     ,\n",
              "       0.05      , 0.048     , 0.045     , 0.04      , 0.035     ,\n",
              "       0.03333333, 0.03      , 0.02666667, 0.025     , 0.02      ,\n",
              "       0.01666667, 0.015     , 0.01166667, 0.01      , 0.00916667,\n",
              "       0.00857143, 0.005     , 0.00333333, 0.        ])"
            ]
          },
          "metadata": {
            "tags": []
          },
          "execution_count": 56
        }
      ]
    },
    {
      "cell_type": "code",
      "metadata": {
        "id": "leIL27V6IrKi",
        "colab_type": "code",
        "colab": {
          "base_uri": "https://localhost:8080/",
          "height": 34
        },
        "outputId": "71af4b09-62a8-4e05-e259-6ae8a3495f3f"
      },
      "source": [
        "recall_score(train_set_labels,train_predictions)"
      ],
      "execution_count": null,
      "outputs": [
        {
          "output_type": "execute_result",
          "data": {
            "text/plain": [
              "0.9678362573099415"
            ]
          },
          "metadata": {
            "tags": []
          },
          "execution_count": 35
        }
      ]
    },
    {
      "cell_type": "code",
      "metadata": {
        "id": "PJr4mjZDJYek",
        "colab_type": "code",
        "colab": {
          "base_uri": "https://localhost:8080/",
          "height": 52
        },
        "outputId": "aafbe889-be26-465d-8891-019a72e9b248"
      },
      "source": [
        "confusion_matrix(train_set_labels,train_predictions)"
      ],
      "execution_count": null,
      "outputs": [
        {
          "output_type": "execute_result",
          "data": {
            "text/plain": [
              "array([[547,   2],\n",
              "       [ 11, 331]])"
            ]
          },
          "metadata": {
            "tags": []
          },
          "execution_count": 36
        }
      ]
    },
    {
      "cell_type": "code",
      "metadata": {
        "id": "caicQBcJMGWL",
        "colab_type": "code",
        "colab": {}
      },
      "source": [
        "from sklearn.model_selection import cross_val_predict\n",
        "y_preds=cross_val_predict(forest_clf,transformed_train,train_set_labels,cv=3,method='predict_proba')"
      ],
      "execution_count": null,
      "outputs": []
    },
    {
      "cell_type": "code",
      "metadata": {
        "id": "17Mx_GKjMeuc",
        "colab_type": "code",
        "colab": {
          "base_uri": "https://localhost:8080/",
          "height": 34
        },
        "outputId": "b9f5c830-2a62-47f9-f3a0-7ad6be400667"
      },
      "source": [
        "f1_score(train_set_labels,train_predictions)"
      ],
      "execution_count": null,
      "outputs": [
        {
          "output_type": "execute_result",
          "data": {
            "text/plain": [
              "0.9807407407407408"
            ]
          },
          "metadata": {
            "tags": []
          },
          "execution_count": 40
        }
      ]
    },
    {
      "cell_type": "code",
      "metadata": {
        "id": "UPZbBQR2NdWt",
        "colab_type": "code",
        "colab": {}
      },
      "source": [
        "y_scores=y_preds[:,1]\n",
        "fpr_forest,tpr_forest,thresholds=roc_curve(train_set_labels,y_scores)"
      ],
      "execution_count": null,
      "outputs": []
    },
    {
      "cell_type": "code",
      "metadata": {
        "id": "yft-ASJxPVvl",
        "colab_type": "code",
        "colab": {
          "base_uri": "https://localhost:8080/",
          "height": 590
        },
        "outputId": "0a96dbc9-8d2b-41c9-db8a-cb57ed40cbbf"
      },
      "source": [
        "thresholds"
      ],
      "execution_count": null,
      "outputs": [
        {
          "output_type": "execute_result",
          "data": {
            "text/plain": [
              "array([2.        , 1.        , 0.99      , 0.98      , 0.97      ,\n",
              "       0.965     , 0.96      , 0.95      , 0.94      , 0.93      ,\n",
              "       0.926     , 0.92      , 0.91      , 0.9       , 0.89      ,\n",
              "       0.886     , 0.88      , 0.87      , 0.86      , 0.85      ,\n",
              "       0.84      , 0.83916667, 0.82      , 0.81      , 0.8       ,\n",
              "       0.79      , 0.78      , 0.77      , 0.76875   , 0.76      ,\n",
              "       0.755     , 0.75      , 0.74      , 0.73      , 0.72      ,\n",
              "       0.7125    , 0.71      , 0.7       , 0.69666667, 0.69      ,\n",
              "       0.68      , 0.67416667, 0.67      , 0.66833333, 0.66      ,\n",
              "       0.65      , 0.64      , 0.635     , 0.62      , 0.61      ,\n",
              "       0.60408333, 0.6       , 0.59      , 0.58166667, 0.58      ,\n",
              "       0.57      , 0.56      , 0.55      , 0.54      , 0.52      ,\n",
              "       0.51      , 0.5       , 0.49      , 0.48      , 0.47388095,\n",
              "       0.47      , 0.46      , 0.45      , 0.44      , 0.43      ,\n",
              "       0.42      , 0.415     , 0.41      , 0.4       , 0.39166667,\n",
              "       0.39      , 0.38      , 0.37      , 0.36      , 0.35      ,\n",
              "       0.34      , 0.335     , 0.33      , 0.32      , 0.31416667,\n",
              "       0.31      , 0.3       , 0.29333333, 0.29      , 0.28      ,\n",
              "       0.27866667, 0.27      , 0.26      , 0.25      , 0.24      ,\n",
              "       0.23666667, 0.23133333, 0.23      , 0.22      , 0.21741667,\n",
              "       0.21      , 0.2       , 0.19      , 0.18516667, 0.18      ,\n",
              "       0.17583333, 0.17      , 0.16630952, 0.165     , 0.16      ,\n",
              "       0.15333333, 0.15333333, 0.15      , 0.14166667, 0.14      ,\n",
              "       0.13861905, 0.135     , 0.13333333, 0.13      , 0.1225    ,\n",
              "       0.12      , 0.11655556, 0.115     , 0.11483333, 0.11      ,\n",
              "       0.10233333, 0.102     , 0.1       , 0.0975    , 0.09666667,\n",
              "       0.09666667, 0.09416667, 0.09195238, 0.0915    , 0.09      ,\n",
              "       0.0825    , 0.08      , 0.07983333, 0.07666667, 0.07166667,\n",
              "       0.07      , 0.06166667, 0.06      , 0.05833333, 0.055     ,\n",
              "       0.05      , 0.048     , 0.045     , 0.04      , 0.035     ,\n",
              "       0.03333333, 0.03      , 0.02666667, 0.025     , 0.02      ,\n",
              "       0.01666667, 0.015     , 0.01166667, 0.01      , 0.00916667,\n",
              "       0.00857143, 0.005     , 0.00333333, 0.        ])"
            ]
          },
          "metadata": {
            "tags": []
          },
          "execution_count": 52
        }
      ]
    },
    {
      "cell_type": "code",
      "metadata": {
        "id": "n-B79qzMOmJd",
        "colab_type": "code",
        "colab": {}
      },
      "source": [
        "%matplotlib inline"
      ],
      "execution_count": null,
      "outputs": []
    },
    {
      "cell_type": "code",
      "metadata": {
        "id": "i53FH4LDOCVL",
        "colab_type": "code",
        "colab": {
          "base_uri": "https://localhost:8080/",
          "height": 847
        },
        "outputId": "cf8a5013-ad9f-462d-cddd-c8300944f653"
      },
      "source": [
        "import matplotlib.pyplot as plt\n",
        "plt.figure(figsize=(20,20))\n",
        "plt.plot(fpr_forest,tpr_forest,label='RandomForest')\n",
        "plt.legend(fontsize=30)"
      ],
      "execution_count": null,
      "outputs": [
        {
          "output_type": "execute_result",
          "data": {
            "text/plain": [
              "<matplotlib.legend.Legend at 0x7fd6fcc4b550>"
            ]
          },
          "metadata": {
            "tags": []
          },
          "execution_count": 51
        },
        {
          "output_type": "display_data",
          "data": {
            "image/png": "[encoded data removed]",
            "text/plain": [
              "<Figure size 1440x1440 with 1 Axes>"
            ]
          },
          "metadata": {
            "tags": [],
            "needs_background": "light"
          }
        }
      ]
    },
    {
      "cell_type": "markdown",
      "metadata": {
        "id": "WXeDDyOv5otc",
        "colab_type": "text"
      },
      "source": [
        "RANDOMFORESTEND\n"
      ]
    },
    {
      "cell_type": "markdown",
      "metadata": {
        "id": "vRxL4KckSjgW",
        "colab_type": "text"
      },
      "source": [
        "KNEIGHBORSSTART\n"
      ]
    },
    {
      "cell_type": "code",
      "metadata": {
        "id": "ZBwe419jSny5",
        "colab_type": "code",
        "colab": {
          "base_uri": "https://localhost:8080/",
          "height": 69
        },
        "outputId": "d72bd32c-155c-40d1-9106-196f29287744"
      },
      "source": [
        "from sklearn.neighbors import KNeighborsClassifier\n",
        "kn_clf=KNeighborsClassifier(n_neighbors=10)\n",
        "kn_clf.fit(transformed_train,train_set_labels)"
      ],
      "execution_count": null,
      "outputs": [
        {
          "output_type": "execute_result",
          "data": {
            "text/plain": [
              "KNeighborsClassifier(algorithm='auto', leaf_size=30, metric='minkowski',\n",
              "                     metric_params=None, n_jobs=None, n_neighbors=10, p=2,\n",
              "                     weights='uniform')"
            ]
          },
          "metadata": {
            "tags": []
          },
          "execution_count": 68
        }
      ]
    },
    {
      "cell_type": "code",
      "metadata": {
        "id": "Hy7OTwjlda-8",
        "colab_type": "code",
        "colab": {}
      },
      "source": [
        "from sklearn.model_selection import GridSearchCV\n"
      ],
      "execution_count": null,
      "outputs": []
    },
    {
      "cell_type": "code",
      "metadata": {
        "id": "gvAwEOh8Sb-h",
        "colab_type": "code",
        "colab": {
          "base_uri": "https://localhost:8080/",
          "height": 1000
        },
        "outputId": "d9ff841b-ab4f-45b3-f600-ae12471b110e"
      },
      "source": [
        "from sklearn.model_selection import GridSearchCV\n",
        "\n",
        "param_grid = [{'weights': [\"uniform\", \"distance\"], 'n_neighbors': [1,2,3,4,5,6,7,8,9,10]}]\n",
        "\n",
        "knn_clf = KNeighborsClassifier()\n",
        "grid_search = GridSearchCV(knn_clf, param_grid, cv=5, verbose=3)\n",
        "grid_search.fit(transformed_train,train_set_labels)"
      ],
      "execution_count": null,
      "outputs": [
        {
          "output_type": "stream",
          "text": [
            "Fitting 5 folds for each of 20 candidates, totalling 100 fits\n",
            "[CV] n_neighbors=1, weights=uniform ..................................\n",
            "[CV] ...... n_neighbors=1, weights=uniform, score=0.642, total=   0.0s\n",
            "[CV] n_neighbors=1, weights=uniform ..................................\n",
            "[CV] ...... n_neighbors=1, weights=uniform, score=0.674, total=   0.0s\n",
            "[CV] n_neighbors=1, weights=uniform ..................................\n",
            "[CV] ...... n_neighbors=1, weights=uniform, score=0.719, total=   0.0s\n",
            "[CV] n_neighbors=1, weights=uniform ..................................\n",
            "[CV] ...... n_neighbors=1, weights=uniform, score=0.702, total=   0.0s\n",
            "[CV] n_neighbors=1, weights=uniform ..................................\n",
            "[CV] ...... n_neighbors=1, weights=uniform, score=0.680, total=   0.0s\n",
            "[CV] n_neighbors=1, weights=distance .................................\n",
            "[CV] ..... n_neighbors=1, weights=distance, score=0.642, total=   0.0s\n",
            "[CV] n_neighbors=1, weights=distance .................................\n",
            "[CV] ..... n_neighbors=1, weights=distance, score=0.674, total=   0.0s\n",
            "[CV] n_neighbors=1, weights=distance .................................\n",
            "[CV] ..... n_neighbors=1, weights=distance, score=0.719, total=   0.0s\n",
            "[CV] n_neighbors=1, weights=distance .................................\n",
            "[CV] ..... n_neighbors=1, weights=distance, score=0.702, total=   0.0s\n",
            "[CV] n_neighbors=1, weights=distance .................................\n",
            "[CV] ..... n_neighbors=1, weights=distance, score=0.680, total=   0.0s\n",
            "[CV] n_neighbors=2, weights=uniform ..................................\n",
            "[CV] ...... n_neighbors=2, weights=uniform, score=0.654, total=   0.0s\n",
            "[CV] n_neighbors=2, weights=uniform ..................................\n",
            "[CV] ...... n_neighbors=2, weights=uniform, score=0.691, total=   0.0s\n",
            "[CV] n_neighbors=2, weights=uniform ..................................\n",
            "[CV] ...... n_neighbors=2, weights=uniform, score=0.697, total=   0.0s\n",
            "[CV] n_neighbors=2, weights=uniform ..................................\n",
            "[CV] ...... n_neighbors=2, weights=uniform, score=0.713, total=   0.0s\n",
            "[CV] n_neighbors=2, weights=uniform ..................................\n",
            "[CV] ...... n_neighbors=2, weights=uniform, score=0.691, total=   0.0s\n",
            "[CV] n_neighbors=2, weights=distance .................................\n",
            "[CV] ..... n_neighbors=2, weights=distance, score=0.654, total=   0.0s\n",
            "[CV] n_neighbors=2, weights=distance .................................\n",
            "[CV] ..... n_neighbors=2, weights=distance, score=0.680, total=   0.0s\n",
            "[CV] n_neighbors=2, weights=distance .................................\n",
            "[CV] ..... n_neighbors=2, weights=distance, score=0.725, total=   0.0s\n",
            "[CV] n_neighbors=2, weights=distance .................................\n",
            "[CV] ..... n_neighbors=2, weights=distance, score=0.702, total=   0.0s\n",
            "[CV] n_neighbors=2, weights=distance .................................\n",
            "[CV] ..... n_neighbors=2, weights=distance, score=0.669, total=   0.0s\n",
            "[CV] n_neighbors=3, weights=uniform ..................................\n",
            "[CV] ...... n_neighbors=3, weights=uniform, score=0.670, total=   0.0s\n",
            "[CV] n_neighbors=3, weights=uniform ..................................\n",
            "[CV] ...... n_neighbors=3, weights=uniform, score=0.697, total=   0.0s\n",
            "[CV] n_neighbors=3, weights=uniform ..................................\n",
            "[CV] ...... n_neighbors=3, weights=uniform, score=0.708, total=   0.0s\n",
            "[CV] n_neighbors=3, weights=uniform ..................................\n",
            "[CV] ...... n_neighbors=3, weights=uniform, score=0.747, total=   0.0s\n",
            "[CV] n_neighbors=3, weights=uniform ..................................\n",
            "[CV] ...... n_neighbors=3, weights=uniform, score=0.713, total=   0.0s\n",
            "[CV] n_neighbors=3, weights=distance .................................\n",
            "[CV] ..... n_neighbors=3, weights=distance, score=0.659, total=   0.0s\n",
            "[CV] n_neighbors=3, weights=distance .................................\n",
            "[CV] ..... n_neighbors=3, weights=distance, score=0.691, total=   0.0s\n",
            "[CV] n_neighbors=3, weights=distance .................................\n",
            "[CV] ..... n_neighbors=3, weights=distance, score=0.719, total=   0.0s\n",
            "[CV] n_neighbors=3, weights=distance .................................\n",
            "[CV] ..... n_neighbors=3, weights=distance, score=0.736, total=   0.0s\n",
            "[CV] n_neighbors=3, weights=distance .................................\n",
            "[CV] ..... n_neighbors=3, weights=distance, score=0.702, total=   0.0s\n",
            "[CV] n_neighbors=4, weights=uniform ..................................\n"
          ],
          "name": "stdout"
        },
        {
          "output_type": "stream",
          "text": [
            "[Parallel(n_jobs=1)]: Using backend SequentialBackend with 1 concurrent workers.\n",
            "[Parallel(n_jobs=1)]: Done   1 out of   1 | elapsed:    0.0s remaining:    0.0s\n",
            "[Parallel(n_jobs=1)]: Done   2 out of   2 | elapsed:    0.0s remaining:    0.0s\n"
          ],
          "name": "stderr"
        },
        {
          "output_type": "stream",
          "text": [
            "[CV] ...... n_neighbors=4, weights=uniform, score=0.659, total=   0.0s\n",
            "[CV] n_neighbors=4, weights=uniform ..................................\n",
            "[CV] ...... n_neighbors=4, weights=uniform, score=0.702, total=   0.0s\n",
            "[CV] n_neighbors=4, weights=uniform ..................................\n",
            "[CV] ...... n_neighbors=4, weights=uniform, score=0.691, total=   0.0s\n",
            "[CV] n_neighbors=4, weights=uniform ..................................\n",
            "[CV] ...... n_neighbors=4, weights=uniform, score=0.685, total=   0.0s\n",
            "[CV] n_neighbors=4, weights=uniform ..................................\n",
            "[CV] ...... n_neighbors=4, weights=uniform, score=0.691, total=   0.0s\n",
            "[CV] n_neighbors=4, weights=distance .................................\n",
            "[CV] ..... n_neighbors=4, weights=distance, score=0.665, total=   0.0s\n",
            "[CV] n_neighbors=4, weights=distance .................................\n",
            "[CV] ..... n_neighbors=4, weights=distance, score=0.685, total=   0.0s\n",
            "[CV] n_neighbors=4, weights=distance .................................\n",
            "[CV] ..... n_neighbors=4, weights=distance, score=0.736, total=   0.0s\n",
            "[CV] n_neighbors=4, weights=distance .................................\n",
            "[CV] ..... n_neighbors=4, weights=distance, score=0.708, total=   0.0s\n",
            "[CV] n_neighbors=4, weights=distance .................................\n",
            "[CV] ..... n_neighbors=4, weights=distance, score=0.719, total=   0.0s\n",
            "[CV] n_neighbors=5, weights=uniform ..................................\n",
            "[CV] ...... n_neighbors=5, weights=uniform, score=0.654, total=   0.0s\n",
            "[CV] n_neighbors=5, weights=uniform ..................................\n",
            "[CV] ...... n_neighbors=5, weights=uniform, score=0.674, total=   0.0s\n",
            "[CV] n_neighbors=5, weights=uniform ..................................\n",
            "[CV] ...... n_neighbors=5, weights=uniform, score=0.708, total=   0.0s\n",
            "[CV] n_neighbors=5, weights=uniform ..................................\n",
            "[CV] ...... n_neighbors=5, weights=uniform, score=0.708, total=   0.0s\n",
            "[CV] n_neighbors=5, weights=uniform ..................................\n",
            "[CV] ...... n_neighbors=5, weights=uniform, score=0.719, total=   0.0s\n",
            "[CV] n_neighbors=5, weights=distance .................................\n",
            "[CV] ..... n_neighbors=5, weights=distance, score=0.676, total=   0.0s\n",
            "[CV] n_neighbors=5, weights=distance .................................\n",
            "[CV] ..... n_neighbors=5, weights=distance, score=0.697, total=   0.0s\n",
            "[CV] n_neighbors=5, weights=distance .................................\n",
            "[CV] ..... n_neighbors=5, weights=distance, score=0.730, total=   0.0s\n",
            "[CV] n_neighbors=5, weights=distance .................................\n",
            "[CV] ..... n_neighbors=5, weights=distance, score=0.719, total=   0.0s\n",
            "[CV] n_neighbors=5, weights=distance .................................\n",
            "[CV] ..... n_neighbors=5, weights=distance, score=0.702, total=   0.0s\n",
            "[CV] n_neighbors=6, weights=uniform ..................................\n",
            "[CV] ...... n_neighbors=6, weights=uniform, score=0.615, total=   0.0s\n",
            "[CV] n_neighbors=6, weights=uniform ..................................\n",
            "[CV] ...... n_neighbors=6, weights=uniform, score=0.685, total=   0.0s\n",
            "[CV] n_neighbors=6, weights=uniform ..................................\n",
            "[CV] ...... n_neighbors=6, weights=uniform, score=0.691, total=   0.0s\n",
            "[CV] n_neighbors=6, weights=uniform ..................................\n",
            "[CV] ...... n_neighbors=6, weights=uniform, score=0.669, total=   0.0s\n",
            "[CV] n_neighbors=6, weights=uniform ..................................\n",
            "[CV] ...... n_neighbors=6, weights=uniform, score=0.702, total=   0.0s\n",
            "[CV] n_neighbors=6, weights=distance .................................\n",
            "[CV] ..... n_neighbors=6, weights=distance, score=0.659, total=   0.0s\n",
            "[CV] n_neighbors=6, weights=distance .................................\n",
            "[CV] ..... n_neighbors=6, weights=distance, score=0.680, total=   0.0s\n",
            "[CV] n_neighbors=6, weights=distance .................................\n",
            "[CV] ..... n_neighbors=6, weights=distance, score=0.719, total=   0.0s\n",
            "[CV] n_neighbors=6, weights=distance .................................\n",
            "[CV] ..... n_neighbors=6, weights=distance, score=0.719, total=   0.0s\n",
            "[CV] n_neighbors=6, weights=distance .................................\n",
            "[CV] ..... n_neighbors=6, weights=distance, score=0.697, total=   0.0s\n",
            "[CV] n_neighbors=7, weights=uniform ..................................\n",
            "[CV] ...... n_neighbors=7, weights=uniform, score=0.620, total=   0.0s\n",
            "[CV] n_neighbors=7, weights=uniform ..................................\n",
            "[CV] ...... n_neighbors=7, weights=uniform, score=0.663, total=   0.0s\n",
            "[CV] n_neighbors=7, weights=uniform ..................................\n",
            "[CV] ...... n_neighbors=7, weights=uniform, score=0.702, total=   0.0s\n",
            "[CV] n_neighbors=7, weights=uniform ..................................\n",
            "[CV] ...... n_neighbors=7, weights=uniform, score=0.713, total=   0.0s\n",
            "[CV] n_neighbors=7, weights=uniform ..................................\n",
            "[CV] ...... n_neighbors=7, weights=uniform, score=0.697, total=   0.0s\n",
            "[CV] n_neighbors=7, weights=distance .................................\n",
            "[CV] ..... n_neighbors=7, weights=distance, score=0.665, total=   0.0s\n",
            "[CV] n_neighbors=7, weights=distance .................................\n",
            "[CV] ..... n_neighbors=7, weights=distance, score=0.680, total=   0.0s\n",
            "[CV] n_neighbors=7, weights=distance .................................\n",
            "[CV] ..... n_neighbors=7, weights=distance, score=0.730, total=   0.0s\n",
            "[CV] n_neighbors=7, weights=distance .................................\n",
            "[CV] ..... n_neighbors=7, weights=distance, score=0.708, total=   0.0s\n",
            "[CV] n_neighbors=7, weights=distance .................................\n",
            "[CV] ..... n_neighbors=7, weights=distance, score=0.680, total=   0.0s\n",
            "[CV] n_neighbors=8, weights=uniform ..................................\n",
            "[CV] ...... n_neighbors=8, weights=uniform, score=0.609, total=   0.0s\n",
            "[CV] n_neighbors=8, weights=uniform ..................................\n",
            "[CV] ...... n_neighbors=8, weights=uniform, score=0.674, total=   0.0s\n",
            "[CV] n_neighbors=8, weights=uniform ..................................\n",
            "[CV] ...... n_neighbors=8, weights=uniform, score=0.691, total=   0.0s\n",
            "[CV] n_neighbors=8, weights=uniform ..................................\n",
            "[CV] ...... n_neighbors=8, weights=uniform, score=0.697, total=   0.0s\n",
            "[CV] n_neighbors=8, weights=uniform ..................................\n",
            "[CV] ...... n_neighbors=8, weights=uniform, score=0.719, total=   0.0s\n",
            "[CV] n_neighbors=8, weights=distance .................................\n",
            "[CV] ..... n_neighbors=8, weights=distance, score=0.654, total=   0.0s\n",
            "[CV] n_neighbors=8, weights=distance .................................\n",
            "[CV] ..... n_neighbors=8, weights=distance, score=0.685, total=   0.0s\n",
            "[CV] n_neighbors=8, weights=distance .................................\n",
            "[CV] ..... n_neighbors=8, weights=distance, score=0.736, total=   0.0s\n",
            "[CV] n_neighbors=8, weights=distance .................................\n",
            "[CV] ..... n_neighbors=8, weights=distance, score=0.708, total=   0.0s\n",
            "[CV] n_neighbors=8, weights=distance .................................\n",
            "[CV] ..... n_neighbors=8, weights=distance, score=0.719, total=   0.0s\n",
            "[CV] n_neighbors=9, weights=uniform ..................................\n",
            "[CV] ...... n_neighbors=9, weights=uniform, score=0.609, total=   0.0s\n",
            "[CV] n_neighbors=9, weights=uniform ..................................\n",
            "[CV] ...... n_neighbors=9, weights=uniform, score=0.657, total=   0.0s\n",
            "[CV] n_neighbors=9, weights=uniform ..................................\n",
            "[CV] ...... n_neighbors=9, weights=uniform, score=0.713, total=   0.0s\n",
            "[CV] n_neighbors=9, weights=uniform ..................................\n",
            "[CV] ...... n_neighbors=9, weights=uniform, score=0.708, total=   0.0s\n",
            "[CV] n_neighbors=9, weights=uniform ..................................\n",
            "[CV] ...... n_neighbors=9, weights=uniform, score=0.747, total=   0.0s\n",
            "[CV] n_neighbors=9, weights=distance .................................\n",
            "[CV] ..... n_neighbors=9, weights=distance, score=0.642, total=   0.0s\n",
            "[CV] n_neighbors=9, weights=distance .................................\n",
            "[CV] ..... n_neighbors=9, weights=distance, score=0.691, total=   0.0s\n",
            "[CV] n_neighbors=9, weights=distance .................................\n",
            "[CV] ..... n_neighbors=9, weights=distance, score=0.742, total=   0.0s\n",
            "[CV] n_neighbors=9, weights=distance .................................\n",
            "[CV] ..... n_neighbors=9, weights=distance, score=0.691, total=   0.0s\n",
            "[CV] n_neighbors=9, weights=distance .................................\n",
            "[CV] ..... n_neighbors=9, weights=distance, score=0.713, total=   0.0s\n",
            "[CV] n_neighbors=10, weights=uniform .................................\n",
            "[CV] ..... n_neighbors=10, weights=uniform, score=0.609, total=   0.0s\n",
            "[CV] n_neighbors=10, weights=uniform .................................\n",
            "[CV] ..... n_neighbors=10, weights=uniform, score=0.663, total=   0.0s\n",
            "[CV] n_neighbors=10, weights=uniform .................................\n",
            "[CV] ..... n_neighbors=10, weights=uniform, score=0.697, total=   0.0s\n",
            "[CV] n_neighbors=10, weights=uniform .................................\n",
            "[CV] ..... n_neighbors=10, weights=uniform, score=0.719, total=   0.0s\n",
            "[CV] n_neighbors=10, weights=uniform .................................\n",
            "[CV] ..... n_neighbors=10, weights=uniform, score=0.730, total=   0.0s\n",
            "[CV] n_neighbors=10, weights=distance ................................\n",
            "[CV] .... n_neighbors=10, weights=distance, score=0.642, total=   0.0s\n",
            "[CV] n_neighbors=10, weights=distance ................................\n",
            "[CV] .... n_neighbors=10, weights=distance, score=0.691, total=   0.0s\n",
            "[CV] n_neighbors=10, weights=distance ................................\n",
            "[CV] .... n_neighbors=10, weights=distance, score=0.742, total=   0.0s\n",
            "[CV] n_neighbors=10, weights=distance ................................\n",
            "[CV] .... n_neighbors=10, weights=distance, score=0.719, total=   0.0s\n",
            "[CV] n_neighbors=10, weights=distance ................................\n",
            "[CV] .... n_neighbors=10, weights=distance, score=0.708, total=   0.0s\n"
          ],
          "name": "stdout"
        },
        {
          "output_type": "stream",
          "text": [
            "[Parallel(n_jobs=1)]: Done 100 out of 100 | elapsed:    0.7s finished\n"
          ],
          "name": "stderr"
        },
        {
          "output_type": "execute_result",
          "data": {
            "text/plain": [
              "GridSearchCV(cv=5, error_score=nan,\n",
              "             estimator=KNeighborsClassifier(algorithm='auto', leaf_size=30,\n",
              "                                            metric='minkowski',\n",
              "                                            metric_params=None, n_jobs=None,\n",
              "                                            n_neighbors=5, p=2,\n",
              "                                            weights='uniform'),\n",
              "             iid='deprecated', n_jobs=None,\n",
              "             param_grid=[{'n_neighbors': [1, 2, 3, 4, 5, 6, 7, 8, 9, 10],\n",
              "                          'weights': ['uniform', 'distance']}],\n",
              "             pre_dispatch='2*n_jobs', refit=True, return_train_score=False,\n",
              "             scoring=None, verbose=3)"
            ]
          },
          "metadata": {
            "tags": []
          },
          "execution_count": 75
        }
      ]
    },
    {
      "cell_type": "code",
      "metadata": {
        "id": "4ist51XJTs06",
        "colab_type": "code",
        "colab": {
          "base_uri": "https://localhost:8080/",
          "height": 52
        },
        "outputId": "d131d027-8610-4919-fe11-3cf0e6ff0e8d"
      },
      "source": [
        "confusion_matrix(train_set_labels,x)"
      ],
      "execution_count": null,
      "outputs": [
        {
          "output_type": "execute_result",
          "data": {
            "text/plain": [
              "array([[453,  96],\n",
              "       [177, 165]])"
            ]
          },
          "metadata": {
            "tags": []
          },
          "execution_count": 79
        }
      ]
    },
    {
      "cell_type": "code",
      "metadata": {
        "id": "F7iRgBJrS3QK",
        "colab_type": "code",
        "colab": {
          "base_uri": "https://localhost:8080/",
          "height": 1000
        },
        "outputId": "b37140d4-084d-4ca5-e877-a21fa04b4c73"
      },
      "source": [
        "x=cross_val_predict(grid_search,transformed_train,train_set_labels,cv=3)"
      ],
      "execution_count": null,
      "outputs": [
        {
          "output_type": "stream",
          "text": [
            "Fitting 5 folds for each of 20 candidates, totalling 100 fits\n",
            "[CV] n_neighbors=1, weights=uniform ..................................\n",
            "[CV] ...... n_neighbors=1, weights=uniform, score=0.681, total=   0.0s\n",
            "[CV] n_neighbors=1, weights=uniform ..................................\n",
            "[CV] ...... n_neighbors=1, weights=uniform, score=0.681, total=   0.0s\n",
            "[CV] n_neighbors=1, weights=uniform ..................................\n",
            "[CV] ...... n_neighbors=1, weights=uniform, score=0.681, total=   0.0s\n",
            "[CV] n_neighbors=1, weights=uniform ..................................\n",
            "[CV] ...... n_neighbors=1, weights=uniform, score=0.664, total=   0.0s\n",
            "[CV] n_neighbors=1, weights=uniform ..................................\n",
            "[CV] ...... n_neighbors=1, weights=uniform, score=0.712, total=   0.0s\n",
            "[CV] n_neighbors=1, weights=distance .................................\n",
            "[CV] ..... n_neighbors=1, weights=distance, score=0.681, total=   0.0s\n",
            "[CV] n_neighbors=1, weights=distance .................................\n",
            "[CV] ..... n_neighbors=1, weights=distance, score=0.681, total=   0.0s\n",
            "[CV] n_neighbors=1, weights=distance .................................\n",
            "[CV] ..... n_neighbors=1, weights=distance, score=0.681, total=   0.0s\n",
            "[CV] n_neighbors=1, weights=distance .................................\n",
            "[CV] ..... n_neighbors=1, weights=distance, score=0.664, total=   0.0s\n",
            "[CV] n_neighbors=1, weights=distance .................................\n",
            "[CV] ..... n_neighbors=1, weights=distance, score=0.712, total=   0.0s\n",
            "[CV] n_neighbors=2, weights=uniform ..................................\n",
            "[CV] ...... n_neighbors=2, weights=uniform, score=0.714, total=   0.0s\n",
            "[CV] n_neighbors=2, weights=uniform ..................................\n",
            "[CV] ...... n_neighbors=2, weights=uniform, score=0.731, total=   0.0s\n",
            "[CV] n_neighbors=2, weights=uniform ..................................\n",
            "[CV] ...... n_neighbors=2, weights=uniform, score=0.664, total=   0.0s\n",
            "[CV] n_neighbors=2, weights=uniform ..................................\n",
            "[CV] ...... n_neighbors=2, weights=uniform, score=0.714, total=   0.0s\n",
            "[CV] n_neighbors=2, weights=uniform ..................................\n",
            "[CV] ...... n_neighbors=2, weights=uniform, score=0.695, total=   0.0s\n",
            "[CV] n_neighbors=2, weights=distance .................................\n",
            "[CV] ..... n_neighbors=2, weights=distance, score=0.681, total=   0.0s\n",
            "[CV] n_neighbors=2, weights=distance .................................\n",
            "[CV] ..... n_neighbors=2, weights=distance, score=0.681, total=   0.0s\n",
            "[CV] n_neighbors=2, weights=distance .................................\n",
            "[CV] ..... n_neighbors=2, weights=distance, score=0.681, total=   0.0s\n",
            "[CV] n_neighbors=2, weights=distance .................................\n",
            "[CV] ..... n_neighbors=2, weights=distance, score=0.672, total=   0.0s\n",
            "[CV] n_neighbors=2, weights=distance .................................\n",
            "[CV] ..... n_neighbors=2, weights=distance, score=0.703, total=   0.0s\n",
            "[CV] n_neighbors=3, weights=uniform ..................................\n",
            "[CV] ...... n_neighbors=3, weights=uniform, score=0.697, total=   0.0s\n",
            "[CV] n_neighbors=3, weights=uniform ..................................\n",
            "[CV] ...... n_neighbors=3, weights=uniform, score=0.723, total=   0.0s\n",
            "[CV] n_neighbors=3, weights=uniform ..................................\n",
            "[CV] ...... n_neighbors=3, weights=uniform, score=0.723, total=   0.0s\n",
            "[CV] n_neighbors=3, weights=uniform ..................................\n",
            "[CV] ...... n_neighbors=3, weights=uniform, score=0.697, total=   0.0s\n",
            "[CV] n_neighbors=3, weights=uniform ..................................\n",
            "[CV] ...... n_neighbors=3, weights=uniform, score=0.720, total=   0.0s\n",
            "[CV] n_neighbors=3, weights=distance .................................\n",
            "[CV] ..... n_neighbors=3, weights=distance, score=0.697, total=   0.0s\n",
            "[CV] n_neighbors=3, weights=distance .................................\n",
            "[CV] ..... n_neighbors=3, weights=distance, score=0.723, total=   0.0s\n",
            "[CV] n_neighbors=3, weights=distance .................................\n",
            "[CV] ..... n_neighbors=3, weights=distance, score=0.723, total=   0.0s\n",
            "[CV] n_neighbors=3, weights=distance .................................\n",
            "[CV] ..... n_neighbors=3, weights=distance, score=0.689, total=   0.0s\n",
            "[CV] n_neighbors=3, weights=distance .................................\n",
            "[CV] ..... n_neighbors=3, weights=distance, score=0.712, total=   0.0s\n",
            "[CV] n_neighbors=4, weights=uniform ..................................\n",
            "[CV] ...... n_neighbors=4, weights=uniform, score=0.723, total=   0.0s\n",
            "[CV] n_neighbors=4, weights=uniform ..................................\n",
            "[CV] ...... n_neighbors=4, weights=uniform, score=0.706, total=   0.0s\n",
            "[CV] n_neighbors=4, weights=uniform ..................................\n",
            "[CV] ...... n_neighbors=4, weights=uniform, score=0.706, total=   0.0s\n",
            "[CV] n_neighbors=4, weights=uniform ..................................\n",
            "[CV] ...... n_neighbors=4, weights=uniform, score=0.723, total=   0.0s\n",
            "[CV] n_neighbors=4, weights=uniform ..................................\n",
            "[CV] ...... n_neighbors=4, weights=uniform, score=0.712, total=   0.0s\n",
            "[CV] n_neighbors=4, weights=distance .................................\n"
          ],
          "name": "stdout"
        },
        {
          "output_type": "stream",
          "text": [
            "[Parallel(n_jobs=1)]: Using backend SequentialBackend with 1 concurrent workers.\n",
            "[Parallel(n_jobs=1)]: Done   1 out of   1 | elapsed:    0.0s remaining:    0.0s\n",
            "[Parallel(n_jobs=1)]: Done   2 out of   2 | elapsed:    0.0s remaining:    0.0s\n"
          ],
          "name": "stderr"
        },
        {
          "output_type": "stream",
          "text": [
            "[CV] ..... n_neighbors=4, weights=distance, score=0.672, total=   0.0s\n",
            "[CV] n_neighbors=4, weights=distance .................................\n",
            "[CV] ..... n_neighbors=4, weights=distance, score=0.731, total=   0.0s\n",
            "[CV] n_neighbors=4, weights=distance .................................\n",
            "[CV] ..... n_neighbors=4, weights=distance, score=0.731, total=   0.0s\n",
            "[CV] n_neighbors=4, weights=distance .................................\n",
            "[CV] ..... n_neighbors=4, weights=distance, score=0.697, total=   0.0s\n",
            "[CV] n_neighbors=4, weights=distance .................................\n",
            "[CV] ..... n_neighbors=4, weights=distance, score=0.703, total=   0.0s\n",
            "[CV] n_neighbors=5, weights=uniform ..................................\n",
            "[CV] ...... n_neighbors=5, weights=uniform, score=0.681, total=   0.0s\n",
            "[CV] n_neighbors=5, weights=uniform ..................................\n",
            "[CV] ...... n_neighbors=5, weights=uniform, score=0.714, total=   0.0s\n",
            "[CV] n_neighbors=5, weights=uniform ..................................\n",
            "[CV] ...... n_neighbors=5, weights=uniform, score=0.731, total=   0.0s\n",
            "[CV] n_neighbors=5, weights=uniform ..................................\n",
            "[CV] ...... n_neighbors=5, weights=uniform, score=0.672, total=   0.0s\n",
            "[CV] n_neighbors=5, weights=uniform ..................................\n",
            "[CV] ...... n_neighbors=5, weights=uniform, score=0.720, total=   0.0s\n",
            "[CV] n_neighbors=5, weights=distance .................................\n",
            "[CV] ..... n_neighbors=5, weights=distance, score=0.689, total=   0.0s\n",
            "[CV] n_neighbors=5, weights=distance .................................\n",
            "[CV] ..... n_neighbors=5, weights=distance, score=0.714, total=   0.0s\n",
            "[CV] n_neighbors=5, weights=distance .................................\n",
            "[CV] ..... n_neighbors=5, weights=distance, score=0.739, total=   0.0s\n",
            "[CV] n_neighbors=5, weights=distance .................................\n",
            "[CV] ..... n_neighbors=5, weights=distance, score=0.689, total=   0.0s\n",
            "[CV] n_neighbors=5, weights=distance .................................\n",
            "[CV] ..... n_neighbors=5, weights=distance, score=0.712, total=   0.0s\n",
            "[CV] n_neighbors=6, weights=uniform ..................................\n",
            "[CV] ...... n_neighbors=6, weights=uniform, score=0.714, total=   0.0s\n",
            "[CV] n_neighbors=6, weights=uniform ..................................\n",
            "[CV] ...... n_neighbors=6, weights=uniform, score=0.714, total=   0.0s\n",
            "[CV] n_neighbors=6, weights=uniform ..................................\n",
            "[CV] ...... n_neighbors=6, weights=uniform, score=0.731, total=   0.0s\n",
            "[CV] n_neighbors=6, weights=uniform ..................................\n",
            "[CV] ...... n_neighbors=6, weights=uniform, score=0.681, total=   0.0s\n",
            "[CV] n_neighbors=6, weights=uniform ..................................\n",
            "[CV] ...... n_neighbors=6, weights=uniform, score=0.737, total=   0.0s\n",
            "[CV] n_neighbors=6, weights=distance .................................\n",
            "[CV] ..... n_neighbors=6, weights=distance, score=0.689, total=   0.0s\n",
            "[CV] n_neighbors=6, weights=distance .................................\n",
            "[CV] ..... n_neighbors=6, weights=distance, score=0.731, total=   0.0s\n",
            "[CV] n_neighbors=6, weights=distance .................................\n",
            "[CV] ..... n_neighbors=6, weights=distance, score=0.748, total=   0.0s\n",
            "[CV] n_neighbors=6, weights=distance .................................\n",
            "[CV] ..... n_neighbors=6, weights=distance, score=0.689, total=   0.0s\n",
            "[CV] n_neighbors=6, weights=distance .................................\n",
            "[CV] ..... n_neighbors=6, weights=distance, score=0.695, total=   0.0s\n",
            "[CV] n_neighbors=7, weights=uniform ..................................\n",
            "[CV] ...... n_neighbors=7, weights=uniform, score=0.748, total=   0.0s\n",
            "[CV] n_neighbors=7, weights=uniform ..................................\n",
            "[CV] ...... n_neighbors=7, weights=uniform, score=0.706, total=   0.0s\n",
            "[CV] n_neighbors=7, weights=uniform ..................................\n",
            "[CV] ...... n_neighbors=7, weights=uniform, score=0.756, total=   0.0s\n",
            "[CV] n_neighbors=7, weights=uniform ..................................\n",
            "[CV] ...... n_neighbors=7, weights=uniform, score=0.697, total=   0.0s\n",
            "[CV] n_neighbors=7, weights=uniform ..................................\n",
            "[CV] ...... n_neighbors=7, weights=uniform, score=0.737, total=   0.0s\n",
            "[CV] n_neighbors=7, weights=distance .................................\n",
            "[CV] ..... n_neighbors=7, weights=distance, score=0.731, total=   0.0s\n",
            "[CV] n_neighbors=7, weights=distance .................................\n",
            "[CV] ..... n_neighbors=7, weights=distance, score=0.723, total=   0.0s\n",
            "[CV] n_neighbors=7, weights=distance .................................\n",
            "[CV] ..... n_neighbors=7, weights=distance, score=0.739, total=   0.0s\n",
            "[CV] n_neighbors=7, weights=distance .................................\n",
            "[CV] ..... n_neighbors=7, weights=distance, score=0.681, total=   0.0s\n",
            "[CV] n_neighbors=7, weights=distance .................................\n",
            "[CV] ..... n_neighbors=7, weights=distance, score=0.729, total=   0.0s\n",
            "[CV] n_neighbors=8, weights=uniform ..................................\n",
            "[CV] ...... n_neighbors=8, weights=uniform, score=0.748, total=   0.0s\n",
            "[CV] n_neighbors=8, weights=uniform ..................................\n",
            "[CV] ...... n_neighbors=8, weights=uniform, score=0.731, total=   0.0s\n",
            "[CV] n_neighbors=8, weights=uniform ..................................\n",
            "[CV] ...... n_neighbors=8, weights=uniform, score=0.748, total=   0.0s\n",
            "[CV] n_neighbors=8, weights=uniform ..................................\n",
            "[CV] ...... n_neighbors=8, weights=uniform, score=0.723, total=   0.0s\n",
            "[CV] n_neighbors=8, weights=uniform ..................................\n",
            "[CV] ...... n_neighbors=8, weights=uniform, score=0.720, total=   0.0s\n",
            "[CV] n_neighbors=8, weights=distance .................................\n",
            "[CV] ..... n_neighbors=8, weights=distance, score=0.739, total=   0.0s\n",
            "[CV] n_neighbors=8, weights=distance .................................\n",
            "[CV] ..... n_neighbors=8, weights=distance, score=0.723, total=   0.0s\n",
            "[CV] n_neighbors=8, weights=distance .................................\n",
            "[CV] ..... n_neighbors=8, weights=distance, score=0.748, total=   0.0s\n",
            "[CV] n_neighbors=8, weights=distance .................................\n",
            "[CV] ..... n_neighbors=8, weights=distance, score=0.706, total=   0.0s\n",
            "[CV] n_neighbors=8, weights=distance .................................\n",
            "[CV] ..... n_neighbors=8, weights=distance, score=0.686, total=   0.0s\n",
            "[CV] n_neighbors=9, weights=uniform ..................................\n",
            "[CV] ...... n_neighbors=9, weights=uniform, score=0.723, total=   0.0s\n",
            "[CV] n_neighbors=9, weights=uniform ..................................\n",
            "[CV] ...... n_neighbors=9, weights=uniform, score=0.739, total=   0.0s\n",
            "[CV] n_neighbors=9, weights=uniform ..................................\n",
            "[CV] ...... n_neighbors=9, weights=uniform, score=0.739, total=   0.0s\n",
            "[CV] n_neighbors=9, weights=uniform ..................................\n",
            "[CV] ...... n_neighbors=9, weights=uniform, score=0.748, total=   0.0s\n",
            "[CV] n_neighbors=9, weights=uniform ..................................\n",
            "[CV] ...... n_neighbors=9, weights=uniform, score=0.678, total=   0.0s\n",
            "[CV] n_neighbors=9, weights=distance .................................\n",
            "[CV] ..... n_neighbors=9, weights=distance, score=0.731, total=   0.0s\n",
            "[CV] n_neighbors=9, weights=distance .................................\n",
            "[CV] ..... n_neighbors=9, weights=distance, score=0.739, total=   0.0s\n",
            "[CV] n_neighbors=9, weights=distance .................................\n",
            "[CV] ..... n_neighbors=9, weights=distance, score=0.731, total=   0.0s\n",
            "[CV] n_neighbors=9, weights=distance .................................\n",
            "[CV] ..... n_neighbors=9, weights=distance, score=0.697, total=   0.0s\n",
            "[CV] n_neighbors=9, weights=distance .................................\n",
            "[CV] ..... n_neighbors=9, weights=distance, score=0.703, total=   0.0s\n",
            "[CV] n_neighbors=10, weights=uniform .................................\n",
            "[CV] ..... n_neighbors=10, weights=uniform, score=0.731, total=   0.0s\n",
            "[CV] n_neighbors=10, weights=uniform .................................\n",
            "[CV] ..... n_neighbors=10, weights=uniform, score=0.731, total=   0.0s\n",
            "[CV] n_neighbors=10, weights=uniform .................................\n",
            "[CV] ..... n_neighbors=10, weights=uniform, score=0.756, total=   0.0s\n",
            "[CV] n_neighbors=10, weights=uniform .................................\n",
            "[CV] ..... n_neighbors=10, weights=uniform, score=0.773, total=   0.0s\n",
            "[CV] n_neighbors=10, weights=uniform .................................\n",
            "[CV] ..... n_neighbors=10, weights=uniform, score=0.703, total=   0.0s\n",
            "[CV] n_neighbors=10, weights=distance ................................\n",
            "[CV] .... n_neighbors=10, weights=distance, score=0.739, total=   0.0s\n",
            "[CV] n_neighbors=10, weights=distance ................................\n",
            "[CV] .... n_neighbors=10, weights=distance, score=0.748, total=   0.0s\n",
            "[CV] n_neighbors=10, weights=distance ................................\n",
            "[CV] .... n_neighbors=10, weights=distance, score=0.756, total=   0.0s\n",
            "[CV] n_neighbors=10, weights=distance ................................\n",
            "[CV] .... n_neighbors=10, weights=distance, score=0.706, total=   0.0s\n",
            "[CV] n_neighbors=10, weights=distance ................................\n",
            "[CV] .... n_neighbors=10, weights=distance, score=0.678, total=   0.0s\n",
            "Fitting 5 folds for each of 20 candidates, totalling 100 fits\n",
            "[CV] n_neighbors=1, weights=uniform ..................................\n",
            "[CV] ...... n_neighbors=1, weights=uniform, score=0.647, total=   0.0s\n",
            "[CV] n_neighbors=1, weights=uniform ..................................\n",
            "[CV] ...... n_neighbors=1, weights=uniform, score=0.655, total=   0.0s\n",
            "[CV] n_neighbors=1, weights=uniform ..................................\n",
            "[CV] ...... n_neighbors=1, weights=uniform, score=0.681, total=   0.0s\n",
            "[CV] n_neighbors=1, weights=uniform ..................................\n",
            "[CV] ...... n_neighbors=1, weights=uniform, score=0.681, total=   0.0s\n",
            "[CV] n_neighbors=1, weights=uniform ..................................\n",
            "[CV] ...... n_neighbors=1, weights=uniform, score=0.737, total=   0.0s\n",
            "[CV] n_neighbors=1, weights=distance .................................\n",
            "[CV] ..... n_neighbors=1, weights=distance, score=0.647, total=   0.0s\n",
            "[CV] n_neighbors=1, weights=distance .................................\n",
            "[CV] ..... n_neighbors=1, weights=distance, score=0.655, total=   0.0s\n",
            "[CV] n_neighbors=1, weights=distance .................................\n"
          ],
          "name": "stdout"
        },
        {
          "output_type": "stream",
          "text": [
            "[Parallel(n_jobs=1)]: Done 100 out of 100 | elapsed:    0.6s finished\n",
            "[Parallel(n_jobs=1)]: Using backend SequentialBackend with 1 concurrent workers.\n",
            "[Parallel(n_jobs=1)]: Done   1 out of   1 | elapsed:    0.0s remaining:    0.0s\n",
            "[Parallel(n_jobs=1)]: Done   2 out of   2 | elapsed:    0.0s remaining:    0.0s\n"
          ],
          "name": "stderr"
        },
        {
          "output_type": "stream",
          "text": [
            "[CV] ..... n_neighbors=1, weights=distance, score=0.681, total=   0.0s\n",
            "[CV] n_neighbors=1, weights=distance .................................\n",
            "[CV] ..... n_neighbors=1, weights=distance, score=0.681, total=   0.0s\n",
            "[CV] n_neighbors=1, weights=distance .................................\n",
            "[CV] ..... n_neighbors=1, weights=distance, score=0.737, total=   0.0s\n",
            "[CV] n_neighbors=2, weights=uniform ..................................\n",
            "[CV] ...... n_neighbors=2, weights=uniform, score=0.613, total=   0.0s\n",
            "[CV] n_neighbors=2, weights=uniform ..................................\n",
            "[CV] ...... n_neighbors=2, weights=uniform, score=0.630, total=   0.0s\n",
            "[CV] n_neighbors=2, weights=uniform ..................................\n",
            "[CV] ...... n_neighbors=2, weights=uniform, score=0.672, total=   0.0s\n",
            "[CV] n_neighbors=2, weights=uniform ..................................\n",
            "[CV] ...... n_neighbors=2, weights=uniform, score=0.672, total=   0.0s\n",
            "[CV] n_neighbors=2, weights=uniform ..................................\n",
            "[CV] ...... n_neighbors=2, weights=uniform, score=0.678, total=   0.0s\n",
            "[CV] n_neighbors=2, weights=distance .................................\n",
            "[CV] ..... n_neighbors=2, weights=distance, score=0.647, total=   0.0s\n",
            "[CV] n_neighbors=2, weights=distance .................................\n",
            "[CV] ..... n_neighbors=2, weights=distance, score=0.655, total=   0.0s\n",
            "[CV] n_neighbors=2, weights=distance .................................\n",
            "[CV] ..... n_neighbors=2, weights=distance, score=0.681, total=   0.0s\n",
            "[CV] n_neighbors=2, weights=distance .................................\n",
            "[CV] ..... n_neighbors=2, weights=distance, score=0.689, total=   0.0s\n",
            "[CV] n_neighbors=2, weights=distance .................................\n",
            "[CV] ..... n_neighbors=2, weights=distance, score=0.746, total=   0.0s\n",
            "[CV] n_neighbors=3, weights=uniform ..................................\n",
            "[CV] ...... n_neighbors=3, weights=uniform, score=0.647, total=   0.0s\n",
            "[CV] n_neighbors=3, weights=uniform ..................................\n",
            "[CV] ...... n_neighbors=3, weights=uniform, score=0.630, total=   0.0s\n",
            "[CV] n_neighbors=3, weights=uniform ..................................\n",
            "[CV] ...... n_neighbors=3, weights=uniform, score=0.672, total=   0.0s\n",
            "[CV] n_neighbors=3, weights=uniform ..................................\n",
            "[CV] ...... n_neighbors=3, weights=uniform, score=0.672, total=   0.0s\n",
            "[CV] n_neighbors=3, weights=uniform ..................................\n",
            "[CV] ...... n_neighbors=3, weights=uniform, score=0.720, total=   0.0s\n",
            "[CV] n_neighbors=3, weights=distance .................................\n",
            "[CV] ..... n_neighbors=3, weights=distance, score=0.639, total=   0.0s\n",
            "[CV] n_neighbors=3, weights=distance .................................\n",
            "[CV] ..... n_neighbors=3, weights=distance, score=0.639, total=   0.0s\n",
            "[CV] n_neighbors=3, weights=distance .................................\n",
            "[CV] ..... n_neighbors=3, weights=distance, score=0.681, total=   0.0s\n",
            "[CV] n_neighbors=3, weights=distance .................................\n",
            "[CV] ..... n_neighbors=3, weights=distance, score=0.664, total=   0.0s\n",
            "[CV] n_neighbors=3, weights=distance .................................\n",
            "[CV] ..... n_neighbors=3, weights=distance, score=0.720, total=   0.0s\n",
            "[CV] n_neighbors=4, weights=uniform ..................................\n",
            "[CV] ...... n_neighbors=4, weights=uniform, score=0.622, total=   0.0s\n",
            "[CV] n_neighbors=4, weights=uniform ..................................\n",
            "[CV] ...... n_neighbors=4, weights=uniform, score=0.639, total=   0.0s\n",
            "[CV] n_neighbors=4, weights=uniform ..................................\n",
            "[CV] ...... n_neighbors=4, weights=uniform, score=0.681, total=   0.0s\n",
            "[CV] n_neighbors=4, weights=uniform ..................................\n",
            "[CV] ...... n_neighbors=4, weights=uniform, score=0.655, total=   0.0s\n",
            "[CV] n_neighbors=4, weights=uniform ..................................\n",
            "[CV] ...... n_neighbors=4, weights=uniform, score=0.712, total=   0.0s\n",
            "[CV] n_neighbors=4, weights=distance .................................\n",
            "[CV] ..... n_neighbors=4, weights=distance, score=0.647, total=   0.0s\n",
            "[CV] n_neighbors=4, weights=distance .................................\n",
            "[CV] ..... n_neighbors=4, weights=distance, score=0.639, total=   0.0s\n",
            "[CV] n_neighbors=4, weights=distance .................................\n",
            "[CV] ..... n_neighbors=4, weights=distance, score=0.655, total=   0.0s\n",
            "[CV] n_neighbors=4, weights=distance .................................\n",
            "[CV] ..... n_neighbors=4, weights=distance, score=0.714, total=   0.0s\n",
            "[CV] n_neighbors=4, weights=distance .................................\n",
            "[CV] ..... n_neighbors=4, weights=distance, score=0.737, total=   0.0s\n",
            "[CV] n_neighbors=5, weights=uniform ..................................\n",
            "[CV] ...... n_neighbors=5, weights=uniform, score=0.647, total=   0.0s\n",
            "[CV] n_neighbors=5, weights=uniform ..................................\n",
            "[CV] ...... n_neighbors=5, weights=uniform, score=0.630, total=   0.0s\n",
            "[CV] n_neighbors=5, weights=uniform ..................................\n",
            "[CV] ...... n_neighbors=5, weights=uniform, score=0.697, total=   0.0s\n",
            "[CV] n_neighbors=5, weights=uniform ..................................\n",
            "[CV] ...... n_neighbors=5, weights=uniform, score=0.731, total=   0.0s\n",
            "[CV] n_neighbors=5, weights=uniform ..................................\n",
            "[CV] ...... n_neighbors=5, weights=uniform, score=0.763, total=   0.0s\n",
            "[CV] n_neighbors=5, weights=distance .................................\n",
            "[CV] ..... n_neighbors=5, weights=distance, score=0.605, total=   0.0s\n",
            "[CV] n_neighbors=5, weights=distance .................................\n",
            "[CV] ..... n_neighbors=5, weights=distance, score=0.655, total=   0.0s\n",
            "[CV] n_neighbors=5, weights=distance .................................\n",
            "[CV] ..... n_neighbors=5, weights=distance, score=0.681, total=   0.0s\n",
            "[CV] n_neighbors=5, weights=distance .................................\n",
            "[CV] ..... n_neighbors=5, weights=distance, score=0.714, total=   0.0s\n",
            "[CV] n_neighbors=5, weights=distance .................................\n",
            "[CV] ..... n_neighbors=5, weights=distance, score=0.737, total=   0.0s\n",
            "[CV] n_neighbors=6, weights=uniform ..................................\n",
            "[CV] ...... n_neighbors=6, weights=uniform, score=0.613, total=   0.0s\n",
            "[CV] n_neighbors=6, weights=uniform ..................................\n",
            "[CV] ...... n_neighbors=6, weights=uniform, score=0.630, total=   0.0s\n",
            "[CV] n_neighbors=6, weights=uniform ..................................\n",
            "[CV] ...... n_neighbors=6, weights=uniform, score=0.697, total=   0.0s\n",
            "[CV] n_neighbors=6, weights=uniform ..................................\n",
            "[CV] ...... n_neighbors=6, weights=uniform, score=0.706, total=   0.0s\n",
            "[CV] n_neighbors=6, weights=uniform ..................................\n",
            "[CV] ...... n_neighbors=6, weights=uniform, score=0.720, total=   0.0s\n",
            "[CV] n_neighbors=6, weights=distance .................................\n",
            "[CV] ..... n_neighbors=6, weights=distance, score=0.647, total=   0.0s\n",
            "[CV] n_neighbors=6, weights=distance .................................\n",
            "[CV] ..... n_neighbors=6, weights=distance, score=0.655, total=   0.0s\n",
            "[CV] n_neighbors=6, weights=distance .................................\n",
            "[CV] ..... n_neighbors=6, weights=distance, score=0.689, total=   0.0s\n",
            "[CV] n_neighbors=6, weights=distance .................................\n",
            "[CV] ..... n_neighbors=6, weights=distance, score=0.697, total=   0.0s\n",
            "[CV] n_neighbors=6, weights=distance .................................\n",
            "[CV] ..... n_neighbors=6, weights=distance, score=0.746, total=   0.0s\n",
            "[CV] n_neighbors=7, weights=uniform ..................................\n",
            "[CV] ...... n_neighbors=7, weights=uniform, score=0.597, total=   0.0s\n",
            "[CV] n_neighbors=7, weights=uniform ..................................\n",
            "[CV] ...... n_neighbors=7, weights=uniform, score=0.605, total=   0.0s\n",
            "[CV] n_neighbors=7, weights=uniform ..................................\n",
            "[CV] ...... n_neighbors=7, weights=uniform, score=0.689, total=   0.0s\n",
            "[CV] n_neighbors=7, weights=uniform ..................................\n",
            "[CV] ...... n_neighbors=7, weights=uniform, score=0.714, total=   0.0s\n",
            "[CV] n_neighbors=7, weights=uniform ..................................\n",
            "[CV] ...... n_neighbors=7, weights=uniform, score=0.737, total=   0.0s\n",
            "[CV] n_neighbors=7, weights=distance .................................\n",
            "[CV] ..... n_neighbors=7, weights=distance, score=0.597, total=   0.0s\n",
            "[CV] n_neighbors=7, weights=distance .................................\n",
            "[CV] ..... n_neighbors=7, weights=distance, score=0.639, total=   0.0s\n",
            "[CV] n_neighbors=7, weights=distance .................................\n",
            "[CV] ..... n_neighbors=7, weights=distance, score=0.681, total=   0.0s\n",
            "[CV] n_neighbors=7, weights=distance .................................\n",
            "[CV] ..... n_neighbors=7, weights=distance, score=0.697, total=   0.0s\n",
            "[CV] n_neighbors=7, weights=distance .................................\n",
            "[CV] ..... n_neighbors=7, weights=distance, score=0.754, total=   0.0s\n",
            "[CV] n_neighbors=8, weights=uniform ..................................\n",
            "[CV] ...... n_neighbors=8, weights=uniform, score=0.605, total=   0.0s\n",
            "[CV] n_neighbors=8, weights=uniform ..................................\n",
            "[CV] ...... n_neighbors=8, weights=uniform, score=0.597, total=   0.0s\n",
            "[CV] n_neighbors=8, weights=uniform ..................................\n",
            "[CV] ...... n_neighbors=8, weights=uniform, score=0.655, total=   0.0s\n",
            "[CV] n_neighbors=8, weights=uniform ..................................\n",
            "[CV] ...... n_neighbors=8, weights=uniform, score=0.706, total=   0.0s\n",
            "[CV] n_neighbors=8, weights=uniform ..................................\n",
            "[CV] ...... n_neighbors=8, weights=uniform, score=0.746, total=   0.0s\n",
            "[CV] n_neighbors=8, weights=distance .................................\n",
            "[CV] ..... n_neighbors=8, weights=distance, score=0.639, total=   0.0s\n",
            "[CV] n_neighbors=8, weights=distance .................................\n",
            "[CV] ..... n_neighbors=8, weights=distance, score=0.639, total=   0.0s\n",
            "[CV] n_neighbors=8, weights=distance .................................\n",
            "[CV] ..... n_neighbors=8, weights=distance, score=0.681, total=   0.0s\n",
            "[CV] n_neighbors=8, weights=distance .................................\n",
            "[CV] ..... n_neighbors=8, weights=distance, score=0.697, total=   0.0s\n",
            "[CV] n_neighbors=8, weights=distance .................................\n",
            "[CV] ..... n_neighbors=8, weights=distance, score=0.729, total=   0.0s\n",
            "[CV] n_neighbors=9, weights=uniform ..................................\n",
            "[CV] ...... n_neighbors=9, weights=uniform, score=0.630, total=   0.0s\n",
            "[CV] n_neighbors=9, weights=uniform ..................................\n",
            "[CV] ...... n_neighbors=9, weights=uniform, score=0.605, total=   0.0s\n",
            "[CV] n_neighbors=9, weights=uniform ..................................\n",
            "[CV] ...... n_neighbors=9, weights=uniform, score=0.655, total=   0.0s\n",
            "[CV] n_neighbors=9, weights=uniform ..................................\n",
            "[CV] ...... n_neighbors=9, weights=uniform, score=0.723, total=   0.0s\n",
            "[CV] n_neighbors=9, weights=uniform ..................................\n",
            "[CV] ...... n_neighbors=9, weights=uniform, score=0.737, total=   0.0s\n",
            "[CV] n_neighbors=9, weights=distance .................................\n",
            "[CV] ..... n_neighbors=9, weights=distance, score=0.622, total=   0.0s\n",
            "[CV] n_neighbors=9, weights=distance .................................\n",
            "[CV] ..... n_neighbors=9, weights=distance, score=0.647, total=   0.0s\n",
            "[CV] n_neighbors=9, weights=distance .................................\n",
            "[CV] ..... n_neighbors=9, weights=distance, score=0.664, total=   0.0s\n",
            "[CV] n_neighbors=9, weights=distance .................................\n",
            "[CV] ..... n_neighbors=9, weights=distance, score=0.689, total=   0.0s\n",
            "[CV] n_neighbors=9, weights=distance .................................\n",
            "[CV] ..... n_neighbors=9, weights=distance, score=0.737, total=   0.0s\n",
            "[CV] n_neighbors=10, weights=uniform .................................\n",
            "[CV] ..... n_neighbors=10, weights=uniform, score=0.613, total=   0.0s\n",
            "[CV] n_neighbors=10, weights=uniform .................................\n",
            "[CV] ..... n_neighbors=10, weights=uniform, score=0.613, total=   0.0s\n",
            "[CV] n_neighbors=10, weights=uniform .................................\n",
            "[CV] ..... n_neighbors=10, weights=uniform, score=0.647, total=   0.0s\n",
            "[CV] n_neighbors=10, weights=uniform .................................\n",
            "[CV] ..... n_neighbors=10, weights=uniform, score=0.731, total=   0.0s\n",
            "[CV] n_neighbors=10, weights=uniform .................................\n",
            "[CV] ..... n_neighbors=10, weights=uniform, score=0.729, total=   0.0s\n",
            "[CV] n_neighbors=10, weights=distance ................................\n",
            "[CV] .... n_neighbors=10, weights=distance, score=0.613, total=   0.0s\n",
            "[CV] n_neighbors=10, weights=distance ................................\n",
            "[CV] .... n_neighbors=10, weights=distance, score=0.630, total=   0.0s\n",
            "[CV] n_neighbors=10, weights=distance ................................\n",
            "[CV] .... n_neighbors=10, weights=distance, score=0.655, total=   0.0s\n",
            "[CV] n_neighbors=10, weights=distance ................................\n",
            "[CV] .... n_neighbors=10, weights=distance, score=0.706, total=   0.0s\n",
            "[CV] n_neighbors=10, weights=distance ................................\n",
            "[CV] .... n_neighbors=10, weights=distance, score=0.737, total=   0.0s\n",
            "Fitting 5 folds for each of 20 candidates, totalling 100 fits\n",
            "[CV] n_neighbors=1, weights=uniform ..................................\n",
            "[CV] ...... n_neighbors=1, weights=uniform, score=0.647, total=   0.0s\n",
            "[CV] n_neighbors=1, weights=uniform ..................................\n",
            "[CV] ...... n_neighbors=1, weights=uniform, score=0.630, total=   0.0s\n",
            "[CV] n_neighbors=1, weights=uniform ..................................\n",
            "[CV] ...... n_neighbors=1, weights=uniform, score=0.664, total=   0.0s\n",
            "[CV] n_neighbors=1, weights=uniform ..................................\n",
            "[CV] ...... n_neighbors=1, weights=uniform, score=0.723, total=   0.0s\n",
            "[CV] n_neighbors=1, weights=uniform ..................................\n",
            "[CV] ...... n_neighbors=1, weights=uniform, score=0.686, total=   0.0s\n",
            "[CV] n_neighbors=1, weights=distance .................................\n",
            "[CV] ..... n_neighbors=1, weights=distance, score=0.647, total=   0.0s\n",
            "[CV] n_neighbors=1, weights=distance .................................\n",
            "[CV] ..... n_neighbors=1, weights=distance, score=0.630, total=   0.0s\n",
            "[CV] n_neighbors=1, weights=distance .................................\n",
            "[CV] ..... n_neighbors=1, weights=distance, score=0.664, total=   0.0s\n",
            "[CV] n_neighbors=1, weights=distance .................................\n",
            "[CV] ..... n_neighbors=1, weights=distance, score=0.723, total=   0.0s\n",
            "[CV] n_neighbors=1, weights=distance .................................\n",
            "[CV] ..... n_neighbors=1, weights=distance, score=0.686, total=   0.0s\n",
            "[CV] n_neighbors=2, weights=uniform ..................................\n",
            "[CV] ...... n_neighbors=2, weights=uniform, score=0.706, total=   0.0s\n",
            "[CV] n_neighbors=2, weights=uniform ..................................\n",
            "[CV] ...... n_neighbors=2, weights=uniform, score=0.681, total=   0.0s\n",
            "[CV] n_neighbors=2, weights=uniform ..................................\n",
            "[CV] ...... n_neighbors=2, weights=uniform, score=0.630, total=   0.0s\n",
            "[CV] n_neighbors=2, weights=uniform ..................................\n",
            "[CV] ...... n_neighbors=2, weights=uniform, score=0.681, total=   0.0s\n",
            "[CV] n_neighbors=2, weights=uniform ..................................\n",
            "[CV] ...... n_neighbors=2, weights=uniform, score=0.720, total=   0.0s\n",
            "[CV] n_neighbors=2, weights=distance .................................\n",
            "[CV] ..... n_neighbors=2, weights=distance, score=0.664, total=   0.0s\n",
            "[CV] n_neighbors=2, weights=distance .................................\n",
            "[CV] ..... n_neighbors=2, weights=distance, score=0.630, total=   0.0s\n",
            "[CV] n_neighbors=2, weights=distance .................................\n",
            "[CV] ..... n_neighbors=2, weights=distance, score=0.664, total=   0.0s\n",
            "[CV] n_neighbors=2, weights=distance .................................\n",
            "[CV] ..... n_neighbors=2, weights=distance, score=0.739, total=   0.0s\n",
            "[CV] n_neighbors=2, weights=distance .................................\n"
          ],
          "name": "stdout"
        },
        {
          "output_type": "stream",
          "text": [
            "[Parallel(n_jobs=1)]: Done 100 out of 100 | elapsed:    0.6s finished\n",
            "[Parallel(n_jobs=1)]: Using backend SequentialBackend with 1 concurrent workers.\n",
            "[Parallel(n_jobs=1)]: Done   1 out of   1 | elapsed:    0.0s remaining:    0.0s\n",
            "[Parallel(n_jobs=1)]: Done   2 out of   2 | elapsed:    0.0s remaining:    0.0s\n"
          ],
          "name": "stderr"
        },
        {
          "output_type": "stream",
          "text": [
            "[CV] ..... n_neighbors=2, weights=distance, score=0.695, total=   0.0s\n",
            "[CV] n_neighbors=3, weights=uniform ..................................\n",
            "[CV] ...... n_neighbors=3, weights=uniform, score=0.630, total=   0.0s\n",
            "[CV] n_neighbors=3, weights=uniform ..................................\n",
            "[CV] ...... n_neighbors=3, weights=uniform, score=0.655, total=   0.0s\n",
            "[CV] n_neighbors=3, weights=uniform ..................................\n",
            "[CV] ...... n_neighbors=3, weights=uniform, score=0.613, total=   0.0s\n",
            "[CV] n_neighbors=3, weights=uniform ..................................\n",
            "[CV] ...... n_neighbors=3, weights=uniform, score=0.630, total=   0.0s\n",
            "[CV] n_neighbors=3, weights=uniform ..................................\n",
            "[CV] ...... n_neighbors=3, weights=uniform, score=0.720, total=   0.0s\n",
            "[CV] n_neighbors=3, weights=distance .................................\n",
            "[CV] ..... n_neighbors=3, weights=distance, score=0.613, total=   0.0s\n",
            "[CV] n_neighbors=3, weights=distance .................................\n",
            "[CV] ..... n_neighbors=3, weights=distance, score=0.672, total=   0.0s\n",
            "[CV] n_neighbors=3, weights=distance .................................\n",
            "[CV] ..... n_neighbors=3, weights=distance, score=0.597, total=   0.0s\n",
            "[CV] n_neighbors=3, weights=distance .................................\n",
            "[CV] ..... n_neighbors=3, weights=distance, score=0.655, total=   0.0s\n",
            "[CV] n_neighbors=3, weights=distance .................................\n",
            "[CV] ..... n_neighbors=3, weights=distance, score=0.695, total=   0.0s\n",
            "[CV] n_neighbors=4, weights=uniform ..................................\n",
            "[CV] ...... n_neighbors=4, weights=uniform, score=0.647, total=   0.0s\n",
            "[CV] n_neighbors=4, weights=uniform ..................................\n",
            "[CV] ...... n_neighbors=4, weights=uniform, score=0.681, total=   0.0s\n",
            "[CV] n_neighbors=4, weights=uniform ..................................\n",
            "[CV] ...... n_neighbors=4, weights=uniform, score=0.639, total=   0.0s\n",
            "[CV] n_neighbors=4, weights=uniform ..................................\n",
            "[CV] ...... n_neighbors=4, weights=uniform, score=0.622, total=   0.0s\n",
            "[CV] n_neighbors=4, weights=uniform ..................................\n",
            "[CV] ...... n_neighbors=4, weights=uniform, score=0.712, total=   0.0s\n",
            "[CV] n_neighbors=4, weights=distance .................................\n",
            "[CV] ..... n_neighbors=4, weights=distance, score=0.622, total=   0.0s\n",
            "[CV] n_neighbors=4, weights=distance .................................\n",
            "[CV] ..... n_neighbors=4, weights=distance, score=0.647, total=   0.0s\n",
            "[CV] n_neighbors=4, weights=distance .................................\n",
            "[CV] ..... n_neighbors=4, weights=distance, score=0.605, total=   0.0s\n",
            "[CV] n_neighbors=4, weights=distance .................................\n",
            "[CV] ..... n_neighbors=4, weights=distance, score=0.681, total=   0.0s\n",
            "[CV] n_neighbors=4, weights=distance .................................\n",
            "[CV] ..... n_neighbors=4, weights=distance, score=0.695, total=   0.0s\n",
            "[CV] n_neighbors=5, weights=uniform ..................................\n",
            "[CV] ...... n_neighbors=5, weights=uniform, score=0.605, total=   0.0s\n",
            "[CV] n_neighbors=5, weights=uniform ..................................\n",
            "[CV] ...... n_neighbors=5, weights=uniform, score=0.622, total=   0.0s\n",
            "[CV] n_neighbors=5, weights=uniform ..................................\n",
            "[CV] ...... n_neighbors=5, weights=uniform, score=0.630, total=   0.0s\n",
            "[CV] n_neighbors=5, weights=uniform ..................................\n",
            "[CV] ...... n_neighbors=5, weights=uniform, score=0.647, total=   0.0s\n",
            "[CV] n_neighbors=5, weights=uniform ..................................\n",
            "[CV] ...... n_neighbors=5, weights=uniform, score=0.686, total=   0.0s\n",
            "[CV] n_neighbors=5, weights=distance .................................\n",
            "[CV] ..... n_neighbors=5, weights=distance, score=0.613, total=   0.0s\n",
            "[CV] n_neighbors=5, weights=distance .................................\n",
            "[CV] ..... n_neighbors=5, weights=distance, score=0.672, total=   0.0s\n",
            "[CV] n_neighbors=5, weights=distance .................................\n",
            "[CV] ..... n_neighbors=5, weights=distance, score=0.630, total=   0.0s\n",
            "[CV] n_neighbors=5, weights=distance .................................\n",
            "[CV] ..... n_neighbors=5, weights=distance, score=0.681, total=   0.0s\n",
            "[CV] n_neighbors=5, weights=distance .................................\n",
            "[CV] ..... n_neighbors=5, weights=distance, score=0.669, total=   0.0s\n",
            "[CV] n_neighbors=6, weights=uniform ..................................\n",
            "[CV] ...... n_neighbors=6, weights=uniform, score=0.605, total=   0.0s\n",
            "[CV] n_neighbors=6, weights=uniform ..................................\n",
            "[CV] ...... n_neighbors=6, weights=uniform, score=0.681, total=   0.0s\n",
            "[CV] n_neighbors=6, weights=uniform ..................................\n",
            "[CV] ...... n_neighbors=6, weights=uniform, score=0.639, total=   0.0s\n",
            "[CV] n_neighbors=6, weights=uniform ..................................\n",
            "[CV] ...... n_neighbors=6, weights=uniform, score=0.655, total=   0.0s\n",
            "[CV] n_neighbors=6, weights=uniform ..................................\n",
            "[CV] ...... n_neighbors=6, weights=uniform, score=0.695, total=   0.0s\n",
            "[CV] n_neighbors=6, weights=distance .................................\n",
            "[CV] ..... n_neighbors=6, weights=distance, score=0.597, total=   0.0s\n",
            "[CV] n_neighbors=6, weights=distance .................................\n",
            "[CV] ..... n_neighbors=6, weights=distance, score=0.664, total=   0.0s\n",
            "[CV] n_neighbors=6, weights=distance .................................\n",
            "[CV] ..... n_neighbors=6, weights=distance, score=0.630, total=   0.0s\n",
            "[CV] n_neighbors=6, weights=distance .................................\n",
            "[CV] ..... n_neighbors=6, weights=distance, score=0.723, total=   0.0s\n",
            "[CV] n_neighbors=6, weights=distance .................................\n",
            "[CV] ..... n_neighbors=6, weights=distance, score=0.686, total=   0.0s\n",
            "[CV] n_neighbors=7, weights=uniform ..................................\n",
            "[CV] ...... n_neighbors=7, weights=uniform, score=0.605, total=   0.0s\n",
            "[CV] n_neighbors=7, weights=uniform ..................................\n",
            "[CV] ...... n_neighbors=7, weights=uniform, score=0.622, total=   0.0s\n",
            "[CV] n_neighbors=7, weights=uniform ..................................\n",
            "[CV] ...... n_neighbors=7, weights=uniform, score=0.647, total=   0.0s\n",
            "[CV] n_neighbors=7, weights=uniform ..................................\n",
            "[CV] ...... n_neighbors=7, weights=uniform, score=0.630, total=   0.0s\n",
            "[CV] n_neighbors=7, weights=uniform ..................................\n",
            "[CV] ...... n_neighbors=7, weights=uniform, score=0.712, total=   0.0s\n",
            "[CV] n_neighbors=7, weights=distance .................................\n",
            "[CV] ..... n_neighbors=7, weights=distance, score=0.630, total=   0.0s\n",
            "[CV] n_neighbors=7, weights=distance .................................\n",
            "[CV] ..... n_neighbors=7, weights=distance, score=0.681, total=   0.0s\n",
            "[CV] n_neighbors=7, weights=distance .................................\n",
            "[CV] ..... n_neighbors=7, weights=distance, score=0.664, total=   0.0s\n",
            "[CV] n_neighbors=7, weights=distance .................................\n",
            "[CV] ..... n_neighbors=7, weights=distance, score=0.706, total=   0.0s\n",
            "[CV] n_neighbors=7, weights=distance .................................\n",
            "[CV] ..... n_neighbors=7, weights=distance, score=0.686, total=   0.0s\n",
            "[CV] n_neighbors=8, weights=uniform ..................................\n",
            "[CV] ...... n_neighbors=8, weights=uniform, score=0.597, total=   0.0s\n",
            "[CV] n_neighbors=8, weights=uniform ..................................\n",
            "[CV] ...... n_neighbors=8, weights=uniform, score=0.613, total=   0.0s\n",
            "[CV] n_neighbors=8, weights=uniform ..................................\n",
            "[CV] ...... n_neighbors=8, weights=uniform, score=0.664, total=   0.0s\n",
            "[CV] n_neighbors=8, weights=uniform ..................................\n",
            "[CV] ...... n_neighbors=8, weights=uniform, score=0.639, total=   0.0s\n",
            "[CV] n_neighbors=8, weights=uniform ..................................\n",
            "[CV] ...... n_neighbors=8, weights=uniform, score=0.703, total=   0.0s\n",
            "[CV] n_neighbors=8, weights=distance .................................\n",
            "[CV] ..... n_neighbors=8, weights=distance, score=0.630, total=   0.0s\n",
            "[CV] n_neighbors=8, weights=distance .................................\n",
            "[CV] ..... n_neighbors=8, weights=distance, score=0.664, total=   0.0s\n",
            "[CV] n_neighbors=8, weights=distance .................................\n",
            "[CV] ..... n_neighbors=8, weights=distance, score=0.639, total=   0.0s\n",
            "[CV] n_neighbors=8, weights=distance .................................\n",
            "[CV] ..... n_neighbors=8, weights=distance, score=0.706, total=   0.0s\n",
            "[CV] n_neighbors=8, weights=distance .................................\n",
            "[CV] ..... n_neighbors=8, weights=distance, score=0.695, total=   0.0s\n",
            "[CV] n_neighbors=9, weights=uniform ..................................\n",
            "[CV] ...... n_neighbors=9, weights=uniform, score=0.563, total=   0.0s\n",
            "[CV] n_neighbors=9, weights=uniform ..................................\n",
            "[CV] ...... n_neighbors=9, weights=uniform, score=0.597, total=   0.0s\n",
            "[CV] n_neighbors=9, weights=uniform ..................................\n",
            "[CV] ...... n_neighbors=9, weights=uniform, score=0.664, total=   0.0s\n",
            "[CV] n_neighbors=9, weights=uniform ..................................\n",
            "[CV] ...... n_neighbors=9, weights=uniform, score=0.655, total=   0.0s\n",
            "[CV] n_neighbors=9, weights=uniform ..................................\n",
            "[CV] ...... n_neighbors=9, weights=uniform, score=0.686, total=   0.0s\n",
            "[CV] n_neighbors=9, weights=distance .................................\n",
            "[CV] ..... n_neighbors=9, weights=distance, score=0.622, total=   0.0s\n",
            "[CV] n_neighbors=9, weights=distance .................................\n",
            "[CV] ..... n_neighbors=9, weights=distance, score=0.697, total=   0.0s\n",
            "[CV] n_neighbors=9, weights=distance .................................\n",
            "[CV] ..... n_neighbors=9, weights=distance, score=0.681, total=   0.0s\n",
            "[CV] n_neighbors=9, weights=distance .................................\n",
            "[CV] ..... n_neighbors=9, weights=distance, score=0.723, total=   0.0s\n",
            "[CV] n_neighbors=9, weights=distance .................................\n",
            "[CV] ..... n_neighbors=9, weights=distance, score=0.703, total=   0.0s\n",
            "[CV] n_neighbors=10, weights=uniform .................................\n",
            "[CV] ..... n_neighbors=10, weights=uniform, score=0.588, total=   0.0s\n",
            "[CV] n_neighbors=10, weights=uniform .................................\n",
            "[CV] ..... n_neighbors=10, weights=uniform, score=0.639, total=   0.0s\n",
            "[CV] n_neighbors=10, weights=uniform .................................\n",
            "[CV] ..... n_neighbors=10, weights=uniform, score=0.689, total=   0.0s\n",
            "[CV] n_neighbors=10, weights=uniform .................................\n",
            "[CV] ..... n_neighbors=10, weights=uniform, score=0.664, total=   0.0s\n",
            "[CV] n_neighbors=10, weights=uniform .................................\n",
            "[CV] ..... n_neighbors=10, weights=uniform, score=0.695, total=   0.0s\n",
            "[CV] n_neighbors=10, weights=distance ................................\n",
            "[CV] .... n_neighbors=10, weights=distance, score=0.639, total=   0.0s\n",
            "[CV] n_neighbors=10, weights=distance ................................\n",
            "[CV] .... n_neighbors=10, weights=distance, score=0.664, total=   0.0s\n",
            "[CV] n_neighbors=10, weights=distance ................................\n",
            "[CV] .... n_neighbors=10, weights=distance, score=0.689, total=   0.0s\n",
            "[CV] n_neighbors=10, weights=distance ................................\n",
            "[CV] .... n_neighbors=10, weights=distance, score=0.714, total=   0.0s\n",
            "[CV] n_neighbors=10, weights=distance ................................\n",
            "[CV] .... n_neighbors=10, weights=distance, score=0.678, total=   0.0s\n"
          ],
          "name": "stdout"
        },
        {
          "output_type": "stream",
          "text": [
            "[Parallel(n_jobs=1)]: Done 100 out of 100 | elapsed:    0.5s finished\n"
          ],
          "name": "stderr"
        }
      ]
    },
    {
      "cell_type": "markdown",
      "metadata": {
        "id": "RWT5bBo3Slie",
        "colab_type": "text"
      },
      "source": [
        "KNEIGHBORSEND"
      ]
    },
    {
      "cell_type": "code",
      "metadata": {
        "id": "MwQX-6tC_dep",
        "colab_type": "code",
        "colab": {
          "base_uri": "https://localhost:8080/",
          "height": 34
        },
        "outputId": "da9fd7f4-af9b-4963-b23b-4429159f7f29"
      },
      "source": [
        "from sklearn.linear_model import LinearRegression\n",
        "\n",
        "lin_reg = LinearRegression()\n",
        "lin_reg.fit(transformed_train, train_set_labels)"
      ],
      "execution_count": null,
      "outputs": [
        {
          "output_type": "execute_result",
          "data": {
            "text/plain": [
              "LinearRegression(copy_X=True, fit_intercept=True, n_jobs=None, normalize=False)"
            ]
          },
          "metadata": {
            "tags": []
          },
          "execution_count": 27
        }
      ]
    },
    {
      "cell_type": "code",
      "metadata": {
        "id": "-EFCt2ku_xub",
        "colab_type": "code",
        "colab": {}
      },
      "source": [
        "some_data=train_set_required.iloc[5:10]\n",
        "some_labels=train_set_labels.iloc[5:10]"
      ],
      "execution_count": null,
      "outputs": []
    },
    {
      "cell_type": "code",
      "metadata": {
        "id": "np1FIeCTC32X",
        "colab_type": "code",
        "colab": {
          "base_uri": "https://localhost:8080/",
          "height": 206
        },
        "outputId": "3669a432-b787-4634-c31c-ce06af2eabfa"
      },
      "source": [
        "some_data"
      ],
      "execution_count": null,
      "outputs": [
        {
          "output_type": "execute_result",
          "data": {
            "text/html": [
              "<div>\n",
              "<style scoped>\n",
              "    .dataframe tbody tr th:only-of-type {\n",
              "        vertical-align: middle;\n",
              "    }\n",
              "\n",
              "    .dataframe tbody tr th {\n",
              "        vertical-align: top;\n",
              "    }\n",
              "\n",
              "    .dataframe thead th {\n",
              "        text-align: right;\n",
              "    }\n",
              "</style>\n",
              "<table border=\"1\" class=\"dataframe\">\n",
              "  <thead>\n",
              "    <tr style=\"text-align: right;\">\n",
              "      <th></th>\n",
              "      <th>Pclass</th>\n",
              "      <th>Sex</th>\n",
              "      <th>Age</th>\n",
              "      <th>SibSp</th>\n",
              "      <th>Parch</th>\n",
              "      <th>Fare</th>\n",
              "      <th>Embarked</th>\n",
              "    </tr>\n",
              "  </thead>\n",
              "  <tbody>\n",
              "    <tr>\n",
              "      <th>5</th>\n",
              "      <td>3</td>\n",
              "      <td>male</td>\n",
              "      <td>54.0</td>\n",
              "      <td>0</td>\n",
              "      <td>0</td>\n",
              "      <td>8.4583</td>\n",
              "      <td>Q</td>\n",
              "    </tr>\n",
              "    <tr>\n",
              "      <th>6</th>\n",
              "      <td>1</td>\n",
              "      <td>male</td>\n",
              "      <td>54.0</td>\n",
              "      <td>0</td>\n",
              "      <td>0</td>\n",
              "      <td>51.8625</td>\n",
              "      <td>S</td>\n",
              "    </tr>\n",
              "    <tr>\n",
              "      <th>7</th>\n",
              "      <td>3</td>\n",
              "      <td>male</td>\n",
              "      <td>2.0</td>\n",
              "      <td>3</td>\n",
              "      <td>1</td>\n",
              "      <td>21.0750</td>\n",
              "      <td>S</td>\n",
              "    </tr>\n",
              "    <tr>\n",
              "      <th>8</th>\n",
              "      <td>3</td>\n",
              "      <td>female</td>\n",
              "      <td>27.0</td>\n",
              "      <td>0</td>\n",
              "      <td>2</td>\n",
              "      <td>11.1333</td>\n",
              "      <td>S</td>\n",
              "    </tr>\n",
              "    <tr>\n",
              "      <th>9</th>\n",
              "      <td>2</td>\n",
              "      <td>female</td>\n",
              "      <td>14.0</td>\n",
              "      <td>1</td>\n",
              "      <td>0</td>\n",
              "      <td>30.0708</td>\n",
              "      <td>C</td>\n",
              "    </tr>\n",
              "  </tbody>\n",
              "</table>\n",
              "</div>"
            ],
            "text/plain": [
              "   Pclass     Sex   Age  SibSp  Parch     Fare Embarked\n",
              "5       3    male  54.0      0      0   8.4583        Q\n",
              "6       1    male  54.0      0      0  51.8625        S\n",
              "7       3    male   2.0      3      1  21.0750        S\n",
              "8       3  female  27.0      0      2  11.1333        S\n",
              "9       2  female  14.0      1      0  30.0708        C"
            ]
          },
          "metadata": {
            "tags": []
          },
          "execution_count": 29
        }
      ]
    },
    {
      "cell_type": "code",
      "metadata": {
        "id": "58U2tjTa_9Yn",
        "colab_type": "code",
        "colab": {
          "base_uri": "https://localhost:8080/",
          "height": 121
        },
        "outputId": "0f1ffee1-0504-4cea-e4de-ff1c30d380f4"
      },
      "source": [
        "some_labels"
      ],
      "execution_count": null,
      "outputs": [
        {
          "output_type": "execute_result",
          "data": {
            "text/plain": [
              "5    0\n",
              "6    0\n",
              "7    0\n",
              "8    1\n",
              "9    1\n",
              "Name: Survived, dtype: int64"
            ]
          },
          "metadata": {
            "tags": []
          },
          "execution_count": 30
        }
      ]
    },
    {
      "cell_type": "code",
      "metadata": {
        "id": "BtPeDBsHMxTw",
        "colab_type": "code",
        "colab": {}
      },
      "source": [
        "some_data_prepared=full_pipeline.fit_transform(some_data)"
      ],
      "execution_count": null,
      "outputs": []
    },
    {
      "cell_type": "code",
      "metadata": {
        "id": "ZneuxGAPMgJj",
        "colab_type": "code",
        "colab": {}
      },
      "source": [
        "linear_predictions=lin_reg.predict(some_data_prepared)"
      ],
      "execution_count": null,
      "outputs": []
    },
    {
      "cell_type": "code",
      "metadata": {
        "id": "V21BCSWZMlEr",
        "colab_type": "code",
        "colab": {
          "base_uri": "https://localhost:8080/",
          "height": 34
        },
        "outputId": "869cf634-c26c-4e3b-eee6-ca8a8b044222"
      },
      "source": [
        "linear_predictions"
      ],
      "execution_count": null,
      "outputs": [
        {
          "output_type": "execute_result",
          "data": {
            "text/plain": [
              "array([0.04871618, 0.32480611, 0.08921362, 0.58459246, 0.86999887])"
            ]
          },
          "metadata": {
            "tags": []
          },
          "execution_count": 34
        }
      ]
    },
    {
      "cell_type": "code",
      "metadata": {
        "id": "nH6_K9jiM7Tw",
        "colab_type": "code",
        "colab": {
          "base_uri": "https://localhost:8080/",
          "height": 34
        },
        "outputId": "0ebaab75-0108-4562-a281-5032eb87963a"
      },
      "source": [
        "list(some_labels)"
      ],
      "execution_count": null,
      "outputs": [
        {
          "output_type": "execute_result",
          "data": {
            "text/plain": [
              "[0, 0, 0, 1, 1]"
            ]
          },
          "metadata": {
            "tags": []
          },
          "execution_count": 35
        }
      ]
    },
    {
      "cell_type": "code",
      "metadata": {
        "id": "g1Gx2uXjEqV5",
        "colab_type": "code",
        "colab": {}
      },
      "source": [
        "import numpy as np\n",
        "\n"
      ],
      "execution_count": null,
      "outputs": []
    },
    {
      "cell_type": "code",
      "metadata": {
        "id": "D1l1-CZkES_X",
        "colab_type": "code",
        "colab": {
          "base_uri": "https://localhost:8080/",
          "height": 34
        },
        "outputId": "389100c0-ced5-42a1-c33a-2534ee6b65cd"
      },
      "source": [
        "from sklearn.metrics import mean_squared_error\n",
        "predictions=lin_reg.predict(transformed_train)\n",
        "lin_mse=mean_squared_error(train_set_labels,predictions)\n",
        "lin_rmse=np.sqrt(lin_mse)\n",
        "lin_rmse"
      ],
      "execution_count": null,
      "outputs": [
        {
          "output_type": "execute_result",
          "data": {
            "text/plain": [
              "0.3787105673744327"
            ]
          },
          "metadata": {
            "tags": []
          },
          "execution_count": 37
        }
      ]
    },
    {
      "cell_type": "code",
      "metadata": {
        "id": "xiHaEf5eEs16",
        "colab_type": "code",
        "colab": {
          "base_uri": "https://localhost:8080/",
          "height": 34
        },
        "outputId": "c3e120b9-8855-4da5-e0d9-5b96ff245917"
      },
      "source": [
        "from sklearn.tree import DecisionTreeRegressor\n",
        "tree_reg=DecisionTreeRegressor()\n",
        "tree_reg.fit(transformed_train,train_set_labels)\n",
        "predictions=tree_reg.predict(transformed_train)\n",
        "lin_mse=mean_squared_error(train_set_labels,predictions)\n",
        "lin_rmse=np.sqrt(lin_mse)\n",
        "lin_rmse"
      ],
      "execution_count": null,
      "outputs": [
        {
          "output_type": "execute_result",
          "data": {
            "text/plain": [
              "0.08757445659016803"
            ]
          },
          "metadata": {
            "tags": []
          },
          "execution_count": 40
        }
      ]
    },
    {
      "cell_type": "code",
      "metadata": {
        "id": "N3TKo4VqNVZz",
        "colab_type": "code",
        "colab": {
          "base_uri": "https://localhost:8080/",
          "height": 34
        },
        "outputId": "11b2517b-6288-4efa-92b2-4958d4068978"
      },
      "source": [
        "from sklearn.ensemble import RandomForestClassifier\n",
        "forest_reg=RandomForestClassifier()\n",
        "forest_reg.fit(transformed_train,train_set_labels)\n",
        "forest_predictions=forest_reg.predict(transformed_train)\n",
        "forest_mse=mean_squared_error(train_set_labels,forest_predictions)\n",
        "forest_rmse=np.sqrt(forest_mse)\n",
        "forest_rmse"
      ],
      "execution_count": null,
      "outputs": [
        {
          "output_type": "execute_result",
          "data": {
            "text/plain": [
              "0.12079051255657977"
            ]
          },
          "metadata": {
            "tags": []
          },
          "execution_count": 78
        }
      ]
    },
    {
      "cell_type": "code",
      "metadata": {
        "id": "IgaaB3MJ4odf",
        "colab_type": "code",
        "colab": {
          "base_uri": "https://localhost:8080/",
          "height": 729
        },
        "outputId": "0ee4ec3f-09e6-479b-f9df-1ef24c6f6fc1"
      },
      "source": [
        "forest_predictions"
      ],
      "execution_count": null,
      "outputs": [
        {
          "output_type": "execute_result",
          "data": {
            "text/plain": [
              "array([0, 1, 1, 1, 0, 0, 0, 0, 1, 1, 1, 1, 0, 0, 0, 1, 0, 1, 0, 1, 0, 0,\n",
              "       1, 1, 0, 1, 0, 0, 1, 0, 0, 1, 1, 0, 0, 0, 1, 0, 0, 1, 0, 0, 0, 1,\n",
              "       1, 0, 0, 1, 0, 0, 0, 0, 1, 1, 0, 1, 1, 0, 1, 0, 0, 1, 0, 0, 0, 1,\n",
              "       1, 0, 1, 0, 0, 0, 0, 0, 1, 0, 0, 0, 1, 1, 0, 1, 1, 0, 1, 1, 0, 0,\n",
              "       1, 0, 0, 0, 0, 0, 0, 0, 0, 1, 1, 0, 0, 0, 0, 0, 0, 0, 1, 1, 0, 1,\n",
              "       0, 0, 0, 0, 0, 0, 0, 0, 0, 0, 0, 0, 0, 1, 0, 1, 0, 1, 1, 0, 0, 0,\n",
              "       0, 1, 0, 0, 1, 0, 0, 0, 0, 1, 1, 0, 0, 0, 1, 0, 0, 0, 0, 1, 0, 0,\n",
              "       0, 0, 1, 0, 0, 0, 0, 1, 0, 0, 0, 1, 1, 0, 0, 0, 0, 0, 1, 0, 0, 0,\n",
              "       0, 0, 0, 0, 0, 0, 0, 1, 1, 0, 1, 1, 0, 0, 1, 0, 1, 1, 1, 1, 0, 0,\n",
              "       1, 1, 0, 0, 0, 0, 0, 0, 0, 1, 1, 1, 0, 1, 0, 0, 0, 1, 1, 0, 1, 0,\n",
              "       0, 0, 0, 0, 1, 0, 0, 0, 0, 0, 1, 0, 0, 1, 0, 0, 0, 1, 0, 0, 0, 1,\n",
              "       0, 0, 0, 0, 0, 1, 1, 0, 0, 0, 0, 0, 0, 1, 1, 1, 1, 1, 0, 1, 0, 0,\n",
              "       0, 0, 0, 0, 1, 1, 0, 1, 1, 0, 1, 1, 0, 0, 0, 1, 0, 0, 0, 0, 0, 0,\n",
              "       1, 0, 0, 1, 1, 1, 0, 0, 0, 0, 0, 0, 1, 1, 1, 1, 0, 1, 0, 1, 1, 1,\n",
              "       0, 1, 1, 1, 0, 0, 0, 1, 1, 0, 1, 1, 0, 0, 1, 1, 0, 1, 0, 1, 1, 1,\n",
              "       1, 0, 0, 0, 1, 0, 0, 1, 1, 0, 1, 1, 0, 0, 0, 1, 1, 1, 1, 0, 0, 0,\n",
              "       0, 0, 0, 0, 1, 0, 1, 1, 0, 0, 0, 0, 0, 0, 1, 1, 1, 1, 1, 0, 0, 0,\n",
              "       0, 1, 1, 0, 0, 0, 1, 1, 0, 1, 0, 0, 0, 1, 0, 1, 1, 1, 0, 1, 1, 0,\n",
              "       0, 0, 0, 1, 1, 0, 0, 0, 0, 0, 0, 1, 0, 0, 0, 0, 1, 0, 1, 0, 1, 1,\n",
              "       0, 0, 0, 0, 0, 0, 0, 0, 1, 1, 0, 0, 1, 1, 1, 0, 0, 1, 0, 1, 0, 0,\n",
              "       1, 0, 0, 1, 1, 1, 1, 1, 1, 1, 0, 0, 0, 1, 0, 1, 0, 1, 1, 0, 1, 0,\n",
              "       0, 0, 0, 0, 0, 0, 0, 1, 0, 0, 1, 1, 0, 0, 0, 0, 0, 1, 0, 0, 0, 1,\n",
              "       1, 0, 1, 0, 0, 1, 0, 0, 0, 0, 0, 0, 1, 0, 0, 0, 0, 0, 0, 0, 1, 0,\n",
              "       1, 1, 0, 1, 1, 0, 1, 1, 0, 0, 1, 0, 1, 0, 1, 0, 0, 1, 0, 0, 1, 0,\n",
              "       1, 0, 1, 0, 0, 1, 0, 1, 1, 1, 0, 1, 1, 0, 0, 1, 0, 0, 1, 1, 0, 1,\n",
              "       1, 0, 0, 1, 1, 0, 1, 0, 1, 1, 0, 0, 0, 0, 0, 0, 0, 0, 0, 1, 1, 1,\n",
              "       1, 1, 0, 0, 1, 1, 0, 0, 1, 1, 0, 0, 0, 1, 0, 1, 0, 0, 0, 1, 0, 0,\n",
              "       0, 0, 1, 0, 0, 1, 1, 0, 0, 0, 1, 0, 0, 1, 1, 1, 0, 0, 1, 0, 0, 1,\n",
              "       0, 0, 1, 0, 0, 1, 1, 0, 0, 0, 0, 1, 0, 0, 1, 0, 1, 0, 0, 1, 0, 0,\n",
              "       0, 0, 0, 1, 0, 1, 1, 1, 0, 1, 0, 1, 0, 1, 0, 1, 0, 0, 0, 0, 0, 0,\n",
              "       1, 0, 0, 0, 1, 0, 0, 0, 0, 1, 1, 0, 0, 1, 0, 0, 0, 1, 0, 1, 0, 1,\n",
              "       0, 0, 0, 0, 0, 0, 0, 1, 1, 1, 1, 0, 0, 0, 0, 1, 0, 0, 1, 1, 0, 0,\n",
              "       0, 0, 1, 1, 1, 1, 1, 1, 1, 0, 0, 0, 1, 1, 0, 0, 1, 0, 0, 0, 1, 0,\n",
              "       1, 1, 0, 0, 1, 0, 0, 0, 0, 0, 0, 1, 0, 0, 1, 0, 1, 0, 1, 0, 0, 1,\n",
              "       0, 0, 1, 1, 0, 0, 1, 1, 0, 0, 0, 1, 0, 0, 1, 1, 0, 1, 0, 0, 0, 0,\n",
              "       0, 0, 0, 0, 1, 0, 0, 1, 0, 1, 1, 1, 0, 0, 0, 0, 1, 0, 1, 0, 0, 0,\n",
              "       0, 0, 0, 0, 1, 1, 0, 0, 0, 1, 1, 1, 1, 0, 0, 0, 0, 1, 0, 0, 0, 0,\n",
              "       0, 0, 0, 0, 0, 0, 1, 1, 0, 1, 0, 0, 0, 1, 1, 1, 1, 1, 0, 0, 0, 1,\n",
              "       0, 0, 1, 1, 0, 0, 1, 0, 0, 0, 0, 0, 0, 1, 0, 0, 0, 1, 0, 1, 1, 1,\n",
              "       1, 0, 0, 0, 1, 0, 0, 1, 1, 0, 0, 1, 0, 1, 0, 0, 1, 1, 0, 0, 0, 1,\n",
              "       1, 0, 0, 0, 0, 0, 0, 1, 0, 1, 0])"
            ]
          },
          "metadata": {
            "tags": []
          },
          "execution_count": 79
        }
      ]
    },
    {
      "cell_type": "code",
      "metadata": {
        "id": "8TedwHUElX9I",
        "colab_type": "code",
        "colab": {}
      },
      "source": [
        "from scipy.stats import uniform, truncnorm, randint\n",
        "from sklearn.model_selection import RandomizedSearchCV\n",
        "model_params = {\n",
        "    # randomly sample numbers from 4 to 204 estimators\n",
        "    'n_estimators': randint(4,200),\n",
        "    # normally distributed max_features, with mean .25 stddev 0.1, bounded between 0 and 1\n",
        "    'max_features': truncnorm(a=0, b=1, loc=0.25, scale=0.1),\n",
        "    # uniform distribution from 0.01 to 0.2 (0.01 + 0.199)\n",
        "    'min_samples_split': uniform(0.01, 0.199)\n",
        "}\n",
        "\n",
        "randomsearch=RandomizedSearchCV(forest_reg,param_distributions=model_params,n_iter=50,cv=5,scoring='neg_mean_squared_error',return_train_score=True)"
      ],
      "execution_count": null,
      "outputs": []
    },
    {
      "cell_type": "code",
      "metadata": {
        "id": "c06bTLjRmY9K",
        "colab_type": "code",
        "colab": {
          "base_uri": "https://localhost:8080/",
          "height": 402
        },
        "outputId": "968ef4da-0ee4-4984-e710-e1e8bb35c3cc"
      },
      "source": [
        "randomsearch.fit(transformed_train,train_set_labels)"
      ],
      "execution_count": null,
      "outputs": [
        {
          "output_type": "execute_result",
          "data": {
            "text/plain": [
              "RandomizedSearchCV(cv=5, error_score=nan,\n",
              "                   estimator=RandomForestRegressor(bootstrap=True,\n",
              "                                                   ccp_alpha=0.0,\n",
              "                                                   criterion='mse',\n",
              "                                                   max_depth=None,\n",
              "                                                   max_features='auto',\n",
              "                                                   max_leaf_nodes=None,\n",
              "                                                   max_samples=None,\n",
              "                                                   min_impurity_decrease=0.0,\n",
              "                                                   min_impurity_split=None,\n",
              "                                                   min_samples_leaf=1,\n",
              "                                                   min_samples_split=2,\n",
              "                                                   min_weight_fraction_leaf=0.0,\n",
              "                                                   n_estimators=100,\n",
              "                                                   n_jobs=None, oob_score=Fals...\n",
              "                   param_distributions={'max_features': <scipy.stats._distn_infrastructure.rv_frozen object at 0x7f26a1597e80>,\n",
              "                                        'min_samples_split': <scipy.stats._distn_infrastructure.rv_frozen object at 0x7f26a159f160>,\n",
              "                                        'n_estimators': <scipy.stats._distn_infrastructure.rv_frozen object at 0x7f26a1597da0>},\n",
              "                   pre_dispatch='2*n_jobs', random_state=None, refit=True,\n",
              "                   return_train_score=True, scoring='neg_mean_squared_error',\n",
              "                   verbose=0)"
            ]
          },
          "metadata": {
            "tags": []
          },
          "execution_count": 53
        }
      ]
    },
    {
      "cell_type": "code",
      "metadata": {
        "id": "_ikcd89pn0KG",
        "colab_type": "code",
        "colab": {}
      },
      "source": [
        "final_model=randomsearch.best_estimator_\n"
      ],
      "execution_count": null,
      "outputs": []
    },
    {
      "cell_type": "code",
      "metadata": {
        "id": "iERoAYb-FADC",
        "colab_type": "code",
        "colab": {}
      },
      "source": [
        "x=(forest_predictions>0.5).astype(int)"
      ],
      "execution_count": null,
      "outputs": []
    },
    {
      "cell_type": "code",
      "metadata": {
        "id": "ImK0yY6yN3FI",
        "colab_type": "code",
        "colab": {
          "base_uri": "https://localhost:8080/",
          "height": 706
        },
        "outputId": "247ecb68-cffb-4467-b874-60294b1a10f8"
      },
      "source": [
        "x"
      ],
      "execution_count": null,
      "outputs": [
        {
          "output_type": "execute_result",
          "data": {
            "text/plain": [
              "array([0, 1, 1, 1, 0, 0, 0, 0, 1, 1, 1, 1, 0, 0, 0, 1, 0, 1, 0, 1, 0, 0,\n",
              "       1, 1, 0, 1, 0, 0, 1, 0, 0, 1, 1, 0, 0, 0, 1, 0, 0, 1, 0, 0, 0, 1,\n",
              "       1, 1, 0, 1, 0, 0, 0, 0, 1, 1, 0, 1, 1, 0, 1, 0, 0, 1, 0, 0, 0, 1,\n",
              "       1, 0, 1, 0, 0, 0, 0, 0, 1, 0, 0, 0, 1, 1, 0, 1, 1, 0, 1, 1, 0, 0,\n",
              "       1, 0, 0, 0, 0, 0, 0, 0, 0, 1, 1, 0, 0, 0, 0, 0, 0, 0, 1, 1, 0, 1,\n",
              "       0, 0, 0, 0, 0, 0, 0, 0, 0, 0, 0, 0, 0, 1, 0, 1, 0, 1, 1, 0, 0, 0,\n",
              "       0, 1, 0, 0, 1, 0, 0, 0, 0, 1, 1, 0, 0, 0, 1, 0, 0, 0, 0, 1, 0, 0,\n",
              "       0, 0, 1, 0, 0, 0, 0, 1, 0, 0, 0, 1, 1, 0, 0, 0, 0, 0, 1, 0, 0, 0,\n",
              "       0, 0, 0, 0, 0, 0, 0, 1, 1, 0, 1, 0, 0, 0, 1, 0, 1, 1, 1, 1, 0, 0,\n",
              "       1, 1, 0, 0, 0, 0, 1, 0, 0, 1, 1, 1, 0, 1, 0, 0, 0, 1, 1, 0, 1, 0,\n",
              "       1, 0, 0, 0, 1, 0, 0, 0, 0, 0, 1, 0, 0, 1, 0, 0, 0, 1, 0, 0, 0, 1,\n",
              "       0, 0, 0, 0, 0, 1, 1, 0, 0, 0, 0, 0, 0, 1, 1, 1, 1, 1, 0, 1, 0, 0,\n",
              "       0, 0, 0, 0, 1, 1, 0, 1, 1, 0, 1, 1, 0, 0, 0, 1, 0, 0, 0, 1, 0, 0,\n",
              "       1, 0, 0, 1, 1, 1, 0, 0, 0, 0, 0, 0, 1, 1, 1, 1, 0, 1, 0, 1, 1, 1,\n",
              "       0, 1, 1, 1, 0, 0, 0, 1, 1, 0, 1, 1, 0, 0, 1, 1, 0, 1, 0, 1, 1, 1,\n",
              "       1, 0, 0, 0, 1, 0, 0, 1, 1, 0, 1, 1, 0, 0, 0, 1, 1, 1, 1, 0, 0, 0,\n",
              "       0, 0, 0, 0, 1, 0, 1, 1, 0, 0, 0, 0, 0, 0, 1, 1, 1, 1, 1, 0, 1, 0,\n",
              "       0, 1, 1, 0, 0, 0, 1, 1, 0, 1, 0, 0, 0, 1, 0, 1, 1, 1, 0, 1, 1, 0,\n",
              "       0, 0, 0, 1, 0, 0, 0, 0, 0, 0, 0, 1, 0, 0, 0, 0, 1, 0, 1, 0, 1, 1,\n",
              "       0, 0, 0, 0, 0, 0, 0, 0, 1, 1, 0, 0, 1, 1, 1, 0, 0, 1, 0, 1, 0, 0,\n",
              "       1, 0, 0, 1, 1, 1, 1, 1, 1, 1, 0, 0, 0, 1, 0, 1, 0, 1, 1, 0, 0, 0,\n",
              "       0, 0, 0, 0, 0, 0, 0, 1, 0, 0, 1, 1, 0, 0, 0, 0, 0, 1, 0, 0, 0, 1,\n",
              "       1, 0, 1, 0, 0, 1, 0, 0, 0, 0, 0, 0, 1, 0, 0, 0, 0, 0, 0, 0, 1, 0,\n",
              "       1, 1, 0, 1, 1, 0, 1, 1, 0, 0, 1, 0, 1, 0, 1, 0, 0, 1, 0, 0, 1, 0,\n",
              "       0, 0, 1, 0, 0, 1, 0, 1, 0, 1, 0, 1, 1, 0, 0, 1, 0, 0, 1, 1, 0, 1,\n",
              "       1, 0, 0, 1, 1, 0, 1, 0, 1, 1, 0, 0, 0, 0, 0, 0, 0, 0, 0, 1, 1, 1,\n",
              "       1, 1, 1, 0, 1, 1, 0, 0, 1, 1, 0, 0, 0, 1, 0, 1, 0, 0, 0, 1, 0, 0,\n",
              "       0, 0, 1, 0, 0, 1, 1, 0, 0, 0, 1, 0, 0, 1, 1, 1, 0, 0, 1, 0, 0, 1,\n",
              "       0, 0, 1, 0, 0, 1, 1, 0, 0, 0, 0, 1, 0, 0, 1, 0, 1, 0, 0, 1, 0, 0,\n",
              "       0, 0, 0, 1, 0, 1, 1, 1, 0, 1, 0, 1, 0, 1, 0, 1, 0, 0, 0, 0, 0, 0,\n",
              "       1, 0, 0, 0, 1, 0, 0, 0, 0, 1, 1, 0, 0, 1, 0, 0, 0, 1, 0, 1, 0, 1,\n",
              "       0, 0, 0, 0, 0, 0, 0, 1, 1, 1, 1, 0, 0, 0, 0, 1, 0, 0, 1, 1, 0, 0,\n",
              "       0, 0, 1, 1, 1, 1, 1, 0, 1, 0, 0, 0, 1, 1, 0, 0, 1, 0, 0, 0, 1, 0,\n",
              "       1, 1, 0, 0, 1, 0, 0, 0, 0, 0, 0, 1, 0, 0, 1, 0, 1, 0, 1, 0, 0, 1,\n",
              "       0, 0, 1, 1, 0, 0, 1, 1, 0, 0, 0, 1, 0, 0, 1, 1, 0, 1, 0, 0, 0, 0,\n",
              "       0, 0, 0, 0, 1, 0, 0, 1, 0, 1, 1, 1, 0, 0, 0, 0, 1, 0, 1, 0, 0, 0,\n",
              "       0, 0, 0, 0, 1, 1, 0, 0, 0, 1, 1, 1, 1, 0, 0, 0, 0, 1, 0, 0, 0, 0,\n",
              "       0, 0, 0, 0, 0, 0, 1, 1, 0, 1, 0, 0, 0, 1, 1, 1, 1, 1, 0, 0, 0, 1,\n",
              "       0, 0, 1, 1, 0, 0, 1, 0, 0, 0, 0, 0, 0, 1, 0, 0, 0, 1, 0, 1, 1, 1,\n",
              "       1, 0, 0, 0, 1, 0, 0, 1, 1, 0, 0, 1, 0, 1, 0, 0, 1, 1, 0, 0, 0, 1,\n",
              "       1, 0, 0, 0, 0, 0, 0, 1, 0, 1, 0])"
            ]
          },
          "metadata": {
            "tags": []
          },
          "execution_count": 53
        }
      ]
    },
    {
      "cell_type": "code",
      "metadata": {
        "id": "7LFpkmepFGRV",
        "colab_type": "code",
        "colab": {}
      },
      "source": [
        "df=pd.DataFrame(x,index=train_set['PassengerId'])"
      ],
      "execution_count": null,
      "outputs": []
    },
    {
      "cell_type": "code",
      "metadata": {
        "id": "tFIKl_4HGKf9",
        "colab_type": "code",
        "colab": {}
      },
      "source": [
        "df=df.rename(columns={0:'Survived'})"
      ],
      "execution_count": null,
      "outputs": []
    },
    {
      "cell_type": "code",
      "metadata": {
        "id": "o2X75vEzGKy5",
        "colab_type": "code",
        "colab": {}
      },
      "source": [
        "df.to_csv('KaggleSols1.csv')"
      ],
      "execution_count": null,
      "outputs": []
    },
    {
      "cell_type": "code",
      "metadata": {
        "id": "DejYynW8GRIr",
        "colab_type": "code",
        "colab": {
          "base_uri": "https://localhost:8080/",
          "height": 431
        },
        "outputId": "a4db79af-7ff3-4a28-9bf4-a72e799b7083"
      },
      "source": [
        "df"
      ],
      "execution_count": null,
      "outputs": [
        {
          "output_type": "execute_result",
          "data": {
            "text/html": [
              "<div>\n",
              "<style scoped>\n",
              "    .dataframe tbody tr th:only-of-type {\n",
              "        vertical-align: middle;\n",
              "    }\n",
              "\n",
              "    .dataframe tbody tr th {\n",
              "        vertical-align: top;\n",
              "    }\n",
              "\n",
              "    .dataframe thead th {\n",
              "        text-align: right;\n",
              "    }\n",
              "</style>\n",
              "<table border=\"1\" class=\"dataframe\">\n",
              "  <thead>\n",
              "    <tr style=\"text-align: right;\">\n",
              "      <th></th>\n",
              "      <th>Survived</th>\n",
              "    </tr>\n",
              "    <tr>\n",
              "      <th>PassengerId</th>\n",
              "      <th></th>\n",
              "    </tr>\n",
              "  </thead>\n",
              "  <tbody>\n",
              "    <tr>\n",
              "      <th>1</th>\n",
              "      <td>0</td>\n",
              "    </tr>\n",
              "    <tr>\n",
              "      <th>2</th>\n",
              "      <td>1</td>\n",
              "    </tr>\n",
              "    <tr>\n",
              "      <th>3</th>\n",
              "      <td>1</td>\n",
              "    </tr>\n",
              "    <tr>\n",
              "      <th>4</th>\n",
              "      <td>1</td>\n",
              "    </tr>\n",
              "    <tr>\n",
              "      <th>5</th>\n",
              "      <td>0</td>\n",
              "    </tr>\n",
              "    <tr>\n",
              "      <th>...</th>\n",
              "      <td>...</td>\n",
              "    </tr>\n",
              "    <tr>\n",
              "      <th>887</th>\n",
              "      <td>0</td>\n",
              "    </tr>\n",
              "    <tr>\n",
              "      <th>888</th>\n",
              "      <td>1</td>\n",
              "    </tr>\n",
              "    <tr>\n",
              "      <th>889</th>\n",
              "      <td>0</td>\n",
              "    </tr>\n",
              "    <tr>\n",
              "      <th>890</th>\n",
              "      <td>1</td>\n",
              "    </tr>\n",
              "    <tr>\n",
              "      <th>891</th>\n",
              "      <td>0</td>\n",
              "    </tr>\n",
              "  </tbody>\n",
              "</table>\n",
              "<p>891 rows × 1 columns</p>\n",
              "</div>"
            ],
            "text/plain": [
              "             Survived\n",
              "PassengerId          \n",
              "1                   0\n",
              "2                   1\n",
              "3                   1\n",
              "4                   1\n",
              "5                   0\n",
              "...               ...\n",
              "887                 0\n",
              "888                 1\n",
              "889                 0\n",
              "890                 1\n",
              "891                 0\n",
              "\n",
              "[891 rows x 1 columns]"
            ]
          },
          "metadata": {
            "tags": []
          },
          "execution_count": 57
        }
      ]
    },
    {
      "cell_type": "code",
      "metadata": {
        "id": "MNfNbzaIG2xa",
        "colab_type": "code",
        "colab": {}
      },
      "source": [
        "test_set=pd.read_csv('test.csv')"
      ],
      "execution_count": null,
      "outputs": []
    },
    {
      "cell_type": "code",
      "metadata": {
        "id": "tCKRkHXgI97t",
        "colab_type": "code",
        "colab": {}
      },
      "source": [
        "labels=test_set['PassengerId']"
      ],
      "execution_count": null,
      "outputs": []
    },
    {
      "cell_type": "code",
      "metadata": {
        "id": "W2jMGFy5HC43",
        "colab_type": "code",
        "colab": {}
      },
      "source": [
        "test_set=test_set.drop(['Name','Ticket','Cabin'],axis=1)"
      ],
      "execution_count": null,
      "outputs": []
    },
    {
      "cell_type": "code",
      "metadata": {
        "id": "6z0-S-isHJLI",
        "colab_type": "code",
        "colab": {}
      },
      "source": [
        "test_set=test_set.drop(['PassengerId'],axis=1)"
      ],
      "execution_count": null,
      "outputs": []
    },
    {
      "cell_type": "code",
      "metadata": {
        "id": "A0FFgrm8HVgE",
        "colab_type": "code",
        "colab": {
          "base_uri": "https://localhost:8080/",
          "height": 424
        },
        "outputId": "319a2289-1b1e-4de2-d203-90f6cd524dfa"
      },
      "source": [
        "train_set_required"
      ],
      "execution_count": null,
      "outputs": [
        {
          "output_type": "execute_result",
          "data": {
            "text/html": [
              "<div>\n",
              "<style scoped>\n",
              "    .dataframe tbody tr th:only-of-type {\n",
              "        vertical-align: middle;\n",
              "    }\n",
              "\n",
              "    .dataframe tbody tr th {\n",
              "        vertical-align: top;\n",
              "    }\n",
              "\n",
              "    .dataframe thead th {\n",
              "        text-align: right;\n",
              "    }\n",
              "</style>\n",
              "<table border=\"1\" class=\"dataframe\">\n",
              "  <thead>\n",
              "    <tr style=\"text-align: right;\">\n",
              "      <th></th>\n",
              "      <th>Pclass</th>\n",
              "      <th>Sex</th>\n",
              "      <th>Age</th>\n",
              "      <th>SibSp</th>\n",
              "      <th>Parch</th>\n",
              "      <th>Fare</th>\n",
              "      <th>Embarked</th>\n",
              "    </tr>\n",
              "  </thead>\n",
              "  <tbody>\n",
              "    <tr>\n",
              "      <th>0</th>\n",
              "      <td>3</td>\n",
              "      <td>male</td>\n",
              "      <td>22.0</td>\n",
              "      <td>1</td>\n",
              "      <td>0</td>\n",
              "      <td>7.2500</td>\n",
              "      <td>S</td>\n",
              "    </tr>\n",
              "    <tr>\n",
              "      <th>1</th>\n",
              "      <td>1</td>\n",
              "      <td>female</td>\n",
              "      <td>38.0</td>\n",
              "      <td>1</td>\n",
              "      <td>0</td>\n",
              "      <td>71.2833</td>\n",
              "      <td>C</td>\n",
              "    </tr>\n",
              "    <tr>\n",
              "      <th>2</th>\n",
              "      <td>3</td>\n",
              "      <td>female</td>\n",
              "      <td>26.0</td>\n",
              "      <td>0</td>\n",
              "      <td>0</td>\n",
              "      <td>7.9250</td>\n",
              "      <td>S</td>\n",
              "    </tr>\n",
              "    <tr>\n",
              "      <th>3</th>\n",
              "      <td>1</td>\n",
              "      <td>female</td>\n",
              "      <td>35.0</td>\n",
              "      <td>1</td>\n",
              "      <td>0</td>\n",
              "      <td>53.1000</td>\n",
              "      <td>S</td>\n",
              "    </tr>\n",
              "    <tr>\n",
              "      <th>4</th>\n",
              "      <td>3</td>\n",
              "      <td>male</td>\n",
              "      <td>35.0</td>\n",
              "      <td>0</td>\n",
              "      <td>0</td>\n",
              "      <td>8.0500</td>\n",
              "      <td>S</td>\n",
              "    </tr>\n",
              "    <tr>\n",
              "      <th>...</th>\n",
              "      <td>...</td>\n",
              "      <td>...</td>\n",
              "      <td>...</td>\n",
              "      <td>...</td>\n",
              "      <td>...</td>\n",
              "      <td>...</td>\n",
              "      <td>...</td>\n",
              "    </tr>\n",
              "    <tr>\n",
              "      <th>886</th>\n",
              "      <td>2</td>\n",
              "      <td>male</td>\n",
              "      <td>27.0</td>\n",
              "      <td>0</td>\n",
              "      <td>0</td>\n",
              "      <td>13.0000</td>\n",
              "      <td>S</td>\n",
              "    </tr>\n",
              "    <tr>\n",
              "      <th>887</th>\n",
              "      <td>1</td>\n",
              "      <td>female</td>\n",
              "      <td>19.0</td>\n",
              "      <td>0</td>\n",
              "      <td>0</td>\n",
              "      <td>30.0000</td>\n",
              "      <td>S</td>\n",
              "    </tr>\n",
              "    <tr>\n",
              "      <th>888</th>\n",
              "      <td>3</td>\n",
              "      <td>female</td>\n",
              "      <td>26.0</td>\n",
              "      <td>1</td>\n",
              "      <td>2</td>\n",
              "      <td>23.4500</td>\n",
              "      <td>S</td>\n",
              "    </tr>\n",
              "    <tr>\n",
              "      <th>889</th>\n",
              "      <td>1</td>\n",
              "      <td>male</td>\n",
              "      <td>26.0</td>\n",
              "      <td>0</td>\n",
              "      <td>0</td>\n",
              "      <td>30.0000</td>\n",
              "      <td>C</td>\n",
              "    </tr>\n",
              "    <tr>\n",
              "      <th>890</th>\n",
              "      <td>3</td>\n",
              "      <td>male</td>\n",
              "      <td>32.0</td>\n",
              "      <td>0</td>\n",
              "      <td>0</td>\n",
              "      <td>7.7500</td>\n",
              "      <td>Q</td>\n",
              "    </tr>\n",
              "  </tbody>\n",
              "</table>\n",
              "<p>891 rows × 7 columns</p>\n",
              "</div>"
            ],
            "text/plain": [
              "     Pclass     Sex   Age  SibSp  Parch     Fare Embarked\n",
              "0         3    male  22.0      1      0   7.2500        S\n",
              "1         1  female  38.0      1      0  71.2833        C\n",
              "2         3  female  26.0      0      0   7.9250        S\n",
              "3         1  female  35.0      1      0  53.1000        S\n",
              "4         3    male  35.0      0      0   8.0500        S\n",
              "..      ...     ...   ...    ...    ...      ...      ...\n",
              "886       2    male  27.0      0      0  13.0000        S\n",
              "887       1  female  19.0      0      0  30.0000        S\n",
              "888       3  female  26.0      1      2  23.4500        S\n",
              "889       1    male  26.0      0      0  30.0000        C\n",
              "890       3    male  32.0      0      0   7.7500        Q\n",
              "\n",
              "[891 rows x 7 columns]"
            ]
          },
          "metadata": {
            "tags": []
          },
          "execution_count": 61
        }
      ]
    },
    {
      "cell_type": "code",
      "metadata": {
        "id": "0ZmZwRPyHcMa",
        "colab_type": "code",
        "colab": {}
      },
      "source": [
        "test_set.fillna(method='ffill',inplace=True)"
      ],
      "execution_count": null,
      "outputs": []
    },
    {
      "cell_type": "code",
      "metadata": {
        "id": "_QwpWGM0Hh4F",
        "colab_type": "code",
        "colab": {}
      },
      "source": [
        "transformed_test=full_pipeline.transform(test_set)\n",
        "final_predictions=forest_clf.predict(transformed_test)"
      ],
      "execution_count": null,
      "outputs": []
    },
    {
      "cell_type": "code",
      "metadata": {
        "id": "hS-iwCozH0ua",
        "colab_type": "code",
        "colab": {
          "base_uri": "https://localhost:8080/",
          "height": 34
        },
        "outputId": "f9669c1f-c96f-4fac-8c64-abaabd52c99c"
      },
      "source": [
        "final_predictions.shape"
      ],
      "execution_count": null,
      "outputs": [
        {
          "output_type": "execute_result",
          "data": {
            "text/plain": [
              "(418,)"
            ]
          },
          "metadata": {
            "tags": []
          },
          "execution_count": 29
        }
      ]
    },
    {
      "cell_type": "code",
      "metadata": {
        "id": "S5xDgKEFIaTz",
        "colab_type": "code",
        "colab": {}
      },
      "source": [
        "final=(final_predictions>0.5).astype(int)"
      ],
      "execution_count": null,
      "outputs": []
    },
    {
      "cell_type": "code",
      "metadata": {
        "id": "qJsiYyLcIv4d",
        "colab_type": "code",
        "colab": {
          "base_uri": "https://localhost:8080/",
          "height": 347
        },
        "outputId": "6486b508-f415-43f2-94e3-591550116467"
      },
      "source": [
        "final"
      ],
      "execution_count": null,
      "outputs": [
        {
          "output_type": "execute_result",
          "data": {
            "text/plain": [
              "array([0, 0, 0, 0, 0, 0, 1, 0, 1, 0, 0, 0, 1, 0, 1, 1, 0, 0, 0, 1, 0, 0,\n",
              "       1, 0, 1, 0, 1, 0, 1, 0, 0, 0, 0, 0, 0, 0, 0, 0, 0, 1, 0, 1, 0, 1,\n",
              "       1, 0, 0, 0, 1, 1, 0, 0, 1, 1, 0, 0, 0, 0, 0, 1, 0, 0, 0, 1, 1, 1,\n",
              "       1, 0, 0, 1, 1, 0, 0, 0, 1, 0, 0, 1, 0, 1, 1, 0, 0, 0, 0, 0, 1, 0,\n",
              "       1, 1, 0, 0, 1, 0, 0, 0, 1, 0, 0, 0, 1, 0, 0, 0, 1, 0, 0, 0, 0, 0,\n",
              "       0, 1, 1, 1, 1, 0, 0, 1, 0, 1, 1, 0, 1, 0, 0, 1, 0, 1, 0, 0, 0, 0,\n",
              "       0, 0, 0, 0, 0, 0, 0, 0, 0, 1, 0, 0, 1, 0, 0, 0, 1, 0, 1, 0, 0, 1,\n",
              "       0, 0, 1, 0, 1, 1, 1, 1, 1, 0, 0, 0, 0, 0, 1, 0, 0, 0, 0, 0, 0, 1,\n",
              "       1, 0, 1, 1, 0, 0, 1, 0, 1, 0, 1, 0, 0, 0, 0, 0, 0, 0, 1, 0, 1, 1,\n",
              "       0, 0, 1, 1, 0, 1, 0, 0, 1, 0, 1, 0, 0, 0, 0, 1, 0, 0, 1, 0, 1, 0,\n",
              "       1, 0, 1, 0, 1, 1, 0, 1, 0, 0, 0, 1, 0, 0, 0, 0, 0, 0, 1, 1, 1, 1,\n",
              "       0, 0, 0, 0, 1, 0, 1, 0, 1, 0, 0, 0, 0, 0, 0, 0, 1, 0, 0, 0, 1, 1,\n",
              "       0, 0, 0, 0, 0, 0, 0, 0, 1, 1, 0, 1, 0, 0, 0, 0, 0, 1, 1, 1, 1, 0,\n",
              "       0, 0, 0, 0, 0, 0, 0, 0, 0, 0, 1, 0, 0, 0, 0, 0, 0, 0, 1, 1, 0, 1,\n",
              "       0, 0, 0, 0, 0, 1, 1, 1, 0, 0, 0, 0, 0, 0, 0, 1, 1, 0, 1, 0, 0, 0,\n",
              "       1, 0, 0, 1, 0, 0, 0, 0, 0, 0, 0, 0, 0, 1, 0, 1, 0, 1, 0, 1, 1, 0,\n",
              "       0, 0, 1, 0, 1, 0, 0, 1, 0, 1, 1, 0, 1, 0, 0, 0, 1, 0, 0, 1, 0, 0,\n",
              "       1, 1, 0, 0, 0, 0, 0, 0, 1, 0, 0, 1, 0, 0, 0, 0, 0, 1, 0, 0, 0, 1,\n",
              "       0, 1, 0, 0, 1, 0, 1, 0, 0, 0, 0, 0, 1, 1, 1, 1, 0, 0, 1, 0, 0, 0])"
            ]
          },
          "metadata": {
            "tags": []
          },
          "execution_count": 69
        }
      ]
    },
    {
      "cell_type": "code",
      "metadata": {
        "id": "n9fE4AN4Iwab",
        "colab_type": "code",
        "colab": {}
      },
      "source": [
        "df=pd.DataFrame(final,index=labels)"
      ],
      "execution_count": null,
      "outputs": []
    },
    {
      "cell_type": "markdown",
      "metadata": {
        "id": "57aiMFYn4vRW",
        "colab_type": "text"
      },
      "source": [
        ""
      ]
    },
    {
      "cell_type": "code",
      "metadata": {
        "id": "Tcq36CTKI3SG",
        "colab_type": "code",
        "colab": {}
      },
      "source": [
        "df.rename(columns={0:'Survived'},inplace=True)"
      ],
      "execution_count": null,
      "outputs": []
    },
    {
      "cell_type": "code",
      "metadata": {
        "id": "T5ncYuSNI6Ns",
        "colab_type": "code",
        "colab": {
          "base_uri": "https://localhost:8080/",
          "height": 455
        },
        "outputId": "09acce2c-b5ff-430f-d202-8924a980b043"
      },
      "source": [
        "df"
      ],
      "execution_count": null,
      "outputs": [
        {
          "output_type": "execute_result",
          "data": {
            "text/html": [
              "<div>\n",
              "<style scoped>\n",
              "    .dataframe tbody tr th:only-of-type {\n",
              "        vertical-align: middle;\n",
              "    }\n",
              "\n",
              "    .dataframe tbody tr th {\n",
              "        vertical-align: top;\n",
              "    }\n",
              "\n",
              "    .dataframe thead th {\n",
              "        text-align: right;\n",
              "    }\n",
              "</style>\n",
              "<table border=\"1\" class=\"dataframe\">\n",
              "  <thead>\n",
              "    <tr style=\"text-align: right;\">\n",
              "      <th></th>\n",
              "      <th>Survived</th>\n",
              "    </tr>\n",
              "    <tr>\n",
              "      <th>PassengerId</th>\n",
              "      <th></th>\n",
              "    </tr>\n",
              "  </thead>\n",
              "  <tbody>\n",
              "    <tr>\n",
              "      <th>892</th>\n",
              "      <td>0</td>\n",
              "    </tr>\n",
              "    <tr>\n",
              "      <th>893</th>\n",
              "      <td>0</td>\n",
              "    </tr>\n",
              "    <tr>\n",
              "      <th>894</th>\n",
              "      <td>0</td>\n",
              "    </tr>\n",
              "    <tr>\n",
              "      <th>895</th>\n",
              "      <td>0</td>\n",
              "    </tr>\n",
              "    <tr>\n",
              "      <th>896</th>\n",
              "      <td>0</td>\n",
              "    </tr>\n",
              "    <tr>\n",
              "      <th>...</th>\n",
              "      <td>...</td>\n",
              "    </tr>\n",
              "    <tr>\n",
              "      <th>1305</th>\n",
              "      <td>0</td>\n",
              "    </tr>\n",
              "    <tr>\n",
              "      <th>1306</th>\n",
              "      <td>1</td>\n",
              "    </tr>\n",
              "    <tr>\n",
              "      <th>1307</th>\n",
              "      <td>0</td>\n",
              "    </tr>\n",
              "    <tr>\n",
              "      <th>1308</th>\n",
              "      <td>0</td>\n",
              "    </tr>\n",
              "    <tr>\n",
              "      <th>1309</th>\n",
              "      <td>0</td>\n",
              "    </tr>\n",
              "  </tbody>\n",
              "</table>\n",
              "<p>418 rows × 1 columns</p>\n",
              "</div>"
            ],
            "text/plain": [
              "             Survived\n",
              "PassengerId          \n",
              "892                 0\n",
              "893                 0\n",
              "894                 0\n",
              "895                 0\n",
              "896                 0\n",
              "...               ...\n",
              "1305                0\n",
              "1306                1\n",
              "1307                0\n",
              "1308                0\n",
              "1309                0\n",
              "\n",
              "[418 rows x 1 columns]"
            ]
          },
          "metadata": {
            "tags": []
          },
          "execution_count": 72
        }
      ]
    },
    {
      "cell_type": "code",
      "metadata": {
        "id": "xE74sfOnJT1i",
        "colab_type": "code",
        "colab": {}
      },
      "source": [
        "df.to_csv('Linregsols.csv')"
      ],
      "execution_count": null,
      "outputs": []
    },
    {
      "cell_type": "code",
      "metadata": {
        "id": "AxXGi168JYpM",
        "colab_type": "code",
        "colab": {
          "base_uri": "https://localhost:8080/",
          "height": 424
        },
        "outputId": "822b3ca1-441c-41ac-cccc-d6d22af40119"
      },
      "source": [
        "submission=pd.read_csv('gender_submission.csv')\n",
        "submission1=pd.DataFrame()\n",
        "submission1['PassengerId']=submission['PassengerId']\n",
        "submission1['Survived']=final_predictions\n",
        "submission1"
      ],
      "execution_count": null,
      "outputs": [
        {
          "output_type": "execute_result",
          "data": {
            "text/html": [
              "<div>\n",
              "<style scoped>\n",
              "    .dataframe tbody tr th:only-of-type {\n",
              "        vertical-align: middle;\n",
              "    }\n",
              "\n",
              "    .dataframe tbody tr th {\n",
              "        vertical-align: top;\n",
              "    }\n",
              "\n",
              "    .dataframe thead th {\n",
              "        text-align: right;\n",
              "    }\n",
              "</style>\n",
              "<table border=\"1\" class=\"dataframe\">\n",
              "  <thead>\n",
              "    <tr style=\"text-align: right;\">\n",
              "      <th></th>\n",
              "      <th>PassengerId</th>\n",
              "      <th>Survived</th>\n",
              "    </tr>\n",
              "  </thead>\n",
              "  <tbody>\n",
              "    <tr>\n",
              "      <th>0</th>\n",
              "      <td>892</td>\n",
              "      <td>0</td>\n",
              "    </tr>\n",
              "    <tr>\n",
              "      <th>1</th>\n",
              "      <td>893</td>\n",
              "      <td>0</td>\n",
              "    </tr>\n",
              "    <tr>\n",
              "      <th>2</th>\n",
              "      <td>894</td>\n",
              "      <td>0</td>\n",
              "    </tr>\n",
              "    <tr>\n",
              "      <th>3</th>\n",
              "      <td>895</td>\n",
              "      <td>1</td>\n",
              "    </tr>\n",
              "    <tr>\n",
              "      <th>4</th>\n",
              "      <td>896</td>\n",
              "      <td>0</td>\n",
              "    </tr>\n",
              "    <tr>\n",
              "      <th>...</th>\n",
              "      <td>...</td>\n",
              "      <td>...</td>\n",
              "    </tr>\n",
              "    <tr>\n",
              "      <th>413</th>\n",
              "      <td>1305</td>\n",
              "      <td>0</td>\n",
              "    </tr>\n",
              "    <tr>\n",
              "      <th>414</th>\n",
              "      <td>1306</td>\n",
              "      <td>1</td>\n",
              "    </tr>\n",
              "    <tr>\n",
              "      <th>415</th>\n",
              "      <td>1307</td>\n",
              "      <td>0</td>\n",
              "    </tr>\n",
              "    <tr>\n",
              "      <th>416</th>\n",
              "      <td>1308</td>\n",
              "      <td>0</td>\n",
              "    </tr>\n",
              "    <tr>\n",
              "      <th>417</th>\n",
              "      <td>1309</td>\n",
              "      <td>0</td>\n",
              "    </tr>\n",
              "  </tbody>\n",
              "</table>\n",
              "<p>418 rows × 2 columns</p>\n",
              "</div>"
            ],
            "text/plain": [
              "     PassengerId  Survived\n",
              "0            892         0\n",
              "1            893         0\n",
              "2            894         0\n",
              "3            895         1\n",
              "4            896         0\n",
              "..           ...       ...\n",
              "413         1305         0\n",
              "414         1306         1\n",
              "415         1307         0\n",
              "416         1308         0\n",
              "417         1309         0\n",
              "\n",
              "[418 rows x 2 columns]"
            ]
          },
          "metadata": {
            "tags": []
          },
          "execution_count": 25
        }
      ]
    },
    {
      "cell_type": "code",
      "metadata": {
        "id": "q62lXAcoLAu3",
        "colab_type": "code",
        "colab": {}
      },
      "source": [
        "submission.to_csv('submission2.csv',index=False)"
      ],
      "execution_count": null,
      "outputs": []
    },
    {
      "cell_type": "code",
      "metadata": {
        "id": "LGw3HwgCLGhT",
        "colab_type": "code",
        "colab": {
          "base_uri": "https://localhost:8080/",
          "height": 340
        },
        "outputId": "0dc12071-614e-4ee9-c4d2-70b5cf92133b"
      },
      "source": [
        "final"
      ],
      "execution_count": null,
      "outputs": [
        {
          "output_type": "execute_result",
          "data": {
            "text/plain": [
              "array([0, 0, 1, 1, 0, 0, 0, 0, 1, 0, 0, 0, 1, 0, 1, 1, 0, 1, 1, 1, 0, 0,\n",
              "       1, 1, 1, 0, 1, 1, 1, 0, 0, 0, 1, 0, 1, 0, 0, 0, 0, 1, 0, 1, 0, 1,\n",
              "       1, 0, 0, 0, 1, 1, 1, 0, 1, 1, 0, 0, 0, 0, 0, 1, 0, 1, 0, 1, 1, 1,\n",
              "       1, 0, 0, 1, 1, 0, 0, 0, 1, 0, 0, 1, 0, 1, 1, 0, 0, 0, 0, 0, 1, 0,\n",
              "       1, 1, 0, 0, 1, 0, 0, 0, 1, 0, 1, 0, 1, 0, 0, 0, 1, 0, 0, 0, 0, 0,\n",
              "       0, 1, 1, 1, 1, 0, 0, 1, 0, 1, 1, 0, 1, 0, 0, 1, 0, 1, 0, 0, 0, 0,\n",
              "       0, 0, 0, 0, 0, 0, 0, 0, 0, 1, 0, 0, 1, 0, 0, 0, 1, 0, 1, 0, 0, 1,\n",
              "       0, 0, 1, 1, 1, 1, 1, 1, 1, 1, 0, 0, 0, 0, 1, 0, 0, 0, 0, 0, 0, 1,\n",
              "       1, 1, 1, 1, 0, 0, 1, 0, 1, 0, 1, 1, 0, 0, 0, 0, 0, 0, 1, 0, 1, 0,\n",
              "       0, 0, 1, 1, 0, 1, 0, 0, 0, 0, 1, 0, 0, 0, 0, 1, 0, 0, 1, 0, 1, 0,\n",
              "       1, 0, 1, 1, 1, 1, 0, 1, 0, 0, 0, 1, 0, 0, 0, 0, 0, 1, 1, 1, 1, 1,\n",
              "       0, 0, 0, 0, 1, 0, 1, 0, 1, 0, 0, 0, 0, 0, 0, 0, 1, 0, 0, 0, 1, 1,\n",
              "       0, 0, 0, 0, 0, 0, 0, 0, 1, 1, 0, 1, 0, 0, 0, 0, 0, 1, 1, 0, 1, 0,\n",
              "       0, 0, 0, 0, 0, 0, 0, 0, 0, 0, 1, 0, 0, 0, 0, 1, 0, 0, 1, 1, 0, 1,\n",
              "       0, 0, 0, 1, 0, 0, 1, 1, 0, 0, 0, 0, 0, 0, 0, 1, 1, 0, 1, 0, 0, 0,\n",
              "       1, 0, 0, 1, 0, 0, 1, 0, 0, 0, 0, 0, 0, 1, 0, 1, 0, 0, 0, 1, 1, 0,\n",
              "       0, 0, 1, 0, 1, 0, 0, 1, 0, 1, 1, 1, 1, 0, 0, 0, 1, 0, 0, 1, 0, 0,\n",
              "       1, 1, 0, 0, 0, 0, 0, 0, 0, 0, 0, 1, 0, 0, 0, 0, 0, 1, 0, 0, 0, 1,\n",
              "       0, 1, 0, 0, 1, 0, 1, 0, 0, 0, 0, 0, 1, 1, 1, 1, 0, 0, 1, 0, 0, 0])"
            ]
          },
          "metadata": {
            "tags": []
          },
          "execution_count": 93
        }
      ]
    },
    {
      "cell_type": "code",
      "metadata": {
        "id": "Rf4fwjtqZPwn",
        "colab_type": "code",
        "colab": {
          "base_uri": "https://localhost:8080/",
          "height": 52
        },
        "outputId": "9129bafe-d182-4b83-a18b-e552d3b242a7"
      },
      "source": [
        "randomsearch.best_estimator_.feature_importances_"
      ],
      "execution_count": null,
      "outputs": [
        {
          "output_type": "execute_result",
          "data": {
            "text/plain": [
              "array([0.19747345, 0.22259019, 0.01343858, 0.00729068, 0.01693933,\n",
              "       0.1134717 , 0.15532674, 0.04371191, 0.03612918, 0.19362824])"
            ]
          },
          "metadata": {
            "tags": []
          },
          "execution_count": 75
        }
      ]
    },
    {
      "cell_type": "code",
      "metadata": {
        "id": "Ih5wLNWyqqxY",
        "colab_type": "code",
        "colab": {
          "base_uri": "https://localhost:8080/",
          "height": 167
        },
        "outputId": "c504951e-6f99-451a-96de-e75e3dd3e7cb"
      },
      "source": [
        "randomsearch.best_estimator"
      ],
      "execution_count": null,
      "outputs": [
        {
          "output_type": "error",
          "ename": "KeyError",
          "evalue": "ignored",
          "traceback": [
            "\u001b[0;31m---------------------------------------------------------------------------\u001b[0m",
            "\u001b[0;31mKeyError\u001b[0m                                  Traceback (most recent call last)",
            "\u001b[0;32m<ipython-input-77-52067bc24415>\u001b[0m in \u001b[0;36m<module>\u001b[0;34m()\u001b[0m\n\u001b[0;32m----> 1\u001b[0;31m \u001b[0mfull_pipeline\u001b[0m\u001b[0;34m.\u001b[0m\u001b[0mnamed_transformers_\u001b[0m\u001b[0;34m[\u001b[0m\u001b[0;34m'transformed_train'\u001b[0m\u001b[0;34m]\u001b[0m\u001b[0;34m\u001b[0m\u001b[0;34m\u001b[0m\u001b[0m\n\u001b[0m",
            "\u001b[0;31mKeyError\u001b[0m: 'transformed_train'"
          ]
        }
      ]
    }
  ]
}